{
 "cells": [
  {
   "cell_type": "markdown",
   "id": "c2e6d906-68de-469e-9a8c-542e48a4e497",
   "metadata": {
    "tags": []
   },
   "source": [
    "# File Setup"
   ]
  },
  {
   "cell_type": "code",
   "execution_count": 1,
   "id": "2a8b6f19-cbc1-42c5-8c8c-cde3d0ed59a4",
   "metadata": {},
   "outputs": [],
   "source": [
    "import pandas as pd\n",
    "import numpy as np\n",
    "import matplotlib.pyplot as plt\n",
    "import scipy as sp\n",
    "from sklearn.ensemble import GradientBoostingRegressor,GradientBoostingClassifier,RandomForestRegressor,RandomForestClassifier,VotingRegressor,VotingClassifier\n",
    "from sklearn.tree import DecisionTreeClassifier\n",
    "from sklearn.neighbors import KNeighborsClassifier\n",
    "from sklearn.naive_bayes import GaussianNB\n",
    "from sklearn.gaussian_process import GaussianProcessClassifier\n",
    "from sklearn.ensemble import AdaBoostClassifier\n",
    "from sklearn.discriminant_analysis import QuadraticDiscriminantAnalysis\n",
    "from sklearn.neural_network import MLPClassifier\n",
    "pd.options.mode.chained_assignment = None\n",
    "from sklearn.decomposition import PCA\n",
    "import datetime\n",
    "from sklearn.neural_network import MLPClassifier\n",
    "from sklearn.svm import LinearSVC\n",
    "from sklearn.linear_model import LogisticRegression\n",
    "from matplotlib.lines import Line2D"
   ]
  },
  {
   "cell_type": "markdown",
   "id": "fe60df35-f6f4-4547-80f9-4cffde2ad479",
   "metadata": {
    "tags": []
   },
   "source": [
    "# Load data"
   ]
  },
  {
   "cell_type": "code",
   "execution_count": 159,
   "id": "168f5031-7d8b-4f05-93be-160faa0b30ba",
   "metadata": {},
   "outputs": [],
   "source": [
    "df_processed_data = pd.read_csv('shannon_data_residential 2.csv')\n",
    "df_original = df_processed_data.copy()\n"
   ]
  },
  {
   "cell_type": "code",
   "execution_count": 160,
   "id": "0cab8a9f-35f9-4ddd-953b-1710c204b52a",
   "metadata": {},
   "outputs": [],
   "source": [
    "df_processed_data.columns = [x.strip('.x') for x in list(df_processed_data)]\n",
    "df_processed_data['date'] = [x.split(' ')[0] for x in df_processed_data['Date_Time']]\n",
    "df_processed_data['time'] = [x.split(' ')[1] for x in df_processed_data['Date_Time']]\n",
    "\n",
    "df_processed_data['date_count'] = [(datetime.datetime(int(x.split('/')[2]),int(x.split('/')[1]),int(x.split('/')[0]))-datetime.datetime(2003,1,1)).days for x in df_processed_data.date]\n",
    "df_processed_data['minutes'] = [int(x.split(':')[0])*60+int(x.split(':')[1]) for x in df_processed_data['time']]\n",
    "\n",
    "df_processed_data.drop(['Date_Time','date','time'],axis=1,inplace=True)"
   ]
  },
  {
   "cell_type": "code",
   "execution_count": 161,
   "id": "5ca25722-b864-44f2-84fe-aca2a6ff14cd",
   "metadata": {},
   "outputs": [
    {
     "data": {
      "text/plain": [
       "(array([    0.,     0.,     0.,     0.,     0.,     0.,     0.,     0.,\n",
       "            0.,     0.,     0.,     0.,     0.,     0.,     0.,     0.,\n",
       "            0.,     0.,     0.,     0.,     0.,     0.,     0.,     0.,\n",
       "            0.,     0.,     0.,     0.,     0.,     0.,     0.,     0.,\n",
       "            0.,     0.,     0.,     0.,     0.,     0.,     0., 56510.,\n",
       "         3548.,  3567.,  2694.,  1384.,  7771.,     0.,     0.,     0.,\n",
       "            0.]),\n",
       " array([ 0,  2,  4,  6,  8, 10, 12, 14, 16, 18, 20, 22, 24, 26, 28, 30, 32,\n",
       "        34, 36, 38, 40, 42, 44, 46, 48, 50, 52, 54, 56, 58, 60, 62, 64, 66,\n",
       "        68, 70, 72, 74, 76, 78, 80, 82, 84, 86, 88, 90, 92, 94, 96, 98]),\n",
       " <BarContainer object of 49 artists>)"
      ]
     },
     "execution_count": 161,
     "metadata": {},
     "output_type": "execute_result"
    },
    {
     "data": {
      "image/png": "[encoded data removed]",
      "text/plain": [
       "<Figure size 640x480 with 1 Axes>"
      ]
     },
     "metadata": {},
     "output_type": "display_data"
    }
   ],
   "source": [
    "plt.hist(df_processed_data['Percent_Not_Saved'],bins=np.arange(0,100,2))"
   ]
  },
  {
   "cell_type": "code",
   "execution_count": 162,
   "id": "3cba1b30-0c1a-49fa-9e8e-b749e28e8592",
   "metadata": {},
   "outputs": [],
   "source": [
    "# df_processed_data['minutes'] = [dates_dict['minutes'][x] for x in df_processed_data['OID_']]\n",
    "# df_processed_data['date_count'] = [dates_dict['date_count'][x] for x in df_processed_data['OID_']]"
   ]
  },
  {
   "cell_type": "code",
   "execution_count": 163,
   "id": "a58aea1e-d47b-4f98-9f77-d1fc0bc309cb",
   "metadata": {},
   "outputs": [],
   "source": [
    "# list(pd.read_csv('shannon_data_residential 1.csv'))"
   ]
  },
  {
   "cell_type": "code",
   "execution_count": 164,
   "id": "63d6a521-62e1-4e47-a9d1-c07a84ca1289",
   "metadata": {},
   "outputs": [],
   "source": [
    "# list(pd.read_csv('shannon_data_residential.csv'))"
   ]
  },
  {
   "cell_type": "markdown",
   "id": "c14214ec-09cb-473b-bf2c-3bcb70f2b8cf",
   "metadata": {
    "tags": []
   },
   "source": [
    "# Combining Some variables"
   ]
  },
  {
   "cell_type": "code",
   "execution_count": 165,
   "id": "a5b0e903-9c9d-4d2e-a424-b98034794a05",
   "metadata": {},
   "outputs": [],
   "source": [
    "def combine_cols(df,label):\n",
    "    dfc = df.copy()\n",
    "    cols = [x for x in df_numeric if label in x]\n",
    "    most_likely = dfc[cols].idxmax(axis=1)\n",
    "    most_likely = [x.strip(label) for x in most_likely]\n",
    "    most_likely = [x.replace('P','') for x in most_likely]\n",
    "    most_likely = [x.replace('plus','') for x in most_likely]\n",
    "    most_likely = [float(x) for x in most_likely]\n",
    "    dfc[f'most_likely_{label}'] = most_likely\n",
    "    dfc.drop(cols,axis=1,inplace=True)\n",
    "    return(dfc)"
   ]
  },
  {
   "cell_type": "markdown",
   "id": "2fae2c05-2ea2-4247-b0e2-36d92369a16b",
   "metadata": {
    "tags": []
   },
   "source": [
    "# Additional Preprocessing"
   ]
  },
  {
   "cell_type": "code",
   "execution_count": 166,
   "id": "c643b162-2120-48d9-bde5-d09df0e53a63",
   "metadata": {},
   "outputs": [],
   "source": [
    "# Split categorical and numeric variables\n",
    "numeric_vars = [x for x in list(df_processed_data) if type(df_processed_data.loc[0,x])!=type('str')]\n",
    "categorical_vars = [x for x in list(df_processed_data) if (type(df_processed_data.loc[0,x])==type('str'))&('Date_Time' not in x)]\n",
    "\n",
    "# convert categorical variables to one-hot-encoded variables (binary)\n",
    "df_one_hot_encoded = pd.get_dummies(df_processed_data[categorical_vars])\n",
    "\n",
    "# get just numeric variables\n",
    "df_numeric = df_processed_data[numeric_vars]\n",
    "df_numeric = df_numeric.astype(float)\n",
    "\n",
    "# Add back the one-hot-encoded categorical variables\n",
    "df_numeric = df_numeric.join(df_one_hot_encoded)\n",
    "\n",
    "# First, remove columns which have a significant portion of NAs (we're saying more than 1000\n",
    "na_count = df_numeric.isna().sum().sort_values(ascending=True)\n",
    "df_numeric = df_numeric[[x for x in list(df_numeric) if x not in list(na_count[na_count>11000].index)]]\n",
    "# Now for all the remaining nans, remove the rows\n",
    "df_numeric = df_numeric.dropna()"
   ]
  },
  {
   "cell_type": "code",
   "execution_count": 167,
   "id": "c8638f72-a31f-4b85-b845-8988b8ae24c0",
   "metadata": {},
   "outputs": [],
   "source": [
    "df_missing_GNS = df_processed_data[df_processed_data[[x for x in list(na_count[na_count>1].index)]]['GNS_Rep_Cost'].isna()]"
   ]
  },
  {
   "cell_type": "code",
   "execution_count": 168,
   "id": "c258a880-a477-41bf-8fc5-a17b4cd7cb30",
   "metadata": {},
   "outputs": [],
   "source": [
    "df_missing_GNS.to_csv('missing_gns_values.csv')"
   ]
  },
  {
   "cell_type": "code",
   "execution_count": 169,
   "id": "3af0ff1d-06a2-47cd-9d75-e48a36202d94",
   "metadata": {},
   "outputs": [
    {
     "data": {
      "text/plain": [
       "GNS_Age                    10253\n",
       "GNS_Storeys                10253\n",
       "GNS_Floor_Area             10253\n",
       "GNS_Site_Cover             10253\n",
       "GNS_Floor_Hgt              10253\n",
       "GNS_Rep_Cost               10253\n",
       "GNS_Num_Units              10253\n",
       "GNS_Neighb_Dist                0\n",
       "GNS_Use_Category            3056\n",
       "GNS_Construction_Type_1     3056\n",
       "GNS_Roof_Const             10253\n",
       "GNS_Wall_Const             10253\n",
       "GNS_Roof_Pitch             10253\n",
       "GNS_Parapet                10253\n",
       "dtype: int64"
      ]
     },
     "execution_count": 169,
     "metadata": {},
     "output_type": "execute_result"
    }
   ],
   "source": [
    "np.sum(df_missing_GNS[[x for x in list(df_missing_GNS) if 'GNS' in x]].isna())"
   ]
  },
  {
   "cell_type": "code",
   "execution_count": 170,
   "id": "c651b08a-4ec8-4085-8937-4f9aa477bdf1",
   "metadata": {},
   "outputs": [],
   "source": [
    "df_numeric = combine_cols(df_numeric,'Rooms.')\n",
    "df_numeric = combine_cols(df_numeric,'Beds.')\n",
    "df_numeric = combine_cols(df_numeric,'noVehc.')\n",
    "df_numeric = combine_cols(df_numeric,'children.')\n",
    "\n",
    "label = 'yrs_at_res.'\n",
    "df_numeric.rename(columns={'yrs_at_res.30more':'yrs_at_res.30'},inplace=True) \n",
    "cols = [x for x in df_numeric if label in x]\n",
    "most_likely = df_numeric[cols].idxmax(axis=1)\n",
    "most_likely = [x.strip(label) for x in most_likely]\n",
    "most_likely = [np.mean([float(y) for y in x.split('_')]) for x in most_likely]\n",
    "df_numeric[f'most_likely_{label}'] = most_likely\n",
    "df_numeric.drop(cols,axis=1,inplace=True)\n",
    "\n",
    "label = 'income.'\n",
    "df_numeric.rename(columns={'income.less5K':'income.5K',},inplace=True) \n",
    "cols = [x for x in df_numeric if (label in x)&('K' in x)]\n",
    "most_likely = df_numeric[cols].idxmax(axis=1)\n",
    "most_likely = [x.strip(label) for x in most_likely]\n",
    "most_likely = [x.replace('K','').replace('P','') for x in most_likely]\n",
    "most_likely = [np.mean([float(y) for y in x.split('_')]) for x in most_likely]\n",
    "df_numeric[f'most_likely_{label}'] = most_likely\n",
    "df_numeric.drop(cols,axis=1,inplace=True)\n",
    "\n",
    "label = 'hrsEmploy.'\n",
    "df_numeric.rename(columns={'hrsEmploy.60more':'hrsEmploy.60'},inplace=True) \n",
    "cols = [x for x in df_numeric if (label in x)]\n",
    "most_likely = df_numeric[cols].idxmax(axis=1)\n",
    "most_likely = [x.strip(label) for x in most_likely]\n",
    "most_likely = [np.mean([float(y) for y in x.split('_')]) for x in most_likely]\n",
    "df_numeric[f'most_likely_{label}'] = most_likely\n",
    "df_numeric.drop(cols,axis=1,inplace=True)\n",
    "\n",
    "df_numeric['earning_not_from_work'] = df_numeric['income.ACC']+df_numeric['income.supported']+df_numeric['income.jobSeeker']+df_numeric['income.soleParent']+df_numeric['income.otherBen']\n",
    "df_numeric['combined_not_working'] = df_numeric['employed.notInLF']+df_numeric['employed.Unemployed']\n",
    "df_numeric['earning_from_work'] = df_numeric['income.salary']+df_numeric['income.selfEmp']\n",
    "df_numeric['studying'] = df_numeric['study.fullTime']+df_numeric['study.partTime']\n",
    "df_numeric['diffCom.atleastSome'] = df_numeric['diffCom.some']+df_numeric['diffCom.aLot']+df_numeric['diffCom.cannot']\n",
    "df_numeric['diffWalk.atleastSome'] = df_numeric['diffWalk.some']+df_numeric['diffWalk.aLot']+df_numeric['diffWalk.cannot']\n",
    "df_numeric['homeOwn.OwnOrTrust'] = df_numeric['homeOwn.trust']+df_numeric['homeOwn.own']\n",
    "\n",
    "cols = [x for x in list(df_numeric) if 'damp' in x]\n",
    "numeric_damp = []\n",
    "for row in df_numeric[cols].idxmax(axis=1):\n",
    "    if row=='damp.no':\n",
    "        numeric_damp.append(0)\n",
    "    elif row=='damp.sometimes':\n",
    "        numeric_damp.append(1)\n",
    "    elif row=='damp.always':\n",
    "        numeric_damp.append(2)\n",
    "    else:\n",
    "        asdf\n",
    "df_numeric['dampness'] = numeric_damp\n",
    "\n",
    "heat_source_cols = [x for x in df_numeric if \"Heat_Source\" in x]\n",
    "fire_source_cols = [x for x in df_numeric if \"Fire_Cause\" in x]\n",
    "mould_cols = [x for x in df_numeric if 'mould' in x]\n",
    "fuel_cols = [x for x in df_numeric if 'fuel' in x]\n",
    "smoking_cols = [x for x in df_numeric if ('smoking' in x)&('regular' not in x)]\n",
    "dwelling_cols = [x for x in df_numeric if 'dwelling' in x]\n",
    "prev_residence_cols = [x for x in list(df_numeric) if ('res_5yrs_prev' in x)&('same' not in x)]\n",
    "employed_cols = [x for x in list(df_numeric) if ('employed' in x)]\n",
    "income_cols =  ['income.ACC','income.supported','income.jobSeeker','income.soleParent','income.otherBen','income.salary','income.selfEmp']\n",
    "damp_cols =  ['damp.no','damp.sometimes','damp.always']\n",
    "gns_use = [x for x in list(df_numeric) if 'GNS_Use_Category' in x]\n",
    "\n",
    "others_to_remove = ['OID_','MB2020_V2_','SA12018_V1','occupied','ResAway','nonPartnered','born.overseas','study.fullTime','study.partTime',\n",
    "                     'HSCert','HSDip','homeOwn.trust','homeOwn.own','diffCom.some','diffCom.aLot','diffCom.cannot','diffWalk.some','diffWalk.aLot','diffWalk.cannot',\n",
    "                    'age.30_64','age.15_29']\n",
    "\n",
    "temp_remove = ['Percent_Not_Saved','Damage_m2']\n",
    "\n",
    "removal_list = heat_source_cols+fire_source_cols+mould_cols+fuel_cols+smoking_cols+dwelling_cols+prev_residence_cols+employed_cols+income_cols+others_to_remove+damp_cols+gns_use+temp_remove\n",
    "\n",
    "df_numeric.drop(removal_list,axis=1,inplace=True)"
   ]
  },
  {
   "cell_type": "code",
   "execution_count": 171,
   "id": "18f78ea5-e4dc-498f-b9a0-b26b238246fa",
   "metadata": {},
   "outputs": [],
   "source": [
    "# percentage over 70,000 for income\n",
    "# just look at approx even split \n",
    "# age, just look at higher and lower bands.. may need to addtogether 15 and 65 approx."
   ]
  },
  {
   "cell_type": "markdown",
   "id": "53427325-b76b-4d4a-9479-e372ec83e4c8",
   "metadata": {},
   "source": [
    "**Now drop the variables which you won't have in a predictive model** \n",
    "\n",
    "This makes a massive difference. If you just put in all the variables, you will get a really good model for casualties.\n",
    "But the problem is that fatality and injury count are after the fact. I gather we want a predictive model.. or includes levers like arrival time "
   ]
  },
  {
   "cell_type": "code",
   "execution_count": 16,
   "id": "d9e4bb9d-2c81-4cf2-b1f1-dc1877a9a872",
   "metadata": {},
   "outputs": [],
   "source": [
    "df_numeric = df_numeric[[x for x in list(df_numeric) if x not in ['Injury_Count','Fatality_Count']]]"
   ]
  },
  {
   "cell_type": "code",
   "execution_count": 17,
   "id": "3654a27f-32a9-4a60-a709-de59231ed6da",
   "metadata": {},
   "outputs": [],
   "source": [
    "# also need to drop variables which are always zero\n",
    "df_numeric = df_numeric[[x for x in list(df_numeric) if x not in ['GNS_Use_Category_Appurtenant','GNS_Use_Category_Forestry, Mining','GNS_Roof_Const_Roughcast,etc']]]"
   ]
  },
  {
   "cell_type": "code",
   "execution_count": 18,
   "id": "8489f83a-47cd-44e7-88ed-225f0f008be3",
   "metadata": {},
   "outputs": [],
   "source": [
    "target_variable = 'Casualty_Count'\n",
    "independent_variables = [x for x in list(df_numeric) if x!=target_variable]\n",
    "\n",
    "# split into testing and training\n",
    "df_training = df_numeric.sample(int(len(df_numeric)*0.8))\n",
    "df_testing = df_numeric[~df_numeric.index.isin(df_training.index)]\n",
    "\n",
    "# Normalise the data\n",
    "training_mins = np.min(df_training[independent_variables])\n",
    "training_maxes = np.max(df_training[independent_variables])\n",
    "\n",
    "df_training.loc[:,independent_variables] = (df_training[independent_variables]-training_mins)/(training_maxes-training_mins)\n",
    "df_testing.loc[:,independent_variables] = (df_testing[independent_variables]-training_mins)/(training_maxes-training_mins)\n",
    "\n",
    "# Adding extra rows which have casualties so that the dataset is approximately equal\n",
    "df_training_0 = df_training[df_training[target_variable]==0]\n",
    "df_training_gt0 = df_training[df_training[target_variable]>0]\n",
    "df_training = df_training_0.append(pd.concat([df_training_gt0]*int(1+len(df_training_0)/len(df_training_gt0))))\n"
   ]
  },
  {
   "cell_type": "code",
   "execution_count": 19,
   "id": "1daf6bd6-be62-4195-ac24-1606976bd114",
   "metadata": {},
   "outputs": [],
   "source": [
    "# # Just to make it faster\n",
    "# df_training = df_training.sample(50000)"
   ]
  },
  {
   "cell_type": "markdown",
   "id": "214fcb0f-346d-45f3-a9fc-ae10fdf4ea6d",
   "metadata": {
    "tags": []
   },
   "source": [
    "# Regression Model Training and predictions"
   ]
  },
  {
   "cell_type": "code",
   "execution_count": 20,
   "id": "073990cf-4088-41c3-8d7c-6288e909cf6a",
   "metadata": {},
   "outputs": [],
   "source": [
    "# # Train the model\n",
    "# rf = RandomForestRegressor()\n",
    "# rf.fit(df_training[independent_variables],df_training[target_variable])"
   ]
  },
  {
   "cell_type": "code",
   "execution_count": 21,
   "id": "d70fa3e6-4071-4807-91b0-35f4bd403604",
   "metadata": {},
   "outputs": [],
   "source": [
    "# predictions = rf.predict(df_testing[independent_variables])"
   ]
  },
  {
   "cell_type": "code",
   "execution_count": 22,
   "id": "bf311cc6-0efc-42ec-a27b-d825a58ee0d9",
   "metadata": {},
   "outputs": [],
   "source": [
    "# df_testing.loc[:,'Casualty_Count_predicted'] = predictions\n",
    "# df_testing.loc[:,'error'] = df_testing['Casualty_Count']-df_testing['Casualty_Count_predicted']"
   ]
  },
  {
   "cell_type": "markdown",
   "id": "1ada3542-f4cf-497c-a750-631bccb44fd8",
   "metadata": {
    "tags": []
   },
   "source": [
    "## Regression Results Analysis"
   ]
  },
  {
   "cell_type": "code",
   "execution_count": 23,
   "id": "2c39f7cd-ad1d-46fc-8e83-871abaaf8cb0",
   "metadata": {},
   "outputs": [],
   "source": [
    "# plt.hist(df_testing['Casualty_Count'])\n",
    "# plt.hist(df_testing['Casualty_Count_predicted'])\n",
    "# plt.title('histogram of actual casualties (blue) and casualties predicted (orange)')"
   ]
  },
  {
   "cell_type": "code",
   "execution_count": 24,
   "id": "59254223-fb59-4603-ad35-808355e60a9c",
   "metadata": {},
   "outputs": [],
   "source": [
    "# plt.hist(df_testing['error'])\n",
    "# plt.title('histogram of the difference between actual casualties and casualties predicted')"
   ]
  },
  {
   "cell_type": "code",
   "execution_count": 25,
   "id": "4ce85832-0e95-4e6d-ba51-986f2ea1314e",
   "metadata": {},
   "outputs": [],
   "source": [
    "# np.max(df_testing.error)"
   ]
  },
  {
   "cell_type": "code",
   "execution_count": 26,
   "id": "a7d6a390-9402-458c-98cf-b8c2919f69e1",
   "metadata": {},
   "outputs": [],
   "source": [
    "# np.min(df_testing.error)"
   ]
  },
  {
   "cell_type": "code",
   "execution_count": 27,
   "id": "0fd77ee8-9bac-49a7-8e87-feca84ea5760",
   "metadata": {},
   "outputs": [],
   "source": [
    "# np.mean(df_testing.error**2)"
   ]
  },
  {
   "cell_type": "code",
   "execution_count": 28,
   "id": "d49709e3-418d-43e3-918a-22db2fa5ffcd",
   "metadata": {},
   "outputs": [],
   "source": [
    "# np.median(df_testing.error**2)"
   ]
  },
  {
   "cell_type": "code",
   "execution_count": 29,
   "id": "3660bc33-d91b-4ca0-bffe-bcca0217dd47",
   "metadata": {},
   "outputs": [],
   "source": [
    "# df_testing.loc[:,'Casualty_Count_predicted_int'] = [int(x) for x in df_testing['Casualty_Count_predicted']]\n",
    "# df_testing.loc[:,'error_int'] = df_testing['Casualty_Count']-[int(x) for x in df_testing['Casualty_Count_predicted_int']]\n"
   ]
  },
  {
   "cell_type": "code",
   "execution_count": 30,
   "id": "52508cb7-9fe6-41f5-b315-8a5c9cb5694f",
   "metadata": {},
   "outputs": [],
   "source": [
    "# actual_vs_predicted_casuality_dict = {}\n",
    "# for casualty_count,group in df_testing.groupby('Casualty_Count'):\n",
    "#     actual_vs_predicted_casuality_dict.update({\n",
    "#         casualty_count:{k:len(v) for k,v in group.groupby('Casualty_Count_predicted_int')}\n",
    "#     })\n",
    "    "
   ]
  },
  {
   "cell_type": "code",
   "execution_count": 31,
   "id": "39ec3f9e-c087-44b3-b3b6-55c50dfab9c3",
   "metadata": {},
   "outputs": [],
   "source": [
    "# group['Casualty_Count_predicted_int']"
   ]
  },
  {
   "cell_type": "code",
   "execution_count": 32,
   "id": "2964b47a-57d1-484d-96fe-d987c274da88",
   "metadata": {},
   "outputs": [],
   "source": [
    "# df_result_summary = pd.DataFrame.from_dict(actual_vs_predicted_casuality_dict,orient='index').fillna(0)\n",
    "# print('compare actual casualties vs predicted. rows are actual, columns are predicted. Numbers in table are count')\n",
    "# df_result_summary"
   ]
  },
  {
   "cell_type": "code",
   "execution_count": 33,
   "id": "21886475-bb19-4bb6-8a74-0f80c32c9a9c",
   "metadata": {},
   "outputs": [],
   "source": [
    "# df_feature_importance = pd.DataFrame.from_dict({x:y for x,y in zip(list(independent_variables),rf.feature_importances_)},orient='index')\n",
    "# df_feature_importance.rename(columns={0:'importance'},inplace=True)\n",
    "# df_feature_importance.sort_values('importance',ascending=False,inplace=True)\n",
    "# df_feature_importance"
   ]
  },
  {
   "cell_type": "markdown",
   "id": "ec5d1734-c977-40cc-8f34-bc8d13cf0127",
   "metadata": {},
   "source": [
    "# Classifier testing"
   ]
  },
  {
   "cell_type": "code",
   "execution_count": 34,
   "id": "a5ccb1df-7a43-4fd7-8fcb-cfe0f79c89e7",
   "metadata": {},
   "outputs": [],
   "source": [
    "df_testing.loc[:,target_variable] = [0 if x<1 else 1 for x in df_testing[target_variable]]\n",
    "df_training.loc[:,target_variable] = [0 if x<1 else 1 for x in df_training[target_variable]]"
   ]
  },
  {
   "cell_type": "code",
   "execution_count": 35,
   "id": "5c9bda22-d90f-4e52-ad57-00291f7f90ef",
   "metadata": {},
   "outputs": [],
   "source": [
    "# Train the model\n",
    "def model_test(rf,independent_variables):\n",
    "    # rf = GradientBoostingClassifier()\n",
    "    rf.fit(df_training[independent_variables],df_training[target_variable])\n",
    "\n",
    "    predictions = rf.predict(df_testing[independent_variables])\n",
    "\n",
    "    df_testing.loc[:,'Casualty_Count_predicted'] = predictions\n",
    "    df_testing.loc[:,'error'] = df_testing['Casualty_Count']-df_testing['Casualty_Count_predicted']\n",
    "\n",
    "    actual_vs_predicted_casuality_dict = {}\n",
    "    for casualty_count,group in df_testing.groupby('Casualty_Count'):\n",
    "        actual_vs_predicted_casuality_dict.update({\n",
    "            casualty_count:{k:len(v) for k,v in group.groupby('Casualty_Count_predicted')}\n",
    "        })\n",
    "\n",
    "    df_result_summary = pd.DataFrame.from_dict(actual_vs_predicted_casuality_dict,orient='index').fillna(0)\n",
    "    \n",
    "    tp = df_result_summary.loc[1,1]\n",
    "    tn = df_result_summary.loc[0,0]\n",
    "    fn = df_result_summary.loc[1,0]\n",
    "    fp = df_result_summary.loc[0,1]\n",
    "\n",
    "    fscore = 2*tp/(2*tp+fp+fn)\n",
    "\n",
    "    print('F-score',fscore)\n",
    "    print('')\n",
    "    \n",
    "    print('compare actual casualties vs predicted. rows are actual, columns are predicted. Numbers in table are count')\n",
    "    return(df_result_summary,rf)"
   ]
  },
  {
   "cell_type": "code",
   "execution_count": 36,
   "id": "a49c8308-ef93-4aae-addd-b89fbb49c326",
   "metadata": {},
   "outputs": [
    {
     "name": "stdout",
     "output_type": "stream",
     "text": [
      "F-score 0.20029239766081872\n",
      "\n",
      "compare actual casualties vs predicted. rows are actual, columns are predicted. Numbers in table are count\n"
     ]
    },
    {
     "data": {
      "text/plain": [
       "(      0    1\n",
       " 0  9492  569\n",
       " 1   525  137,\n",
       " DecisionTreeClassifier())"
      ]
     },
     "execution_count": 36,
     "metadata": {},
     "output_type": "execute_result"
    }
   ],
   "source": [
    "model_test(DecisionTreeClassifier(),independent_variables)"
   ]
  },
  {
   "cell_type": "code",
   "execution_count": 37,
   "id": "b460b582-59af-4e64-9fe4-64e7b87298d7",
   "metadata": {},
   "outputs": [
    {
     "name": "stdout",
     "output_type": "stream",
     "text": [
      "F-score 0.10909090909090909\n",
      "\n",
      "compare actual casualties vs predicted. rows are actual, columns are predicted. Numbers in table are count\n"
     ]
    },
    {
     "data": {
      "text/plain": [
       "(      0     1\n",
       " 0  8279  1782\n",
       " 1   521   141,\n",
       " KNeighborsClassifier())"
      ]
     },
     "execution_count": 37,
     "metadata": {},
     "output_type": "execute_result"
    }
   ],
   "source": [
    "model_test(KNeighborsClassifier(),independent_variables)"
   ]
  },
  {
   "cell_type": "code",
   "execution_count": 38,
   "id": "cb85102b-bdf5-4d02-9fc3-72f4ffd79935",
   "metadata": {},
   "outputs": [
    {
     "name": "stdout",
     "output_type": "stream",
     "text": [
      "F-score 0.11830113014947138\n",
      "\n",
      "compare actual casualties vs predicted. rows are actual, columns are predicted. Numbers in table are count\n"
     ]
    },
    {
     "data": {
      "text/plain": [
       "(     0     1\n",
       " 0  400  9661\n",
       " 1   13   649,\n",
       " GaussianNB())"
      ]
     },
     "execution_count": 38,
     "metadata": {},
     "output_type": "execute_result"
    }
   ],
   "source": [
    "model_test(GaussianNB(),independent_variables)"
   ]
  },
  {
   "cell_type": "code",
   "execution_count": 39,
   "id": "5b10d106-50da-4d83-8253-9e86ba2372ee",
   "metadata": {},
   "outputs": [],
   "source": [
    "# this one was too slow, don't run\n",
    "# model_test(GaussianProcessClassifier(),independent_variables)"
   ]
  },
  {
   "cell_type": "code",
   "execution_count": 40,
   "id": "59b1c252-eec9-42af-ad09-b42e2390301c",
   "metadata": {},
   "outputs": [
    {
     "name": "stdout",
     "output_type": "stream",
     "text": [
      "F-score 0.17164931138730266\n",
      "\n",
      "compare actual casualties vs predicted. rows are actual, columns are predicted. Numbers in table are count\n"
     ]
    },
    {
     "data": {
      "text/plain": [
       "(      0     1\n",
       " 0  5280  4781\n",
       " 1   151   511,\n",
       " AdaBoostClassifier())"
      ]
     },
     "execution_count": 40,
     "metadata": {},
     "output_type": "execute_result"
    }
   ],
   "source": [
    "model_test(AdaBoostClassifier(),independent_variables)"
   ]
  },
  {
   "cell_type": "code",
   "execution_count": 41,
   "id": "32ae4403-0103-4912-8743-a61075a09a6e",
   "metadata": {},
   "outputs": [
    {
     "name": "stdout",
     "output_type": "stream",
     "text": [
      "F-score 0.11703650680028632\n",
      "\n",
      "compare actual casualties vs predicted. rows are actual, columns are predicted. Numbers in table are count\n"
     ]
    },
    {
     "name": "stderr",
     "output_type": "stream",
     "text": [
      "C:\\Users\\shannonb\\AppData\\Local\\miniconda3\\envs\\p37\\lib\\site-packages\\sklearn\\discriminant_analysis.py:878: UserWarning: Variables are collinear\n",
      "  warnings.warn(\"Variables are collinear\")\n"
     ]
    },
    {
     "data": {
      "text/plain": [
       "(     0     1\n",
       " 0  201  9860\n",
       " 1    8   654,\n",
       " QuadraticDiscriminantAnalysis())"
      ]
     },
     "execution_count": 41,
     "metadata": {},
     "output_type": "execute_result"
    }
   ],
   "source": [
    "model_test(QuadraticDiscriminantAnalysis(),independent_variables)"
   ]
  },
  {
   "cell_type": "code",
   "execution_count": 42,
   "id": "e98fad5c-91c3-42d9-91e0-06cadd1fd21b",
   "metadata": {},
   "outputs": [],
   "source": [
    "# # this was slow, but bearably so, also not very good \n",
    "# model_test(MLPClassifier(),independent_variables)"
   ]
  },
  {
   "cell_type": "code",
   "execution_count": 43,
   "id": "d3372870-5327-4727-b226-167077ac0af2",
   "metadata": {},
   "outputs": [
    {
     "name": "stdout",
     "output_type": "stream",
     "text": [
      "F-score 0.07319952774498228\n",
      "\n",
      "compare actual casualties vs predicted. rows are actual, columns are predicted. Numbers in table are count\n"
     ]
    },
    {
     "data": {
      "text/plain": [
       "(      0    1\n",
       " 0  9907  154\n",
       " 1   631   31,\n",
       " RandomForestClassifier())"
      ]
     },
     "execution_count": 43,
     "metadata": {},
     "output_type": "execute_result"
    }
   ],
   "source": [
    "model_test(RandomForestClassifier(),independent_variables)"
   ]
  },
  {
   "cell_type": "code",
   "execution_count": 44,
   "id": "aa57c180-1177-499a-b976-78dcfb488264",
   "metadata": {},
   "outputs": [
    {
     "name": "stdout",
     "output_type": "stream",
     "text": [
      "F-score 0.17747777411919657\n",
      "\n",
      "compare actual casualties vs predicted. rows are actual, columns are predicted. Numbers in table are count\n"
     ]
    },
    {
     "data": {
      "text/plain": [
       "(      0     1\n",
       " 0  5188  4873\n",
       " 1   123   539,\n",
       " GradientBoostingClassifier())"
      ]
     },
     "execution_count": 44,
     "metadata": {},
     "output_type": "execute_result"
    }
   ],
   "source": [
    "model_test(GradientBoostingClassifier(),independent_variables)"
   ]
  },
  {
   "cell_type": "code",
   "execution_count": 45,
   "id": "a6878a19-0edf-477d-88d1-3caae1db590c",
   "metadata": {},
   "outputs": [
    {
     "name": "stdout",
     "output_type": "stream",
     "text": [
      "F-score 0.13902818606259726\n",
      "\n",
      "compare actual casualties vs predicted. rows are actual, columns are predicted. Numbers in table are count\n"
     ]
    },
    {
     "data": {
      "text/plain": [
       "(      0     1\n",
       " 0  5342  4719\n",
       " 1   260   402,\n",
       " LinearSVC())"
      ]
     },
     "execution_count": 45,
     "metadata": {},
     "output_type": "execute_result"
    }
   ],
   "source": [
    "model_test(LinearSVC(),independent_variables)"
   ]
  },
  {
   "cell_type": "code",
   "execution_count": 46,
   "id": "1c334733-f167-4c12-b50d-3ffb5a4531db",
   "metadata": {},
   "outputs": [
    {
     "name": "stdout",
     "output_type": "stream",
     "text": [
      "F-score 0.1352971399212194\n",
      "\n",
      "compare actual casualties vs predicted. rows are actual, columns are predicted. Numbers in table are count\n"
     ]
    },
    {
     "name": "stderr",
     "output_type": "stream",
     "text": [
      "C:\\Users\\shannonb\\AppData\\Local\\miniconda3\\envs\\p37\\lib\\site-packages\\sklearn\\linear_model\\_logistic.py:818: ConvergenceWarning: lbfgs failed to converge (status=1):\n",
      "STOP: TOTAL NO. of ITERATIONS REACHED LIMIT.\n",
      "\n",
      "Increase the number of iterations (max_iter) or scale the data as shown in:\n",
      "    https://scikit-learn.org/stable/modules/preprocessing.html\n",
      "Please also refer to the documentation for alternative solver options:\n",
      "    https://scikit-learn.org/stable/modules/linear_model.html#logistic-regression\n",
      "  extra_warning_msg=_LOGISTIC_SOLVER_CONVERGENCE_MSG,\n"
     ]
    },
    {
     "data": {
      "text/plain": [
       "(      0     1\n",
       " 0  5279  4782\n",
       " 1   267   395,\n",
       " LogisticRegression())"
      ]
     },
     "execution_count": 46,
     "metadata": {},
     "output_type": "execute_result"
    }
   ],
   "source": [
    "model_test(LogisticRegression(),independent_variables)"
   ]
  },
  {
   "cell_type": "markdown",
   "id": "b2a893ec-1278-4921-b4f7-a4ce61eb3722",
   "metadata": {},
   "source": [
    "Test a Multi-layer Perceptron"
   ]
  },
  {
   "cell_type": "code",
   "execution_count": 47,
   "id": "61a61121-b718-40ac-bdef-bb5b52c75383",
   "metadata": {},
   "outputs": [
    {
     "name": "stdout",
     "output_type": "stream",
     "text": [
      "F-score 0.11235059760956176\n",
      "\n",
      "compare actual casualties vs predicted. rows are actual, columns are predicted. Numbers in table are count\n"
     ]
    },
    {
     "name": "stderr",
     "output_type": "stream",
     "text": [
      "C:\\Users\\shannonb\\AppData\\Local\\miniconda3\\envs\\p37\\lib\\site-packages\\sklearn\\neural_network\\_multilayer_perceptron.py:696: ConvergenceWarning: Stochastic Optimizer: Maximum iterations (200) reached and the optimization hasn't converged yet.\n",
      "  ConvergenceWarning,\n"
     ]
    },
    {
     "data": {
      "text/plain": [
       "(      0     1\n",
       " 0  8354  1707\n",
       " 1   521   141,\n",
       " MLPClassifier())"
      ]
     },
     "execution_count": 47,
     "metadata": {},
     "output_type": "execute_result"
    }
   ],
   "source": [
    "model_test(MLPClassifier(),independent_variables)"
   ]
  },
  {
   "cell_type": "code",
   "execution_count": 48,
   "id": "09bf6d6c-aaf4-4f9d-b5ad-ab7c92ed4253",
   "metadata": {},
   "outputs": [
    {
     "name": "stdout",
     "output_type": "stream",
     "text": [
      "F-score 0.13333333333333333\n",
      "\n",
      "compare actual casualties vs predicted. rows are actual, columns are predicted. Numbers in table are count\n"
     ]
    },
    {
     "name": "stderr",
     "output_type": "stream",
     "text": [
      "C:\\Users\\shannonb\\AppData\\Local\\miniconda3\\envs\\p37\\lib\\site-packages\\sklearn\\neural_network\\_multilayer_perceptron.py:696: ConvergenceWarning: Stochastic Optimizer: Maximum iterations (200) reached and the optimization hasn't converged yet.\n",
      "  ConvergenceWarning,\n"
     ]
    },
    {
     "data": {
      "text/plain": [
       "(      0     1\n",
       " 0  7307  2754\n",
       " 1   418   244,\n",
       " MLPClassifier(activation='logistic'))"
      ]
     },
     "execution_count": 48,
     "metadata": {},
     "output_type": "execute_result"
    }
   ],
   "source": [
    "model_test(MLPClassifier(activation='logistic'),independent_variables)"
   ]
  },
  {
   "cell_type": "code",
   "execution_count": 49,
   "id": "249bd5d6-d15b-41bc-bee1-12d7c56ead27",
   "metadata": {},
   "outputs": [
    {
     "name": "stdout",
     "output_type": "stream",
     "text": [
      "F-score 0.1222169587873046\n",
      "\n",
      "compare actual casualties vs predicted. rows are actual, columns are predicted. Numbers in table are count\n"
     ]
    },
    {
     "name": "stderr",
     "output_type": "stream",
     "text": [
      "C:\\Users\\shannonb\\AppData\\Local\\miniconda3\\envs\\p37\\lib\\site-packages\\sklearn\\neural_network\\_multilayer_perceptron.py:696: ConvergenceWarning: Stochastic Optimizer: Maximum iterations (200) reached and the optimization hasn't converged yet.\n",
      "  ConvergenceWarning,\n"
     ]
    },
    {
     "data": {
      "text/plain": [
       "(      0     1\n",
       " 0  6759  3302\n",
       " 1   404   258,\n",
       " MLPClassifier(hidden_layer_sizes=20))"
      ]
     },
     "execution_count": 49,
     "metadata": {},
     "output_type": "execute_result"
    }
   ],
   "source": [
    "model_test(MLPClassifier(hidden_layer_sizes=20),independent_variables)"
   ]
  },
  {
   "cell_type": "markdown",
   "id": "9956beda-aa1b-4a85-98b7-b36b1d0d0bd3",
   "metadata": {},
   "source": [
    "**My top three algorithms:**\n",
    " - GradientBoostingClassifier\n",
    " - AdaBoostClassifier\n",
    " - KNeighborsClassifier"
   ]
  },
  {
   "cell_type": "markdown",
   "id": "44a8cadd-f571-4522-a329-648073e0e6bb",
   "metadata": {},
   "source": [
    "# VotingClassifier"
   ]
  },
  {
   "cell_type": "markdown",
   "id": "1120a15a-cb5a-4223-8d54-3b81fa03fd10",
   "metadata": {},
   "source": [
    "Use a comination of algorithms (they 'vote' for the best solution). This can smooth out quirks in the results and sometimes improve results"
   ]
  },
  {
   "cell_type": "code",
   "execution_count": 50,
   "id": "1ae3f910-95c4-475d-afde-27dc3ffac91e",
   "metadata": {},
   "outputs": [
    {
     "name": "stderr",
     "output_type": "stream",
     "text": [
      "C:\\Users\\shannonb\\AppData\\Local\\miniconda3\\envs\\p37\\lib\\site-packages\\sklearn\\linear_model\\_logistic.py:818: ConvergenceWarning: lbfgs failed to converge (status=1):\n",
      "STOP: TOTAL NO. of ITERATIONS REACHED LIMIT.\n",
      "\n",
      "Increase the number of iterations (max_iter) or scale the data as shown in:\n",
      "    https://scikit-learn.org/stable/modules/preprocessing.html\n",
      "Please also refer to the documentation for alternative solver options:\n",
      "    https://scikit-learn.org/stable/modules/linear_model.html#logistic-regression\n",
      "  extra_warning_msg=_LOGISTIC_SOLVER_CONVERGENCE_MSG,\n"
     ]
    },
    {
     "name": "stdout",
     "output_type": "stream",
     "text": [
      "F-score 0.18236301369863014\n",
      "\n",
      "compare actual casualties vs predicted. rows are actual, columns are predicted. Numbers in table are count\n"
     ]
    },
    {
     "data": {
      "text/plain": [
       "(      0     1\n",
       " 0  6477  3584\n",
       " 1   236   426,\n",
       " VotingClassifier(estimators=[('gb', GradientBoostingClassifier()),\n",
       "                              ('ab', AdaBoostClassifier()),\n",
       "                              ('kn', DecisionTreeClassifier()),\n",
       "                              ('ls', LinearSVC()),\n",
       "                              ('lr', LogisticRegression())]))"
      ]
     },
     "execution_count": 50,
     "metadata": {},
     "output_type": "execute_result"
    }
   ],
   "source": [
    "vc = VotingClassifier([('gb',GradientBoostingClassifier()),\n",
    "                       ('ab',AdaBoostClassifier()),\n",
    "                       ('kn',DecisionTreeClassifier()),\n",
    "                       ('ls',LinearSVC()),\n",
    "                       ('lr',LogisticRegression()),\n",
    "                      ])\n",
    "model_test(vc,independent_variables)"
   ]
  },
  {
   "cell_type": "code",
   "execution_count": 51,
   "id": "b5127379-ff4f-4c42-9845-616be33aa71a",
   "metadata": {},
   "outputs": [
    {
     "name": "stdout",
     "output_type": "stream",
     "text": [
      "F-score 0.1796560556165386\n",
      "\n",
      "compare actual casualties vs predicted. rows are actual, columns are predicted. Numbers in table are count\n"
     ]
    },
    {
     "data": {
      "text/plain": [
       "(      0     1\n",
       " 0  5748  4313\n",
       " 1   171   491,\n",
       " VotingClassifier(estimators=[('gb', GradientBoostingClassifier()),\n",
       "                              ('ab', AdaBoostClassifier()),\n",
       "                              ('kn', DecisionTreeClassifier())]))"
      ]
     },
     "execution_count": 51,
     "metadata": {},
     "output_type": "execute_result"
    }
   ],
   "source": [
    "vc = VotingClassifier([('gb',GradientBoostingClassifier()),('ab',AdaBoostClassifier()),('kn',DecisionTreeClassifier())])\n",
    "model_test(vc,independent_variables)"
   ]
  },
  {
   "cell_type": "code",
   "execution_count": 52,
   "id": "5f6a6601-d734-4182-bdf4-399716e16f51",
   "metadata": {},
   "outputs": [
    {
     "name": "stdout",
     "output_type": "stream",
     "text": [
      "F-score 0.17935388043074638\n",
      "\n",
      "compare actual casualties vs predicted. rows are actual, columns are predicted. Numbers in table are count\n"
     ]
    },
    {
     "data": {
      "text/plain": [
       "(      0     1\n",
       " 0  5820  4241\n",
       " 1   179   483,\n",
       " VotingClassifier(estimators=[('gb', GradientBoostingClassifier()),\n",
       "                              ('ab', AdaBoostClassifier())]))"
      ]
     },
     "execution_count": 52,
     "metadata": {},
     "output_type": "execute_result"
    }
   ],
   "source": [
    "vc = VotingClassifier([('gb',GradientBoostingClassifier()),('ab',AdaBoostClassifier())])\n",
    "model_test(vc,independent_variables)"
   ]
  },
  {
   "cell_type": "code",
   "execution_count": 53,
   "id": "34bb94e5-e12d-4760-a24a-3aed510a6edb",
   "metadata": {},
   "outputs": [
    {
     "name": "stdout",
     "output_type": "stream",
     "text": [
      "F-score 0.19150707743547044\n",
      "\n",
      "compare actual casualties vs predicted. rows are actual, columns are predicted. Numbers in table are count\n"
     ]
    },
    {
     "data": {
      "text/plain": [
       "(      0    1\n",
       " 0  9637  424\n",
       " 1   547  115,\n",
       " VotingClassifier(estimators=[('dt', DecisionTreeClassifier()),\n",
       "                              ('ab', AdaBoostClassifier())]))"
      ]
     },
     "execution_count": 53,
     "metadata": {},
     "output_type": "execute_result"
    }
   ],
   "source": [
    "vc = VotingClassifier([('dt',DecisionTreeClassifier()),('ab',AdaBoostClassifier())])\n",
    "model_test(vc,independent_variables)"
   ]
  },
  {
   "cell_type": "markdown",
   "id": "6fd8d792-cf18-45b9-b7e5-b7af03530669",
   "metadata": {},
   "source": [
    "The results are not meaningfully better than individual algorithms. Default to just gradientboosting (AdaBoosting and GradientBoosting are similar algorithms anyway)"
   ]
  },
  {
   "cell_type": "markdown",
   "id": "621f1aee-d808-4330-a4e5-2126513ebb3d",
   "metadata": {},
   "source": [
    "## Increase number of estimators for adaboosting"
   ]
  },
  {
   "cell_type": "code",
   "execution_count": 54,
   "id": "7082a186-dd60-4f7a-81ad-507807d9e934",
   "metadata": {},
   "outputs": [
    {
     "name": "stdout",
     "output_type": "stream",
     "text": [
      "F-score 0.17482225010455876\n",
      "\n",
      "compare actual casualties vs predicted. rows are actual, columns are predicted. Numbers in table are count\n"
     ]
    },
    {
     "data": {
      "text/plain": [
       "(      0     1\n",
       " 0  6359  3702\n",
       " 1   244   418,\n",
       " AdaBoostClassifier(n_estimators=500))"
      ]
     },
     "execution_count": 54,
     "metadata": {},
     "output_type": "execute_result"
    }
   ],
   "source": [
    "model_test(AdaBoostClassifier(n_estimators=500),independent_variables)"
   ]
  },
  {
   "cell_type": "markdown",
   "id": "88a74fb9-8f9f-4d98-8917-a23ea43291d5",
   "metadata": {},
   "source": [
    "Doesn't seem very sensitive to the number of estimators"
   ]
  },
  {
   "cell_type": "markdown",
   "id": "fdeaddb4-4c2f-40e6-a463-205fa2bd751c",
   "metadata": {},
   "source": [
    "# Dimensionality reduction"
   ]
  },
  {
   "cell_type": "code",
   "execution_count": 55,
   "id": "5b0b0abe-8814-4125-893a-bcea4a67ed1a",
   "metadata": {},
   "outputs": [],
   "source": [
    "# Train the model\n",
    "def pca_model_test(rf,independent_variables,train,test):\n",
    "    # rf = GradientBoostingClassifier()\n",
    "    rf.fit(train,df_training[target_variable])\n",
    "\n",
    "    predictions = rf.predict(test)\n",
    "\n",
    "    df_testing.loc[:,'Casualty_Count_predicted'] = predictions\n",
    "    df_testing.loc[:,'error'] = df_testing['Casualty_Count']-df_testing['Casualty_Count_predicted']\n",
    "\n",
    "    actual_vs_predicted_casuality_dict = {}\n",
    "    for casualty_count,group in df_testing.groupby('Casualty_Count'):\n",
    "        actual_vs_predicted_casuality_dict.update({\n",
    "            casualty_count:{k:len(v) for k,v in group.groupby('Casualty_Count_predicted')}\n",
    "        })\n",
    "\n",
    "    df_result_summary = pd.DataFrame.from_dict(actual_vs_predicted_casuality_dict,orient='index').fillna(0)\n",
    "    \n",
    "    tp = df_result_summary.loc[1,1]\n",
    "    tn = df_result_summary.loc[0,0]\n",
    "    fn = df_result_summary.loc[1,0]\n",
    "    fp = df_result_summary.loc[0,1]\n",
    "\n",
    "    fscore = 2*tp/(2*tp+fp+fn)\n",
    "\n",
    "    print('F-score',fscore)\n",
    "    print('')\n",
    "    \n",
    "    print('compare actual casualties vs predicted. rows are actual, columns are predicted. Numbers in table are count')\n",
    "    return(df_result_summary,rf)"
   ]
  },
  {
   "cell_type": "code",
   "execution_count": 56,
   "id": "9e015671-fc12-428e-981f-c3ae264ab36f",
   "metadata": {},
   "outputs": [
    {
     "data": {
      "text/plain": [
       "(80576, 142)"
      ]
     },
     "execution_count": 56,
     "metadata": {},
     "output_type": "execute_result"
    }
   ],
   "source": [
    "df_training[independent_variables].shape"
   ]
  },
  {
   "cell_type": "code",
   "execution_count": 57,
   "id": "4c25681b-a959-4fb8-87f0-6135653b736e",
   "metadata": {},
   "outputs": [],
   "source": [
    "# pca = PCA(n_components=100)\n",
    "# train_transformed = pca.fit_transform(df_training[independent_variables])\n",
    "# test_transformed = pca.transform(df_testing[independent_variables])"
   ]
  },
  {
   "cell_type": "code",
   "execution_count": 58,
   "id": "cae78abd-4081-46a9-90c2-e4a35ab91d6b",
   "metadata": {},
   "outputs": [],
   "source": [
    "# pca_model_test(AdaBoostClassifier(),independent_variables,train_transformed,test_transformed)"
   ]
  },
  {
   "cell_type": "markdown",
   "id": "e54f8874-959b-4971-8c6e-eb346308f03e",
   "metadata": {},
   "source": [
    "**Doesn't seem to be more effective**"
   ]
  },
  {
   "cell_type": "markdown",
   "id": "ce26bb99-2177-4269-9d48-43a9f6713ab4",
   "metadata": {},
   "source": [
    "# Reducing Some feature"
   ]
  },
  {
   "cell_type": "code",
   "execution_count": 59,
   "id": "34afaa98-fcb3-427c-9f41-947db5626cc8",
   "metadata": {},
   "outputs": [
    {
     "name": "stdout",
     "output_type": "stream",
     "text": [
      "F-score 0.17164931138730266\n",
      "\n",
      "compare actual casualties vs predicted. rows are actual, columns are predicted. Numbers in table are count\n"
     ]
    }
   ],
   "source": [
    "df_summary,mod = model_test(AdaBoostClassifier(),independent_variables)"
   ]
  },
  {
   "cell_type": "code",
   "execution_count": 60,
   "id": "c2838ff5-b6d3-4e18-b542-7177b39442d5",
   "metadata": {},
   "outputs": [
    {
     "data": {
      "text/html": [
       "<div>\n",
       "<style scoped>\n",
       "    .dataframe tbody tr th:only-of-type {\n",
       "        vertical-align: middle;\n",
       "    }\n",
       "\n",
       "    .dataframe tbody tr th {\n",
       "        vertical-align: top;\n",
       "    }\n",
       "\n",
       "    .dataframe thead th {\n",
       "        text-align: right;\n",
       "    }\n",
       "</style>\n",
       "<table border=\"1\" class=\"dataframe\">\n",
       "  <thead>\n",
       "    <tr style=\"text-align: right;\">\n",
       "      <th></th>\n",
       "      <th>0</th>\n",
       "      <th>1</th>\n",
       "    </tr>\n",
       "  </thead>\n",
       "  <tbody>\n",
       "    <tr>\n",
       "      <th>0</th>\n",
       "      <td>5280</td>\n",
       "      <td>4781</td>\n",
       "    </tr>\n",
       "    <tr>\n",
       "      <th>1</th>\n",
       "      <td>151</td>\n",
       "      <td>511</td>\n",
       "    </tr>\n",
       "  </tbody>\n",
       "</table>\n",
       "</div>"
      ],
      "text/plain": [
       "      0     1\n",
       "0  5280  4781\n",
       "1   151   511"
      ]
     },
     "execution_count": 60,
     "metadata": {},
     "output_type": "execute_result"
    }
   ],
   "source": [
    "df_summary"
   ]
  },
  {
   "cell_type": "code",
   "execution_count": 61,
   "id": "4021f18b-77d4-4b11-ba61-04c89cfd44c7",
   "metadata": {},
   "outputs": [
    {
     "data": {
      "text/plain": [
       "{'GNS_Age': 0.02,\n",
       " 'GNS_Storeys': 0.02,\n",
       " 'GNS_Floor_Area': 0.04,\n",
       " 'GNS_Site_Cover': 0.04,\n",
       " 'GNS_Rep_Cost': 0.04,\n",
       " 'GNS_Num_Units': 0.02,\n",
       " 'GNS_Neighb_Dist': 0.06,\n",
       " 'First_Arrival_Mins': 0.06,\n",
       " 'Second_Arrival_Mins': 0.06,\n",
       " 'joinedDwelling': 0.02,\n",
       " 'Empty': 0.02,\n",
       " 'UnderConst': 0.02,\n",
       " 'noHeating': 0.04,\n",
       " 'electricHeater': 0.04,\n",
       " 'woodBurner': 0.02,\n",
       " 'coalBurner': 0.02,\n",
       " 'otherHeat': 0.02,\n",
       " 'homeOwn.no': 0.04,\n",
       " 'diffCom.no': 0.02,\n",
       " 'usual_pop_count': 0.02,\n",
       " 'age.under15': 0.02,\n",
       " 'res_5yrs_prev.same': 0.02,\n",
       " 'language.NZsign': 0.04,\n",
       " 'descent.Maori': 0.02,\n",
       " 'employment.self': 0.02,\n",
       " 'occupation.manager': 0.02,\n",
       " 'households': 0.02,\n",
       " 'date_count': 0.06,\n",
       " 'minutes': 0.02,\n",
       " 'earning_not_from_work': 0.02,\n",
       " 'combined_not_working': 0.02,\n",
       " 'studying': 0.02,\n",
       " 'diffWalk.atleastSome': 0.02,\n",
       " 'homeOwn.OwnOrTrust': 0.04}"
      ]
     },
     "execution_count": 61,
     "metadata": {},
     "output_type": "execute_result"
    }
   ],
   "source": [
    "feat_imp_dict = {var:imp for imp,var in zip(mod.feature_importances_,independent_variables)}\n",
    "{var:imp for var,imp in feat_imp_dict.items() if imp>0.01}"
   ]
  },
  {
   "cell_type": "code",
   "execution_count": 62,
   "id": "20089575-80b3-4c39-a1d7-8e94b61cc345",
   "metadata": {},
   "outputs": [
    {
     "data": {
      "text/plain": [
       "['GNS_Age',\n",
       " 'GNS_Storeys',\n",
       " 'GNS_Floor_Area',\n",
       " 'GNS_Site_Cover',\n",
       " 'GNS_Rep_Cost',\n",
       " 'GNS_Num_Units',\n",
       " 'GNS_Neighb_Dist',\n",
       " 'First_Arrival_Mins',\n",
       " 'Second_Arrival_Mins',\n",
       " 'joinedDwelling',\n",
       " 'Empty',\n",
       " 'UnderConst',\n",
       " 'noHeating',\n",
       " 'electricHeater',\n",
       " 'woodBurner',\n",
       " 'coalBurner',\n",
       " 'otherHeat',\n",
       " 'homeOwn.no',\n",
       " 'diffCom.no',\n",
       " 'usual_pop_count',\n",
       " 'age.under15',\n",
       " 'res_5yrs_prev.same',\n",
       " 'language.NZsign',\n",
       " 'descent.Maori',\n",
       " 'employment.self',\n",
       " 'occupation.manager',\n",
       " 'households',\n",
       " 'date_count',\n",
       " 'minutes',\n",
       " 'earning_not_from_work',\n",
       " 'combined_not_working',\n",
       " 'studying',\n",
       " 'diffWalk.atleastSome',\n",
       " 'homeOwn.OwnOrTrust']"
      ]
     },
     "execution_count": 62,
     "metadata": {},
     "output_type": "execute_result"
    }
   ],
   "source": [
    "independent_variables_over_1p = [var for var,imp in feat_imp_dict.items() if imp>0.01]\n",
    "independent_variables_over_1p"
   ]
  },
  {
   "cell_type": "markdown",
   "id": "c95d9541-8ea1-4924-9c91-56532805b37e",
   "metadata": {},
   "source": [
    "# Test with only variables which can be used in classification"
   ]
  },
  {
   "cell_type": "code",
   "execution_count": 63,
   "id": "0d73dc9d-6301-4590-89b8-5e7273a45450",
   "metadata": {},
   "outputs": [],
   "source": [
    "# Train the model\n",
    "def model_test(rf,independent_variables):\n",
    "    # rf = GradientBoostingClassifier()\n",
    "    rf.fit(df_training[independent_variables],df_training[target_variable])\n",
    "\n",
    "    predictions = rf.predict(df_testing[independent_variables])\n",
    "    predictions_proba = rf.predict_proba(df_testing[independent_variables])\n",
    "    \n",
    "    df_testing.loc[:,'Casualty_Count_predicted'] = predictions\n",
    "    df_testing.loc[:,'error'] = df_testing['Casualty_Count']-df_testing['Casualty_Count_predicted']\n",
    "\n",
    "    df_testing.loc[:,'Casualty_Probability'] = predictions_proba[:,1] \n",
    "    \n",
    "    actual_vs_predicted_casuality_dict = {}\n",
    "    for casualty_count,group in df_testing.groupby('Casualty_Count'):\n",
    "        actual_vs_predicted_casuality_dict.update({\n",
    "            casualty_count:{k:len(v) for k,v in group.groupby('Casualty_Count_predicted')}\n",
    "        })\n",
    "\n",
    "    df_result_summary = pd.DataFrame.from_dict(actual_vs_predicted_casuality_dict,orient='index').fillna(0)\n",
    "    \n",
    "    tp = df_result_summary.loc[1,1]\n",
    "    tn = df_result_summary.loc[0,0]\n",
    "    fn = df_result_summary.loc[1,0]\n",
    "    fp = df_result_summary.loc[0,1]\n",
    "\n",
    "    fscore = 2*tp/(2*tp+fp+fn)\n",
    "\n",
    "    print('F-score',fscore)\n",
    "    print('')\n",
    "    \n",
    "    print('compare actual casualties vs predicted. rows are actual, columns are predicted. Numbers in table are count')\n",
    "    return(df_result_summary,rf)"
   ]
  },
  {
   "cell_type": "code",
   "execution_count": 64,
   "id": "29ace9c7-c244-41b8-ba0b-141454be671e",
   "metadata": {},
   "outputs": [],
   "source": [
    "not_for_prediction_list = ['First_Arrival_Mins','Second_Arrival_Mins','date_count','minutes']"
   ]
  },
  {
   "cell_type": "code",
   "execution_count": 65,
   "id": "5ab32032-8e51-41ac-b44f-f6379fb50b10",
   "metadata": {},
   "outputs": [],
   "source": [
    "prediction_list = [x for x in independent_variables if x not in not_for_prediction_list]"
   ]
  },
  {
   "cell_type": "code",
   "execution_count": 66,
   "id": "8443a91f-1a23-451f-bf73-fae78b4283e7",
   "metadata": {},
   "outputs": [
    {
     "data": {
      "text/plain": [
       "['GNS_Age',\n",
       " 'GNS_Storeys',\n",
       " 'GNS_Floor_Area',\n",
       " 'GNS_Site_Cover',\n",
       " 'GNS_Floor_Hgt',\n",
       " 'GNS_Rep_Cost',\n",
       " 'GNS_Num_Units',\n",
       " 'GNS_Neighb_Dist',\n",
       " 'NZDep2018',\n",
       " 'separateHouse',\n",
       " 'joinedDwelling',\n",
       " 'Empty',\n",
       " 'UnderConst',\n",
       " 'noHeating',\n",
       " 'heatPump',\n",
       " 'electricHeater',\n",
       " 'fixedGasHeater',\n",
       " 'portableGasHeater',\n",
       " 'woodBurner',\n",
       " 'pelletFire',\n",
       " 'coalBurner',\n",
       " 'otherHeat',\n",
       " 'smoking.regular',\n",
       " 'partnered',\n",
       " 'homeOwn.no',\n",
       " 'diffWalk.no',\n",
       " 'diffCom.no',\n",
       " 'bachelor',\n",
       " 'postGrad',\n",
       " 'study.no',\n",
       " 'income.no',\n",
       " 'income.interest',\n",
       " 'income.super',\n",
       " 'income.studentAll',\n",
       " 'income.other',\n",
       " 'usual_pop_count',\n",
       " 'male',\n",
       " 'female',\n",
       " 'median_age',\n",
       " 'age.under15',\n",
       " 'age.65over',\n",
       " 'res_5yrs_prev.same',\n",
       " 'born.NZ',\n",
       " 'yearsInNZ.20years',\n",
       " 'ethnicGroup.pacific',\n",
       " 'ethnicGroup.asian',\n",
       " 'ethnicGroup.mdEst_latAm_afr',\n",
       " 'ethnicGroup.other',\n",
       " 'ethnicGroup.NZ',\n",
       " 'language.english',\n",
       " 'language.maori',\n",
       " 'language.samoan',\n",
       " 'language.NZsign',\n",
       " 'language.other',\n",
       " 'language.tooYoung',\n",
       " 'descent.Maori',\n",
       " 'descent.NoMaori',\n",
       " 'descent.dontKnow',\n",
       " 'employment.paid',\n",
       " 'employment.employer',\n",
       " 'employment.self',\n",
       " 'employment.unpaid',\n",
       " 'occupation.manager',\n",
       " 'occupation.profess',\n",
       " 'occupation.trade',\n",
       " 'occupation.community',\n",
       " 'occupation.clerical',\n",
       " 'occupation.sales',\n",
       " 'occupation.machinery',\n",
       " 'occupation.labourer',\n",
       " 'unpaid.household',\n",
       " 'unpaid.childHH',\n",
       " 'unpaid.illHH',\n",
       " 'unpaid.childNH',\n",
       " 'unpaid.illNH',\n",
       " 'unpaid.voluntary',\n",
       " 'households',\n",
       " 'landlord.private',\n",
       " 'rent.median',\n",
       " 'tele.no',\n",
       " 'tele.mobile',\n",
       " 'tele.land',\n",
       " 'tele.internet',\n",
       " 'GNS_Construction_Type_1_Brick Masonry',\n",
       " 'GNS_Construction_Type_1_Concrete Masonry',\n",
       " 'GNS_Construction_Type_1_Light Industrial',\n",
       " 'GNS_Construction_Type_1_Light Timber',\n",
       " 'GNS_Construction_Type_1_Reinforced Concrete Moment Resisting Frame',\n",
       " 'GNS_Construction_Type_1_Reinforced Concrete Shear Wall',\n",
       " 'GNS_Construction_Type_1_Steel Braced Frame',\n",
       " 'GNS_Construction_Type_1_Steel Moment Resisting Frame',\n",
       " 'GNS_Construction_Type_1_Tilt Up Panel',\n",
       " 'GNS_Roof_Const_Aluminium',\n",
       " 'GNS_Roof_Const_Brick',\n",
       " 'GNS_Roof_Const_Concrete',\n",
       " 'GNS_Roof_Const_Fibre Cement',\n",
       " 'GNS_Roof_Const_Glass',\n",
       " 'GNS_Roof_Const_Malthoid/Fab',\n",
       " 'GNS_Roof_Const_Mix.Material',\n",
       " 'GNS_Roof_Const_Plastic',\n",
       " 'GNS_Roof_Const_Steel/G-Iron',\n",
       " 'GNS_Roof_Const_Stone',\n",
       " 'GNS_Roof_Const_Tile Profile',\n",
       " 'GNS_Roof_Const_Weatherboard',\n",
       " 'GNS_Wall_Const_Aluminium',\n",
       " 'GNS_Wall_Const_Brick',\n",
       " 'GNS_Wall_Const_Concrete',\n",
       " 'GNS_Wall_Const_Fibre Cement',\n",
       " 'GNS_Wall_Const_Glass',\n",
       " 'GNS_Wall_Const_Malthoid/Fab',\n",
       " 'GNS_Wall_Const_Mix.Material',\n",
       " 'GNS_Wall_Const_Plastic',\n",
       " 'GNS_Wall_Const_Roughcast,etc',\n",
       " 'GNS_Wall_Const_Steel/G-Iron',\n",
       " 'GNS_Wall_Const_Stone',\n",
       " 'GNS_Wall_Const_Tile Profile',\n",
       " 'GNS_Wall_Const_Weatherboard',\n",
       " 'GNS_Roof_Pitch_GENTLE (10–25 deg)',\n",
       " 'GNS_Roof_Pitch_MODERATE (25–40 deg)',\n",
       " 'GNS_Roof_Pitch_NEAR FLAT (< 10 deg)',\n",
       " 'GNS_Roof_Pitch_STEEP (> 45 deg)',\n",
       " 'GNS_Parapet_Has Parapet',\n",
       " 'GNS_Parapet_No Parapet',\n",
       " 'most_likely_Rooms.',\n",
       " 'most_likely_Beds.',\n",
       " 'most_likely_noVehc.',\n",
       " 'most_likely_children.',\n",
       " 'most_likely_yrs_at_res.',\n",
       " 'most_likely_income.',\n",
       " 'most_likely_hrsEmploy.',\n",
       " 'earning_not_from_work',\n",
       " 'combined_not_working',\n",
       " 'earning_from_work',\n",
       " 'studying',\n",
       " 'diffCom.atleastSome',\n",
       " 'diffWalk.atleastSome',\n",
       " 'homeOwn.OwnOrTrust',\n",
       " 'dampness']"
      ]
     },
     "execution_count": 66,
     "metadata": {},
     "output_type": "execute_result"
    }
   ],
   "source": [
    "prediction_list"
   ]
  },
  {
   "cell_type": "code",
   "execution_count": 67,
   "id": "967c6f8b-2f1c-4725-aca9-b45c9ce4011e",
   "metadata": {},
   "outputs": [
    {
     "name": "stdout",
     "output_type": "stream",
     "text": [
      "F-score 0.14125753660637383\n",
      "\n",
      "compare actual casualties vs predicted. rows are actual, columns are predicted. Numbers in table are count\n"
     ]
    },
    {
     "data": {
      "text/plain": [
       "(      0     1\n",
       " 0  5328  4733\n",
       " 1   252   410,\n",
       " GradientBoostingClassifier())"
      ]
     },
     "execution_count": 67,
     "metadata": {},
     "output_type": "execute_result"
    }
   ],
   "source": [
    "model_test(GradientBoostingClassifier(),prediction_list)"
   ]
  },
  {
   "cell_type": "code",
   "execution_count": 196,
   "id": "1e43e17f-5941-48a9-aa55-4a9a4e8bed27",
   "metadata": {},
   "outputs": [
    {
     "name": "stdout",
     "output_type": "stream",
     "text": [
      "F-score 0.17747777411919657\n",
      "\n",
      "compare actual casualties vs predicted. rows are actual, columns are predicted. Numbers in table are count\n"
     ]
    }
   ],
   "source": [
    "f_score,mod = model_test(GradientBoostingClassifier(),independent_variables)"
   ]
  },
  {
   "cell_type": "code",
   "execution_count": 197,
   "id": "dc962812-4e4b-4e16-a0d7-9163a7246309",
   "metadata": {},
   "outputs": [
    {
     "data": {
      "text/html": [
       "<div>\n",
       "<style scoped>\n",
       "    .dataframe tbody tr th:only-of-type {\n",
       "        vertical-align: middle;\n",
       "    }\n",
       "\n",
       "    .dataframe tbody tr th {\n",
       "        vertical-align: top;\n",
       "    }\n",
       "\n",
       "    .dataframe thead th {\n",
       "        text-align: right;\n",
       "    }\n",
       "</style>\n",
       "<table border=\"1\" class=\"dataframe\">\n",
       "  <thead>\n",
       "    <tr style=\"text-align: right;\">\n",
       "      <th></th>\n",
       "      <th>0</th>\n",
       "      <th>1</th>\n",
       "    </tr>\n",
       "  </thead>\n",
       "  <tbody>\n",
       "    <tr>\n",
       "      <th>0</th>\n",
       "      <td>5188</td>\n",
       "      <td>4873</td>\n",
       "    </tr>\n",
       "    <tr>\n",
       "      <th>1</th>\n",
       "      <td>123</td>\n",
       "      <td>539</td>\n",
       "    </tr>\n",
       "  </tbody>\n",
       "</table>\n",
       "</div>"
      ],
      "text/plain": [
       "      0     1\n",
       "0  5188  4873\n",
       "1   123   539"
      ]
     },
     "execution_count": 197,
     "metadata": {},
     "output_type": "execute_result"
    }
   ],
   "source": [
    "f_score"
   ]
  },
  {
   "cell_type": "code",
   "execution_count": 198,
   "id": "3f19497e-e621-4ee0-b570-535f6db374d2",
   "metadata": {},
   "outputs": [
    {
     "data": {
      "image/png": "[encoded data removed]",
      "text/plain": [
       "<Figure size 640x480 with 1 Axes>"
      ]
     },
     "metadata": {},
     "output_type": "display_data"
    }
   ],
   "source": [
    "%matplotlib inline\n",
    "fig,ax = plt.subplots()\n",
    "\n",
    "ax.hist(df_testing['Casualty_Probability'])\n",
    "ax.set_ylabel('Count')\n",
    "ax.set_xlabel('Probability')\n",
    "ax.set_title('Histogram of predicted probability of at least one casualty')\n",
    "\n",
    "plt.show()"
   ]
  },
  {
   "cell_type": "code",
   "execution_count": 199,
   "id": "27d25fed-a29b-45f4-a786-94cf17da01e2",
   "metadata": {},
   "outputs": [],
   "source": [
    "# Split risk categories equally\n",
    "qb12 = df_testing['Casualty_Probability'].quantile(0.3333)\n",
    "qb23 = df_testing['Casualty_Probability'].quantile(0.6667)\n",
    "# qb34 = df_testing['Casualty_Probability'].quantile(0.6)\n",
    "# qb45 = df_testing['Casualty_Probability'].quantile(0.8)"
   ]
  },
  {
   "cell_type": "code",
   "execution_count": 204,
   "id": "cab6c0d0-4f6b-4536-8f24-4639589f89ff",
   "metadata": {},
   "outputs": [
    {
     "data": {
      "image/png": "[encoded data removed]",
      "text/plain": [
       "<Figure size 500x500 with 1 Axes>"
      ]
     },
     "metadata": {},
     "output_type": "display_data"
    }
   ],
   "source": [
    "fig = plt.figure(figsize=(5,5))\n",
    "ax1 = plt.subplot2grid((1,1),(0,0))\n",
    "\n",
    "for q,qlb,qub in zip(np.arange(1,4,1),[0,qb12,qb23],[qb12,qb23,1]):\n",
    "    ax1.bar(q,len(df_testing[(df_testing['Casualty_Count']==0)&(df_testing['Casualty_Probability']>qlb)&(df_testing['Casualty_Probability']<qub)]),color='k')\n",
    "    ax1.bar(q,len(df_testing[(df_testing['Casualty_Count']==1)&(df_testing['Casualty_Probability']>qlb)&(df_testing['Casualty_Probability']<qub)]),color='r',\n",
    "            bottom=len(df_testing[(df_testing['Casualty_Count']==0)&(df_testing['Casualty_Probability']>qlb)&(df_testing['Casualty_Probability']<qub)]))\n",
    "    \n",
    "ax1.set_ylabel('Number of Callouts')\n",
    "ax1.set_xlabel('Predicted Risk Category (quintiles)')\n",
    "# ax1.set_ylim([0,2250])\n",
    "\n",
    "casualties = Line2D([],[],c='r')\n",
    "no_casualties = Line2D([],[],c='k')\n",
    "\n",
    "legend = plt.legend([casualties,no_casualties],['Callouts with Casualties','Callouts without Casualties'],loc='lower right')\n",
    "legend.get_frame().set_alpha(None)"
   ]
  },
  {
   "cell_type": "markdown",
   "id": "6a5f7076-c3f5-4406-80d9-aee27b2f246d",
   "metadata": {},
   "source": [
    "**How to link back to individual buildings?**"
   ]
  },
  {
   "cell_type": "code",
   "execution_count": 73,
   "id": "4114ffa8-8495-4951-99bb-301d284d22e7",
   "metadata": {},
   "outputs": [],
   "source": [
    "df_testing['risk_categories'] = pd.cut(df_testing['Casualty_Probability'],[0,qb12,qb23,qb34,qb45,1],labels=np.arange(1,6,1))"
   ]
  },
  {
   "cell_type": "code",
   "execution_count": 74,
   "id": "3da9c07c-687a-49fb-8d55-01de3015d75e",
   "metadata": {},
   "outputs": [
    {
     "data": {
      "text/html": [
       "<div>\n",
       "<style scoped>\n",
       "    .dataframe tbody tr th:only-of-type {\n",
       "        vertical-align: middle;\n",
       "    }\n",
       "\n",
       "    .dataframe tbody tr th {\n",
       "        vertical-align: top;\n",
       "    }\n",
       "\n",
       "    .dataframe thead th {\n",
       "        text-align: right;\n",
       "    }\n",
       "</style>\n",
       "<table border=\"1\" class=\"dataframe\">\n",
       "  <thead>\n",
       "    <tr style=\"text-align: right;\">\n",
       "      <th></th>\n",
       "      <th>Casualty_Count</th>\n",
       "      <th>Casualty_Probability</th>\n",
       "      <th>risk_categories</th>\n",
       "    </tr>\n",
       "  </thead>\n",
       "  <tbody>\n",
       "    <tr>\n",
       "      <th>6</th>\n",
       "      <td>0</td>\n",
       "      <td>0.276828</td>\n",
       "      <td>1</td>\n",
       "    </tr>\n",
       "    <tr>\n",
       "      <th>12</th>\n",
       "      <td>0</td>\n",
       "      <td>0.219930</td>\n",
       "      <td>1</td>\n",
       "    </tr>\n",
       "    <tr>\n",
       "      <th>20</th>\n",
       "      <td>0</td>\n",
       "      <td>0.572437</td>\n",
       "      <td>5</td>\n",
       "    </tr>\n",
       "    <tr>\n",
       "      <th>22</th>\n",
       "      <td>0</td>\n",
       "      <td>0.326938</td>\n",
       "      <td>1</td>\n",
       "    </tr>\n",
       "    <tr>\n",
       "      <th>25</th>\n",
       "      <td>0</td>\n",
       "      <td>0.564872</td>\n",
       "      <td>5</td>\n",
       "    </tr>\n",
       "    <tr>\n",
       "      <th>...</th>\n",
       "      <td>...</td>\n",
       "      <td>...</td>\n",
       "      <td>...</td>\n",
       "    </tr>\n",
       "    <tr>\n",
       "      <th>75616</th>\n",
       "      <td>0</td>\n",
       "      <td>0.411503</td>\n",
       "      <td>2</td>\n",
       "    </tr>\n",
       "    <tr>\n",
       "      <th>75627</th>\n",
       "      <td>0</td>\n",
       "      <td>0.379818</td>\n",
       "      <td>1</td>\n",
       "    </tr>\n",
       "    <tr>\n",
       "      <th>75629</th>\n",
       "      <td>0</td>\n",
       "      <td>0.547368</td>\n",
       "      <td>4</td>\n",
       "    </tr>\n",
       "    <tr>\n",
       "      <th>75631</th>\n",
       "      <td>0</td>\n",
       "      <td>0.395970</td>\n",
       "      <td>2</td>\n",
       "    </tr>\n",
       "    <tr>\n",
       "      <th>75632</th>\n",
       "      <td>0</td>\n",
       "      <td>0.383695</td>\n",
       "      <td>1</td>\n",
       "    </tr>\n",
       "  </tbody>\n",
       "</table>\n",
       "<p>10723 rows × 3 columns</p>\n",
       "</div>"
      ],
      "text/plain": [
       "       Casualty_Count  Casualty_Probability risk_categories\n",
       "6                   0              0.276828               1\n",
       "12                  0              0.219930               1\n",
       "20                  0              0.572437               5\n",
       "22                  0              0.326938               1\n",
       "25                  0              0.564872               5\n",
       "...               ...                   ...             ...\n",
       "75616               0              0.411503               2\n",
       "75627               0              0.379818               1\n",
       "75629               0              0.547368               4\n",
       "75631               0              0.395970               2\n",
       "75632               0              0.383695               1\n",
       "\n",
       "[10723 rows x 3 columns]"
      ]
     },
     "execution_count": 74,
     "metadata": {},
     "output_type": "execute_result"
    }
   ],
   "source": [
    "df_testing[['Casualty_Count','Casualty_Probability','risk_categories']]"
   ]
  },
  {
   "cell_type": "markdown",
   "id": "be4295b6-6423-436c-988e-7165aea116a9",
   "metadata": {},
   "source": [
    "# Load All of New Zealand Data in"
   ]
  },
  {
   "cell_type": "code",
   "execution_count": 172,
   "id": "f38f37ab-3468-40f5-8c6a-cd338866b68b",
   "metadata": {},
   "outputs": [
    {
     "name": "stderr",
     "output_type": "stream",
     "text": [
      "C:\\Users\\shannonb\\AppData\\Local\\miniconda3\\envs\\p37\\lib\\site-packages\\IPython\\core\\interactiveshell.py:3457: DtypeWarning: Columns (2) have mixed types.Specify dtype option on import or set low_memory=False.\n",
      "  exec(code_obj, self.user_global_ns, self.user_ns)\n"
     ]
    }
   ],
   "source": [
    "df_new_zealand = pd.read_csv('Buildings_AllNZ_AllColumns_SA1.csv')\n",
    "df_new_zealand.rename(columns={'GNS_sa1Codes':'SA12018_V1','GNS_Outline_id':'OID_'},inplace=True)"
   ]
  },
  {
   "cell_type": "code",
   "execution_count": 173,
   "id": "82c0d5b8-ff81-458a-9c95-1e9de52e7c9d",
   "metadata": {},
   "outputs": [],
   "source": [
    "df_new_zealand.rename(columns={\n",
    "    \"Use_Category\":\"GNS_Use_Category\",\n",
    "    \"Construction_Type\":\"GNS_Construction_Type_1\",\n",
    "    \"Age\":\"GNS_Age\",\n",
    "    \"Storeys\":\"GNS_Storeys\",\n",
    "    \"Floor_Area\":\"GNS_Floor_Area\",\n",
    "    \"Site_Cover\":\"GNS_Site_Cover\",\n",
    "    \"Roof_Const\":\"GNS_Roof_Const\",\n",
    "    \"Wall_Const\":\"GNS_Wall_Const\",\n",
    "    \"Floor_Height\":\"GNS_Floor_Hgt\",\n",
    "    \"Roof_Pitch\":\"GNS_Roof_Pitch\",\n",
    "    \"Parapet\":\"GNS_Parapet\",\n",
    "    \"Rep_Cost\":\"GNS_Rep_Cost\",\n",
    "    \"Rep_Cost_multi\":\"GNS_Rep_Cost_multi\",\n",
    "    \"Units\":\"GNS_Num_Units\",\n",
    "    \"Res_Units\":\"GNS_Res_Units\",\n",
    "    \"NonRes_Units\":\"GNS_NonRes_Units\",\n",
    "    \"Assign_type\":\"GNS_Assign_type\",\n",
    "    \"Building_dist\":\"GNS_Building_dist\",\n",
    "    \"Neighbour_dist\":\"GNS_Neighb_Dist\"\n",
    "},inplace=True)"
   ]
  },
  {
   "cell_type": "code",
   "execution_count": 174,
   "id": "29c40b42-bbbd-4ff6-b080-f862df9f6210",
   "metadata": {},
   "outputs": [],
   "source": [
    "df_new_zealand = df_new_zealand.drop(['Outline_id','Point_id','Outline_id','Point_id','x_coord','y_coord','UseCat_code','ConType_code','Roof_code','Wall_code','RoofPitch_code','Parapet_code','Assign_code'],axis=1)"
   ]
  },
  {
   "cell_type": "code",
   "execution_count": 176,
   "id": "7ca3eaa7-372d-448d-a56a-ba46899b52eb",
   "metadata": {},
   "outputs": [],
   "source": [
    "df_dwelling1 = pd.read_csv('Census/census_dwelling1.csv')\n",
    "df_dwelling2 = pd.read_csv('Census/census_dwelling2.csv')\n",
    "df_household = pd.read_csv('Census/census_household.csv')\n",
    "df_individual1 = pd.read_csv('Census/census_individual_1.csv')"
   ]
  },
  {
   "cell_type": "code",
   "execution_count": 177,
   "id": "24ce9d5c-24bc-460c-8883-c96458792f7d",
   "metadata": {},
   "outputs": [],
   "source": [
    "df_dwelling1.rename(columns={'SA1':'sa1'},inplace=True)\n",
    "df_dwelling2.rename(columns={'SA1':'sa1'},inplace=True)"
   ]
  },
  {
   "cell_type": "code",
   "execution_count": 178,
   "id": "e41038b7-265a-4286-8e2e-dca4b512a85d",
   "metadata": {},
   "outputs": [],
   "source": [
    "df_individual2a = pd.read_csv('Census/census_individual_2a.csv')\n",
    "df_individual2b = pd.read_csv('Census/census_individual_2b.csv')\n",
    "df_individual2c = pd.read_csv('Census/census_individual_2c.csv')"
   ]
  },
  {
   "cell_type": "code",
   "execution_count": 179,
   "id": "c37cb087-141d-4d88-9e03-e7763107e60e",
   "metadata": {},
   "outputs": [],
   "source": [
    "df_individual3a = pd.read_csv('Census/census_individual_3a.csv')\n",
    "df_individual3b = pd.read_csv('Census/census_individual_3b.csv')"
   ]
  },
  {
   "cell_type": "code",
   "execution_count": 180,
   "id": "6fd92da9-b231-4a60-a920-89e80956c623",
   "metadata": {},
   "outputs": [],
   "source": [
    "df_list = [df_dwelling1, df_dwelling2, df_household, df_individual1, df_individual2a,\n",
    "           df_individual2b, df_individual2c, df_individual3a, df_individual3b]"
   ]
  },
  {
   "cell_type": "code",
   "execution_count": 181,
   "id": "de8ef66d-ee17-4973-90e0-3a69e99c4a6f",
   "metadata": {},
   "outputs": [],
   "source": [
    "def merge_dataframes_on_index(df_list):\n",
    "    \"\"\"\n",
    "    Merge a list of pandas DataFrames by joining on their index.\n",
    "    \n",
    "    Parameters:\n",
    "    df_list (list of pandas DataFrames): List of pandas DataFrames to be merged.\n",
    "    \n",
    "    Returns:\n",
    "    merged_df (pandas DataFrame): Merged DataFrame.\n",
    "    \"\"\"\n",
    "    df_list = [x[~x.sa1.isna()] for x in df_list]\n",
    "    df_list = [x.set_index('sa1') for x in df_list]\n",
    "    \n",
    "    if not df_list:\n",
    "        return None\n",
    "    \n",
    "    # Check if all DataFrames have unique indices\n",
    "    indices = [df.index.is_unique for df in df_list]\n",
    "    if not all(indices):\n",
    "        raise ValueError(\"All DataFrames must have unique indices.\")\n",
    "    \n",
    "    # Merge DataFrames\n",
    "    merged_df = pd.concat(df_list, axis=1)\n",
    "    \n",
    "    return(merged_df)"
   ]
  },
  {
   "cell_type": "code",
   "execution_count": 186,
   "id": "97001e1b-3c7d-4c50-b039-69e28d5a6a33",
   "metadata": {},
   "outputs": [],
   "source": [
    "df_census_data = merge_dataframes_on_index(df_list)"
   ]
  },
  {
   "cell_type": "code",
   "execution_count": 187,
   "id": "4ced1ac6-17dc-4fa3-b6fd-ff98535618b7",
   "metadata": {},
   "outputs": [],
   "source": [
    "df_census_data.rename(columns={'sa1':'sa1Codes'},inplace=True)"
   ]
  },
  {
   "cell_type": "code",
   "execution_count": null,
   "id": "97362e8c-87c5-4aca-8ccc-a853cde57036",
   "metadata": {},
   "outputs": [],
   "source": [
    "df_new_zealand.set_index('sa1Codes',inplace=True)"
   ]
  },
  {
   "cell_type": "code",
   "execution_count": 189,
   "id": "ef9387b9-ac86-49d9-b18a-1adf65bd8d0b",
   "metadata": {},
   "outputs": [],
   "source": [
    "df_new_zealand_joined = df_new_zealand.join(df_census_data)"
   ]
  },
  {
   "cell_type": "code",
   "execution_count": 192,
   "id": "c2b15f40-3784-4f93-987e-64192df90224",
   "metadata": {},
   "outputs": [
    {
     "ename": "KeyError",
     "evalue": "\"['OID_', 'Percent_Not_Saved', 'Damage_m2', 'Casualty_Count', 'Fatality_Count', 'Injury_Count', 'GNS_Neighb_Dist', 'First_Arrival_Mins', 'Second_Arrival_Mins', 'MB2020_V2_', 'NZDep2018', 'SA12018_V1', 'smoking.e', 'Fire_Cause_Group_Name', 'Heat_Source_Group_Name', 'date_count', 'minutes'] not in index\"",
     "output_type": "error",
     "traceback": [
      "\u001b[1;31m---------------------------------------------------------------------------\u001b[0m",
      "\u001b[1;31mKeyError\u001b[0m                                  Traceback (most recent call last)",
      "\u001b[1;32m~\\AppData\\Local\\Temp\\ipykernel_14156\\3636713676.py\u001b[0m in \u001b[0;36m<module>\u001b[1;34m\u001b[0m\n\u001b[1;32m----> 1\u001b[1;33m \u001b[0mdf_overlap\u001b[0m \u001b[1;33m=\u001b[0m \u001b[0mdf_new_zealand_joined\u001b[0m\u001b[1;33m[\u001b[0m\u001b[0mlist\u001b[0m\u001b[1;33m(\u001b[0m\u001b[0mdf_processed_data\u001b[0m\u001b[1;33m)\u001b[0m\u001b[1;33m]\u001b[0m\u001b[1;33m\u001b[0m\u001b[1;33m\u001b[0m\u001b[0m\n\u001b[0m",
      "\u001b[1;32m~\\AppData\\Local\\miniconda3\\envs\\p37\\lib\\site-packages\\pandas\\core\\frame.py\u001b[0m in \u001b[0;36m__getitem__\u001b[1;34m(self, key)\u001b[0m\n\u001b[0;32m   3462\u001b[0m             \u001b[1;32mif\u001b[0m \u001b[0mis_iterator\u001b[0m\u001b[1;33m(\u001b[0m\u001b[0mkey\u001b[0m\u001b[1;33m)\u001b[0m\u001b[1;33m:\u001b[0m\u001b[1;33m\u001b[0m\u001b[1;33m\u001b[0m\u001b[0m\n\u001b[0;32m   3463\u001b[0m                 \u001b[0mkey\u001b[0m \u001b[1;33m=\u001b[0m \u001b[0mlist\u001b[0m\u001b[1;33m(\u001b[0m\u001b[0mkey\u001b[0m\u001b[1;33m)\u001b[0m\u001b[1;33m\u001b[0m\u001b[1;33m\u001b[0m\u001b[0m\n\u001b[1;32m-> 3464\u001b[1;33m             \u001b[0mindexer\u001b[0m \u001b[1;33m=\u001b[0m \u001b[0mself\u001b[0m\u001b[1;33m.\u001b[0m\u001b[0mloc\u001b[0m\u001b[1;33m.\u001b[0m\u001b[0m_get_listlike_indexer\u001b[0m\u001b[1;33m(\u001b[0m\u001b[0mkey\u001b[0m\u001b[1;33m,\u001b[0m \u001b[0maxis\u001b[0m\u001b[1;33m=\u001b[0m\u001b[1;36m1\u001b[0m\u001b[1;33m)\u001b[0m\u001b[1;33m[\u001b[0m\u001b[1;36m1\u001b[0m\u001b[1;33m]\u001b[0m\u001b[1;33m\u001b[0m\u001b[1;33m\u001b[0m\u001b[0m\n\u001b[0m\u001b[0;32m   3465\u001b[0m \u001b[1;33m\u001b[0m\u001b[0m\n\u001b[0;32m   3466\u001b[0m         \u001b[1;31m# take() does not accept boolean indexers\u001b[0m\u001b[1;33m\u001b[0m\u001b[1;33m\u001b[0m\u001b[1;33m\u001b[0m\u001b[0m\n",
      "\u001b[1;32m~\\AppData\\Local\\miniconda3\\envs\\p37\\lib\\site-packages\\pandas\\core\\indexing.py\u001b[0m in \u001b[0;36m_get_listlike_indexer\u001b[1;34m(self, key, axis)\u001b[0m\n\u001b[0;32m   1312\u001b[0m             \u001b[0mkeyarr\u001b[0m\u001b[1;33m,\u001b[0m \u001b[0mindexer\u001b[0m\u001b[1;33m,\u001b[0m \u001b[0mnew_indexer\u001b[0m \u001b[1;33m=\u001b[0m \u001b[0max\u001b[0m\u001b[1;33m.\u001b[0m\u001b[0m_reindex_non_unique\u001b[0m\u001b[1;33m(\u001b[0m\u001b[0mkeyarr\u001b[0m\u001b[1;33m)\u001b[0m\u001b[1;33m\u001b[0m\u001b[1;33m\u001b[0m\u001b[0m\n\u001b[0;32m   1313\u001b[0m \u001b[1;33m\u001b[0m\u001b[0m\n\u001b[1;32m-> 1314\u001b[1;33m         \u001b[0mself\u001b[0m\u001b[1;33m.\u001b[0m\u001b[0m_validate_read_indexer\u001b[0m\u001b[1;33m(\u001b[0m\u001b[0mkeyarr\u001b[0m\u001b[1;33m,\u001b[0m \u001b[0mindexer\u001b[0m\u001b[1;33m,\u001b[0m \u001b[0maxis\u001b[0m\u001b[1;33m)\u001b[0m\u001b[1;33m\u001b[0m\u001b[1;33m\u001b[0m\u001b[0m\n\u001b[0m\u001b[0;32m   1315\u001b[0m \u001b[1;33m\u001b[0m\u001b[0m\n\u001b[0;32m   1316\u001b[0m         if needs_i8_conversion(ax.dtype) or isinstance(\n",
      "\u001b[1;32m~\\AppData\\Local\\miniconda3\\envs\\p37\\lib\\site-packages\\pandas\\core\\indexing.py\u001b[0m in \u001b[0;36m_validate_read_indexer\u001b[1;34m(self, key, indexer, axis)\u001b[0m\n\u001b[0;32m   1375\u001b[0m \u001b[1;33m\u001b[0m\u001b[0m\n\u001b[0;32m   1376\u001b[0m             \u001b[0mnot_found\u001b[0m \u001b[1;33m=\u001b[0m \u001b[0mlist\u001b[0m\u001b[1;33m(\u001b[0m\u001b[0mensure_index\u001b[0m\u001b[1;33m(\u001b[0m\u001b[0mkey\u001b[0m\u001b[1;33m)\u001b[0m\u001b[1;33m[\u001b[0m\u001b[0mmissing_mask\u001b[0m\u001b[1;33m.\u001b[0m\u001b[0mnonzero\u001b[0m\u001b[1;33m(\u001b[0m\u001b[1;33m)\u001b[0m\u001b[1;33m[\u001b[0m\u001b[1;36m0\u001b[0m\u001b[1;33m]\u001b[0m\u001b[1;33m]\u001b[0m\u001b[1;33m.\u001b[0m\u001b[0munique\u001b[0m\u001b[1;33m(\u001b[0m\u001b[1;33m)\u001b[0m\u001b[1;33m)\u001b[0m\u001b[1;33m\u001b[0m\u001b[1;33m\u001b[0m\u001b[0m\n\u001b[1;32m-> 1377\u001b[1;33m             \u001b[1;32mraise\u001b[0m \u001b[0mKeyError\u001b[0m\u001b[1;33m(\u001b[0m\u001b[1;34mf\"{not_found} not in index\"\u001b[0m\u001b[1;33m)\u001b[0m\u001b[1;33m\u001b[0m\u001b[1;33m\u001b[0m\u001b[0m\n\u001b[0m\u001b[0;32m   1378\u001b[0m \u001b[1;33m\u001b[0m\u001b[0m\n\u001b[0;32m   1379\u001b[0m \u001b[1;33m\u001b[0m\u001b[0m\n",
      "\u001b[1;31mKeyError\u001b[0m: \"['OID_', 'Percent_Not_Saved', 'Damage_m2', 'Casualty_Count', 'Fatality_Count', 'Injury_Count', 'GNS_Neighb_Dist', 'First_Arrival_Mins', 'Second_Arrival_Mins', 'MB2020_V2_', 'NZDep2018', 'SA12018_V1', 'smoking.e', 'Fire_Cause_Group_Name', 'Heat_Source_Group_Name', 'date_count', 'minutes'] not in index\""
     ]
    }
   ],
   "source": [
    "df_overlap = df_new_zealand_joined[list(df_processed_data)]"
   ]
  },
  {
   "cell_type": "code",
   "execution_count": 193,
   "id": "6e019b44-9004-414d-a7a0-f278c9945bb8",
   "metadata": {},
   "outputs": [
    {
     "data": {
      "text/html": [
       "<div>\n",
       "<style scoped>\n",
       "    .dataframe tbody tr th:only-of-type {\n",
       "        vertical-align: middle;\n",
       "    }\n",
       "\n",
       "    .dataframe tbody tr th {\n",
       "        vertical-align: top;\n",
       "    }\n",
       "\n",
       "    .dataframe thead th {\n",
       "        text-align: right;\n",
       "    }\n",
       "</style>\n",
       "<table border=\"1\" class=\"dataframe\">\n",
       "  <thead>\n",
       "    <tr style=\"text-align: right;\">\n",
       "      <th></th>\n",
       "      <th>Unnamed: 0</th>\n",
       "      <th>GNS_Use_Category</th>\n",
       "      <th>GNS_Construction_Type_1</th>\n",
       "      <th>GNS_Age</th>\n",
       "      <th>GNS_Storeys</th>\n",
       "      <th>GNS_Floor_Area</th>\n",
       "      <th>GNS_Site_Cover</th>\n",
       "      <th>GNS_Roof_Const</th>\n",
       "      <th>GNS_Wall_Const</th>\n",
       "      <th>GNS_Floor_Hgt</th>\n",
       "      <th>...</th>\n",
       "      <th>hrsEmploy.30_39</th>\n",
       "      <th>hrsEmploy.40_49</th>\n",
       "      <th>hrsEmploy.50_59</th>\n",
       "      <th>hrsEmploy.60more</th>\n",
       "      <th>unpaid.household</th>\n",
       "      <th>unpaid.childHH</th>\n",
       "      <th>unpaid.illHH</th>\n",
       "      <th>unpaid.childNH</th>\n",
       "      <th>unpaid.illNH</th>\n",
       "      <th>unpaid.voluntary</th>\n",
       "    </tr>\n",
       "  </thead>\n",
       "  <tbody>\n",
       "    <tr>\n",
       "      <th>7000000</th>\n",
       "      <td>38032</td>\n",
       "      <td>Mixed non-residential</td>\n",
       "      <td>Steel Braced Frame</td>\n",
       "      <td>1980.0</td>\n",
       "      <td>1.0</td>\n",
       "      <td>988.0</td>\n",
       "      <td>988.0</td>\n",
       "      <td>Steel/G-Iron</td>\n",
       "      <td>Steel/G-Iron</td>\n",
       "      <td>0.2</td>\n",
       "      <td>...</td>\n",
       "      <td>21.0</td>\n",
       "      <td>31.0</td>\n",
       "      <td>0.0</td>\n",
       "      <td>5.0</td>\n",
       "      <td>79.0</td>\n",
       "      <td>24.0</td>\n",
       "      <td>13.0</td>\n",
       "      <td>20.0</td>\n",
       "      <td>10.0</td>\n",
       "      <td>37.0</td>\n",
       "    </tr>\n",
       "    <tr>\n",
       "      <th>7000000</th>\n",
       "      <td>337533</td>\n",
       "      <td>Residential Dwelling</td>\n",
       "      <td>Light Timber</td>\n",
       "      <td>1980.0</td>\n",
       "      <td>1.0</td>\n",
       "      <td>60.0</td>\n",
       "      <td>60.0</td>\n",
       "      <td>Steel/G-Iron</td>\n",
       "      <td>Weatherboard</td>\n",
       "      <td>0.5</td>\n",
       "      <td>...</td>\n",
       "      <td>21.0</td>\n",
       "      <td>31.0</td>\n",
       "      <td>0.0</td>\n",
       "      <td>5.0</td>\n",
       "      <td>79.0</td>\n",
       "      <td>24.0</td>\n",
       "      <td>13.0</td>\n",
       "      <td>20.0</td>\n",
       "      <td>10.0</td>\n",
       "      <td>37.0</td>\n",
       "    </tr>\n",
       "    <tr>\n",
       "      <th>7000000</th>\n",
       "      <td>338884</td>\n",
       "      <td>Residential Dwelling</td>\n",
       "      <td>Light Timber</td>\n",
       "      <td>1980.0</td>\n",
       "      <td>1.0</td>\n",
       "      <td>100.0</td>\n",
       "      <td>100.0</td>\n",
       "      <td>Steel/G-Iron</td>\n",
       "      <td>Fibre Cement</td>\n",
       "      <td>0.5</td>\n",
       "      <td>...</td>\n",
       "      <td>21.0</td>\n",
       "      <td>31.0</td>\n",
       "      <td>0.0</td>\n",
       "      <td>5.0</td>\n",
       "      <td>79.0</td>\n",
       "      <td>24.0</td>\n",
       "      <td>13.0</td>\n",
       "      <td>20.0</td>\n",
       "      <td>10.0</td>\n",
       "      <td>37.0</td>\n",
       "    </tr>\n",
       "    <tr>\n",
       "      <th>7000000</th>\n",
       "      <td>387024</td>\n",
       "      <td>Residential Dwelling</td>\n",
       "      <td>Light Timber</td>\n",
       "      <td>1940.0</td>\n",
       "      <td>1.0</td>\n",
       "      <td>20.0</td>\n",
       "      <td>20.0</td>\n",
       "      <td>Steel/G-Iron</td>\n",
       "      <td>Fibre Cement</td>\n",
       "      <td>0.4</td>\n",
       "      <td>...</td>\n",
       "      <td>21.0</td>\n",
       "      <td>31.0</td>\n",
       "      <td>0.0</td>\n",
       "      <td>5.0</td>\n",
       "      <td>79.0</td>\n",
       "      <td>24.0</td>\n",
       "      <td>13.0</td>\n",
       "      <td>20.0</td>\n",
       "      <td>10.0</td>\n",
       "      <td>37.0</td>\n",
       "    </tr>\n",
       "    <tr>\n",
       "      <th>7000000</th>\n",
       "      <td>395660</td>\n",
       "      <td>Residential Dwelling</td>\n",
       "      <td>Light Timber</td>\n",
       "      <td>1980.0</td>\n",
       "      <td>1.0</td>\n",
       "      <td>90.0</td>\n",
       "      <td>90.0</td>\n",
       "      <td>Steel/G-Iron</td>\n",
       "      <td>Fibre Cement</td>\n",
       "      <td>0.5</td>\n",
       "      <td>...</td>\n",
       "      <td>21.0</td>\n",
       "      <td>31.0</td>\n",
       "      <td>0.0</td>\n",
       "      <td>5.0</td>\n",
       "      <td>79.0</td>\n",
       "      <td>24.0</td>\n",
       "      <td>13.0</td>\n",
       "      <td>20.0</td>\n",
       "      <td>10.0</td>\n",
       "      <td>37.0</td>\n",
       "    </tr>\n",
       "    <tr>\n",
       "      <th>...</th>\n",
       "      <td>...</td>\n",
       "      <td>...</td>\n",
       "      <td>...</td>\n",
       "      <td>...</td>\n",
       "      <td>...</td>\n",
       "      <td>...</td>\n",
       "      <td>...</td>\n",
       "      <td>...</td>\n",
       "      <td>...</td>\n",
       "      <td>...</td>\n",
       "      <td>...</td>\n",
       "      <td>...</td>\n",
       "      <td>...</td>\n",
       "      <td>...</td>\n",
       "      <td>...</td>\n",
       "      <td>...</td>\n",
       "      <td>...</td>\n",
       "      <td>...</td>\n",
       "      <td>...</td>\n",
       "      <td>...</td>\n",
       "      <td>...</td>\n",
       "    </tr>\n",
       "    <tr>\n",
       "      <th>7029864</th>\n",
       "      <td>102375</td>\n",
       "      <td>Residential Dwelling</td>\n",
       "      <td>Light Timber</td>\n",
       "      <td>1950.0</td>\n",
       "      <td>1.0</td>\n",
       "      <td>120.0</td>\n",
       "      <td>120.0</td>\n",
       "      <td>Tile Profile</td>\n",
       "      <td>Brick</td>\n",
       "      <td>0.5</td>\n",
       "      <td>...</td>\n",
       "      <td>16.0</td>\n",
       "      <td>25.0</td>\n",
       "      <td>12.0</td>\n",
       "      <td>16.0</td>\n",
       "      <td>90.0</td>\n",
       "      <td>10.0</td>\n",
       "      <td>10.0</td>\n",
       "      <td>23.0</td>\n",
       "      <td>16.0</td>\n",
       "      <td>13.0</td>\n",
       "    </tr>\n",
       "    <tr>\n",
       "      <th>7029864</th>\n",
       "      <td>102492</td>\n",
       "      <td>Community</td>\n",
       "      <td>Light Timber</td>\n",
       "      <td>2010.0</td>\n",
       "      <td>1.0</td>\n",
       "      <td>0.0</td>\n",
       "      <td>0.0</td>\n",
       "      <td>Steel/G-Iron</td>\n",
       "      <td>Steel/G-Iron</td>\n",
       "      <td>0.2</td>\n",
       "      <td>...</td>\n",
       "      <td>16.0</td>\n",
       "      <td>25.0</td>\n",
       "      <td>12.0</td>\n",
       "      <td>16.0</td>\n",
       "      <td>90.0</td>\n",
       "      <td>10.0</td>\n",
       "      <td>10.0</td>\n",
       "      <td>23.0</td>\n",
       "      <td>16.0</td>\n",
       "      <td>13.0</td>\n",
       "    </tr>\n",
       "    <tr>\n",
       "      <th>7029864</th>\n",
       "      <td>131568</td>\n",
       "      <td>Residential Dwelling</td>\n",
       "      <td>Light Timber</td>\n",
       "      <td>2010.0</td>\n",
       "      <td>1.0</td>\n",
       "      <td>136.0</td>\n",
       "      <td>136.0</td>\n",
       "      <td>Steel/G-Iron</td>\n",
       "      <td>Brick</td>\n",
       "      <td>0.2</td>\n",
       "      <td>...</td>\n",
       "      <td>16.0</td>\n",
       "      <td>25.0</td>\n",
       "      <td>12.0</td>\n",
       "      <td>16.0</td>\n",
       "      <td>90.0</td>\n",
       "      <td>10.0</td>\n",
       "      <td>10.0</td>\n",
       "      <td>23.0</td>\n",
       "      <td>16.0</td>\n",
       "      <td>13.0</td>\n",
       "    </tr>\n",
       "    <tr>\n",
       "      <th>7029866</th>\n",
       "      <td>636455</td>\n",
       "      <td>Industrial - Manufacturing, Storage</td>\n",
       "      <td>Light Timber</td>\n",
       "      <td>1970.0</td>\n",
       "      <td>1.0</td>\n",
       "      <td>70.0</td>\n",
       "      <td>70.0</td>\n",
       "      <td>Steel/G-Iron</td>\n",
       "      <td>Aluminium</td>\n",
       "      <td>0.2</td>\n",
       "      <td>...</td>\n",
       "      <td>NaN</td>\n",
       "      <td>NaN</td>\n",
       "      <td>NaN</td>\n",
       "      <td>NaN</td>\n",
       "      <td>NaN</td>\n",
       "      <td>NaN</td>\n",
       "      <td>NaN</td>\n",
       "      <td>NaN</td>\n",
       "      <td>NaN</td>\n",
       "      <td>NaN</td>\n",
       "    </tr>\n",
       "    <tr>\n",
       "      <th>7029866</th>\n",
       "      <td>636456</td>\n",
       "      <td>Industrial - Manufacturing, Storage</td>\n",
       "      <td>Light Timber</td>\n",
       "      <td>1970.0</td>\n",
       "      <td>1.0</td>\n",
       "      <td>70.0</td>\n",
       "      <td>70.0</td>\n",
       "      <td>Steel/G-Iron</td>\n",
       "      <td>Aluminium</td>\n",
       "      <td>0.2</td>\n",
       "      <td>...</td>\n",
       "      <td>NaN</td>\n",
       "      <td>NaN</td>\n",
       "      <td>NaN</td>\n",
       "      <td>NaN</td>\n",
       "      <td>NaN</td>\n",
       "      <td>NaN</td>\n",
       "      <td>NaN</td>\n",
       "      <td>NaN</td>\n",
       "      <td>NaN</td>\n",
       "      <td>NaN</td>\n",
       "    </tr>\n",
       "  </tbody>\n",
       "</table>\n",
       "<p>1783624 rows × 456 columns</p>\n",
       "</div>"
      ],
      "text/plain": [
       "         Unnamed: 0                     GNS_Use_Category  \\\n",
       "7000000       38032                Mixed non-residential   \n",
       "7000000      337533                 Residential Dwelling   \n",
       "7000000      338884                 Residential Dwelling   \n",
       "7000000      387024                 Residential Dwelling   \n",
       "7000000      395660                 Residential Dwelling   \n",
       "...             ...                                  ...   \n",
       "7029864      102375                 Residential Dwelling   \n",
       "7029864      102492                            Community   \n",
       "7029864      131568                 Residential Dwelling   \n",
       "7029866      636455  Industrial - Manufacturing, Storage   \n",
       "7029866      636456  Industrial - Manufacturing, Storage   \n",
       "\n",
       "        GNS_Construction_Type_1  GNS_Age  GNS_Storeys  GNS_Floor_Area  \\\n",
       "7000000      Steel Braced Frame   1980.0          1.0           988.0   \n",
       "7000000            Light Timber   1980.0          1.0            60.0   \n",
       "7000000            Light Timber   1980.0          1.0           100.0   \n",
       "7000000            Light Timber   1940.0          1.0            20.0   \n",
       "7000000            Light Timber   1980.0          1.0            90.0   \n",
       "...                         ...      ...          ...             ...   \n",
       "7029864            Light Timber   1950.0          1.0           120.0   \n",
       "7029864            Light Timber   2010.0          1.0             0.0   \n",
       "7029864            Light Timber   2010.0          1.0           136.0   \n",
       "7029866            Light Timber   1970.0          1.0            70.0   \n",
       "7029866            Light Timber   1970.0          1.0            70.0   \n",
       "\n",
       "         GNS_Site_Cover GNS_Roof_Const GNS_Wall_Const  GNS_Floor_Hgt  ...  \\\n",
       "7000000           988.0   Steel/G-Iron   Steel/G-Iron            0.2  ...   \n",
       "7000000            60.0   Steel/G-Iron   Weatherboard            0.5  ...   \n",
       "7000000           100.0   Steel/G-Iron   Fibre Cement            0.5  ...   \n",
       "7000000            20.0   Steel/G-Iron   Fibre Cement            0.4  ...   \n",
       "7000000            90.0   Steel/G-Iron   Fibre Cement            0.5  ...   \n",
       "...                 ...            ...            ...            ...  ...   \n",
       "7029864           120.0   Tile Profile          Brick            0.5  ...   \n",
       "7029864             0.0   Steel/G-Iron   Steel/G-Iron            0.2  ...   \n",
       "7029864           136.0   Steel/G-Iron          Brick            0.2  ...   \n",
       "7029866            70.0   Steel/G-Iron      Aluminium            0.2  ...   \n",
       "7029866            70.0   Steel/G-Iron      Aluminium            0.2  ...   \n",
       "\n",
       "        hrsEmploy.30_39 hrsEmploy.40_49  hrsEmploy.50_59  hrsEmploy.60more  \\\n",
       "7000000            21.0            31.0              0.0               5.0   \n",
       "7000000            21.0            31.0              0.0               5.0   \n",
       "7000000            21.0            31.0              0.0               5.0   \n",
       "7000000            21.0            31.0              0.0               5.0   \n",
       "7000000            21.0            31.0              0.0               5.0   \n",
       "...                 ...             ...              ...               ...   \n",
       "7029864            16.0            25.0             12.0              16.0   \n",
       "7029864            16.0            25.0             12.0              16.0   \n",
       "7029864            16.0            25.0             12.0              16.0   \n",
       "7029866             NaN             NaN              NaN               NaN   \n",
       "7029866             NaN             NaN              NaN               NaN   \n",
       "\n",
       "         unpaid.household  unpaid.childHH  unpaid.illHH unpaid.childNH  \\\n",
       "7000000              79.0            24.0          13.0           20.0   \n",
       "7000000              79.0            24.0          13.0           20.0   \n",
       "7000000              79.0            24.0          13.0           20.0   \n",
       "7000000              79.0            24.0          13.0           20.0   \n",
       "7000000              79.0            24.0          13.0           20.0   \n",
       "...                   ...             ...           ...            ...   \n",
       "7029864              90.0            10.0          10.0           23.0   \n",
       "7029864              90.0            10.0          10.0           23.0   \n",
       "7029864              90.0            10.0          10.0           23.0   \n",
       "7029866               NaN             NaN           NaN            NaN   \n",
       "7029866               NaN             NaN           NaN            NaN   \n",
       "\n",
       "         unpaid.illNH  unpaid.voluntary  \n",
       "7000000          10.0              37.0  \n",
       "7000000          10.0              37.0  \n",
       "7000000          10.0              37.0  \n",
       "7000000          10.0              37.0  \n",
       "7000000          10.0              37.0  \n",
       "...               ...               ...  \n",
       "7029864          16.0              13.0  \n",
       "7029864          16.0              13.0  \n",
       "7029864          16.0              13.0  \n",
       "7029866           NaN               NaN  \n",
       "7029866           NaN               NaN  \n",
       "\n",
       "[1783624 rows x 456 columns]"
      ]
     },
     "execution_count": 193,
     "metadata": {},
     "output_type": "execute_result"
    }
   ],
   "source": [
    "df_new_zealand_joined"
   ]
  },
  {
   "cell_type": "code",
   "execution_count": 191,
   "id": "1c2dc5e1-d723-4786-96e7-55fc04915828",
   "metadata": {},
   "outputs": [
    {
     "data": {
      "text/html": [
       "<div>\n",
       "<style scoped>\n",
       "    .dataframe tbody tr th:only-of-type {\n",
       "        vertical-align: middle;\n",
       "    }\n",
       "\n",
       "    .dataframe tbody tr th {\n",
       "        vertical-align: top;\n",
       "    }\n",
       "\n",
       "    .dataframe thead th {\n",
       "        text-align: right;\n",
       "    }\n",
       "</style>\n",
       "<table border=\"1\" class=\"dataframe\">\n",
       "  <thead>\n",
       "    <tr style=\"text-align: right;\">\n",
       "      <th></th>\n",
       "      <th>OID_</th>\n",
       "      <th>Percent_Not_Saved</th>\n",
       "      <th>Damage_m2</th>\n",
       "      <th>Casualty_Count</th>\n",
       "      <th>Fatality_Count</th>\n",
       "      <th>Injury_Count</th>\n",
       "      <th>GNS_Age</th>\n",
       "      <th>GNS_Storeys</th>\n",
       "      <th>GNS_Floor_Area</th>\n",
       "      <th>GNS_Site_Cover</th>\n",
       "      <th>...</th>\n",
       "      <th>Fire_Cause_Group_Name</th>\n",
       "      <th>Heat_Source_Group_Name</th>\n",
       "      <th>GNS_Use_Category</th>\n",
       "      <th>GNS_Construction_Type_1</th>\n",
       "      <th>GNS_Roof_Const</th>\n",
       "      <th>GNS_Wall_Const</th>\n",
       "      <th>GNS_Roof_Pitch</th>\n",
       "      <th>GNS_Parapet</th>\n",
       "      <th>date_count</th>\n",
       "      <th>minutes</th>\n",
       "    </tr>\n",
       "  </thead>\n",
       "  <tbody>\n",
       "    <tr>\n",
       "      <th>0</th>\n",
       "      <td>1</td>\n",
       "      <td>79</td>\n",
       "      <td>1</td>\n",
       "      <td>0</td>\n",
       "      <td>0</td>\n",
       "      <td>0</td>\n",
       "      <td>1970.0</td>\n",
       "      <td>1.0</td>\n",
       "      <td>140.0</td>\n",
       "      <td>140.0</td>\n",
       "      <td>...</td>\n",
       "      <td>Mechanical Failure or Malfunction</td>\n",
       "      <td>Electrical Equipment</td>\n",
       "      <td>Residential Dwelling</td>\n",
       "      <td>Light Timber</td>\n",
       "      <td>Steel/G-Iron</td>\n",
       "      <td>Weatherboard</td>\n",
       "      <td>GENTLE (10–25 deg)</td>\n",
       "      <td>No Parapet</td>\n",
       "      <td>7304</td>\n",
       "      <td>1401</td>\n",
       "    </tr>\n",
       "    <tr>\n",
       "      <th>1</th>\n",
       "      <td>3</td>\n",
       "      <td>89</td>\n",
       "      <td>6</td>\n",
       "      <td>0</td>\n",
       "      <td>0</td>\n",
       "      <td>0</td>\n",
       "      <td>1910.0</td>\n",
       "      <td>1.0</td>\n",
       "      <td>90.0</td>\n",
       "      <td>90.0</td>\n",
       "      <td>...</td>\n",
       "      <td>Deliberately Lit Fire</td>\n",
       "      <td>\"Cigarettes, Matches and Candles\"</td>\n",
       "      <td>Residential Dwelling</td>\n",
       "      <td>Light Timber</td>\n",
       "      <td>Steel/G-Iron</td>\n",
       "      <td>Mix.Material</td>\n",
       "      <td>GENTLE (10–25 deg)</td>\n",
       "      <td>No Parapet</td>\n",
       "      <td>7304</td>\n",
       "      <td>1340</td>\n",
       "    </tr>\n",
       "    <tr>\n",
       "      <th>2</th>\n",
       "      <td>4</td>\n",
       "      <td>79</td>\n",
       "      <td>1</td>\n",
       "      <td>0</td>\n",
       "      <td>0</td>\n",
       "      <td>0</td>\n",
       "      <td>1910.0</td>\n",
       "      <td>1.0</td>\n",
       "      <td>90.0</td>\n",
       "      <td>90.0</td>\n",
       "      <td>...</td>\n",
       "      <td>Other or Undetermined Cause</td>\n",
       "      <td>Exposure Fire</td>\n",
       "      <td>Residential Dwelling</td>\n",
       "      <td>Light Timber</td>\n",
       "      <td>Steel/G-Iron</td>\n",
       "      <td>Mix.Material</td>\n",
       "      <td>GENTLE (10–25 deg)</td>\n",
       "      <td>No Parapet</td>\n",
       "      <td>7304</td>\n",
       "      <td>1340</td>\n",
       "    </tr>\n",
       "    <tr>\n",
       "      <th>3</th>\n",
       "      <td>7</td>\n",
       "      <td>79</td>\n",
       "      <td>3</td>\n",
       "      <td>0</td>\n",
       "      <td>0</td>\n",
       "      <td>0</td>\n",
       "      <td>1990.0</td>\n",
       "      <td>1.0</td>\n",
       "      <td>110.0</td>\n",
       "      <td>110.0</td>\n",
       "      <td>...</td>\n",
       "      <td>Carelessness with Heat Source</td>\n",
       "      <td>\"Cigarettes, Matches and Candles\"</td>\n",
       "      <td>Residential Dwelling</td>\n",
       "      <td>Light Timber</td>\n",
       "      <td>Steel/G-Iron</td>\n",
       "      <td>Fibre Cement</td>\n",
       "      <td>GENTLE (10–25 deg)</td>\n",
       "      <td>No Parapet</td>\n",
       "      <td>7304</td>\n",
       "      <td>489</td>\n",
       "    </tr>\n",
       "    <tr>\n",
       "      <th>4</th>\n",
       "      <td>8</td>\n",
       "      <td>80</td>\n",
       "      <td>30</td>\n",
       "      <td>0</td>\n",
       "      <td>0</td>\n",
       "      <td>0</td>\n",
       "      <td>1970.0</td>\n",
       "      <td>1.0</td>\n",
       "      <td>100.0</td>\n",
       "      <td>100.0</td>\n",
       "      <td>...</td>\n",
       "      <td>Deliberately Lit Fire</td>\n",
       "      <td>Not Recorded</td>\n",
       "      <td>Residential Dwelling</td>\n",
       "      <td>Light Timber</td>\n",
       "      <td>Steel/G-Iron</td>\n",
       "      <td>Fibre Cement</td>\n",
       "      <td>MODERATE (25–40 deg)</td>\n",
       "      <td>No Parapet</td>\n",
       "      <td>7304</td>\n",
       "      <td>177</td>\n",
       "    </tr>\n",
       "    <tr>\n",
       "      <th>...</th>\n",
       "      <td>...</td>\n",
       "      <td>...</td>\n",
       "      <td>...</td>\n",
       "      <td>...</td>\n",
       "      <td>...</td>\n",
       "      <td>...</td>\n",
       "      <td>...</td>\n",
       "      <td>...</td>\n",
       "      <td>...</td>\n",
       "      <td>...</td>\n",
       "      <td>...</td>\n",
       "      <td>...</td>\n",
       "      <td>...</td>\n",
       "      <td>...</td>\n",
       "      <td>...</td>\n",
       "      <td>...</td>\n",
       "      <td>...</td>\n",
       "      <td>...</td>\n",
       "      <td>...</td>\n",
       "      <td>...</td>\n",
       "      <td>...</td>\n",
       "    </tr>\n",
       "    <tr>\n",
       "      <th>75651</th>\n",
       "      <td>111131</td>\n",
       "      <td>79</td>\n",
       "      <td>1</td>\n",
       "      <td>0</td>\n",
       "      <td>0</td>\n",
       "      <td>0</td>\n",
       "      <td>1990.0</td>\n",
       "      <td>1.0</td>\n",
       "      <td>195.0</td>\n",
       "      <td>195.0</td>\n",
       "      <td>...</td>\n",
       "      <td>Carelessness with Heat Source</td>\n",
       "      <td>\"Cigarettes, Matches and Candles\"</td>\n",
       "      <td>Residential Dwelling</td>\n",
       "      <td>Light Timber</td>\n",
       "      <td>Steel/G-Iron</td>\n",
       "      <td>Stone</td>\n",
       "      <td>GENTLE (10–25 deg)</td>\n",
       "      <td>No Parapet</td>\n",
       "      <td>0</td>\n",
       "      <td>365</td>\n",
       "    </tr>\n",
       "    <tr>\n",
       "      <th>75652</th>\n",
       "      <td>111132</td>\n",
       "      <td>79</td>\n",
       "      <td>9</td>\n",
       "      <td>0</td>\n",
       "      <td>0</td>\n",
       "      <td>0</td>\n",
       "      <td>NaN</td>\n",
       "      <td>NaN</td>\n",
       "      <td>NaN</td>\n",
       "      <td>NaN</td>\n",
       "      <td>...</td>\n",
       "      <td>Operating Failure</td>\n",
       "      <td>Outside Fire</td>\n",
       "      <td>Appurtenant</td>\n",
       "      <td>Light Timber</td>\n",
       "      <td>NaN</td>\n",
       "      <td>NaN</td>\n",
       "      <td>NaN</td>\n",
       "      <td>NaN</td>\n",
       "      <td>0</td>\n",
       "      <td>316</td>\n",
       "    </tr>\n",
       "    <tr>\n",
       "      <th>75653</th>\n",
       "      <td>111135</td>\n",
       "      <td>89</td>\n",
       "      <td>40</td>\n",
       "      <td>0</td>\n",
       "      <td>0</td>\n",
       "      <td>0</td>\n",
       "      <td>1970.0</td>\n",
       "      <td>1.0</td>\n",
       "      <td>101.0</td>\n",
       "      <td>101.0</td>\n",
       "      <td>...</td>\n",
       "      <td>Deliberately Lit Fire</td>\n",
       "      <td>Not Recorded</td>\n",
       "      <td>Residential Dwelling</td>\n",
       "      <td>Light Timber</td>\n",
       "      <td>Steel/G-Iron</td>\n",
       "      <td>Fibre Cement</td>\n",
       "      <td>GENTLE (10–25 deg)</td>\n",
       "      <td>No Parapet</td>\n",
       "      <td>0</td>\n",
       "      <td>204</td>\n",
       "    </tr>\n",
       "    <tr>\n",
       "      <th>75654</th>\n",
       "      <td>111136</td>\n",
       "      <td>79</td>\n",
       "      <td>12</td>\n",
       "      <td>0</td>\n",
       "      <td>0</td>\n",
       "      <td>0</td>\n",
       "      <td>NaN</td>\n",
       "      <td>NaN</td>\n",
       "      <td>NaN</td>\n",
       "      <td>NaN</td>\n",
       "      <td>...</td>\n",
       "      <td>Deliberately Lit Fire</td>\n",
       "      <td>\"Explosives, Fire Works\"</td>\n",
       "      <td>Industrial - Manufacturing, Storage</td>\n",
       "      <td>Light Industrial</td>\n",
       "      <td>NaN</td>\n",
       "      <td>NaN</td>\n",
       "      <td>NaN</td>\n",
       "      <td>NaN</td>\n",
       "      <td>0</td>\n",
       "      <td>153</td>\n",
       "    </tr>\n",
       "    <tr>\n",
       "      <th>75655</th>\n",
       "      <td>111137</td>\n",
       "      <td>89</td>\n",
       "      <td>90</td>\n",
       "      <td>0</td>\n",
       "      <td>0</td>\n",
       "      <td>0</td>\n",
       "      <td>1950.0</td>\n",
       "      <td>1.0</td>\n",
       "      <td>90.0</td>\n",
       "      <td>90.0</td>\n",
       "      <td>...</td>\n",
       "      <td>Reckless (involving fire)</td>\n",
       "      <td>Hot Object</td>\n",
       "      <td>Residential Dwelling</td>\n",
       "      <td>Light Timber</td>\n",
       "      <td>Tile Profile</td>\n",
       "      <td>Brick</td>\n",
       "      <td>GENTLE (10–25 deg)</td>\n",
       "      <td>No Parapet</td>\n",
       "      <td>0</td>\n",
       "      <td>25</td>\n",
       "    </tr>\n",
       "  </tbody>\n",
       "</table>\n",
       "<p>75656 rows × 221 columns</p>\n",
       "</div>"
      ],
      "text/plain": [
       "         OID_  Percent_Not_Saved  Damage_m2  Casualty_Count  Fatality_Count  \\\n",
       "0           1                 79          1               0               0   \n",
       "1           3                 89          6               0               0   \n",
       "2           4                 79          1               0               0   \n",
       "3           7                 79          3               0               0   \n",
       "4           8                 80         30               0               0   \n",
       "...       ...                ...        ...             ...             ...   \n",
       "75651  111131                 79          1               0               0   \n",
       "75652  111132                 79          9               0               0   \n",
       "75653  111135                 89         40               0               0   \n",
       "75654  111136                 79         12               0               0   \n",
       "75655  111137                 89         90               0               0   \n",
       "\n",
       "       Injury_Count  GNS_Age  GNS_Storeys  GNS_Floor_Area  GNS_Site_Cover  \\\n",
       "0                 0   1970.0          1.0           140.0           140.0   \n",
       "1                 0   1910.0          1.0            90.0            90.0   \n",
       "2                 0   1910.0          1.0            90.0            90.0   \n",
       "3                 0   1990.0          1.0           110.0           110.0   \n",
       "4                 0   1970.0          1.0           100.0           100.0   \n",
       "...             ...      ...          ...             ...             ...   \n",
       "75651             0   1990.0          1.0           195.0           195.0   \n",
       "75652             0      NaN          NaN             NaN             NaN   \n",
       "75653             0   1970.0          1.0           101.0           101.0   \n",
       "75654             0      NaN          NaN             NaN             NaN   \n",
       "75655             0   1950.0          1.0            90.0            90.0   \n",
       "\n",
       "       ...              Fire_Cause_Group_Name  \\\n",
       "0      ...  Mechanical Failure or Malfunction   \n",
       "1      ...              Deliberately Lit Fire   \n",
       "2      ...        Other or Undetermined Cause   \n",
       "3      ...      Carelessness with Heat Source   \n",
       "4      ...              Deliberately Lit Fire   \n",
       "...    ...                                ...   \n",
       "75651  ...      Carelessness with Heat Source   \n",
       "75652  ...                  Operating Failure   \n",
       "75653  ...              Deliberately Lit Fire   \n",
       "75654  ...              Deliberately Lit Fire   \n",
       "75655  ...          Reckless (involving fire)   \n",
       "\n",
       "                  Heat_Source_Group_Name                     GNS_Use_Category  \\\n",
       "0                   Electrical Equipment                 Residential Dwelling   \n",
       "1      \"Cigarettes, Matches and Candles\"                 Residential Dwelling   \n",
       "2                          Exposure Fire                 Residential Dwelling   \n",
       "3      \"Cigarettes, Matches and Candles\"                 Residential Dwelling   \n",
       "4                           Not Recorded                 Residential Dwelling   \n",
       "...                                  ...                                  ...   \n",
       "75651  \"Cigarettes, Matches and Candles\"                 Residential Dwelling   \n",
       "75652                      Outside Fire                           Appurtenant   \n",
       "75653                       Not Recorded                 Residential Dwelling   \n",
       "75654           \"Explosives, Fire Works\"  Industrial - Manufacturing, Storage   \n",
       "75655                         Hot Object                 Residential Dwelling   \n",
       "\n",
       "       GNS_Construction_Type_1  GNS_Roof_Const  GNS_Wall_Const  \\\n",
       "0                 Light Timber    Steel/G-Iron    Weatherboard   \n",
       "1                 Light Timber    Steel/G-Iron    Mix.Material   \n",
       "2                 Light Timber    Steel/G-Iron    Mix.Material   \n",
       "3                 Light Timber    Steel/G-Iron    Fibre Cement   \n",
       "4                 Light Timber    Steel/G-Iron    Fibre Cement   \n",
       "...                        ...             ...             ...   \n",
       "75651             Light Timber    Steel/G-Iron           Stone   \n",
       "75652             Light Timber             NaN             NaN   \n",
       "75653             Light Timber    Steel/G-Iron    Fibre Cement   \n",
       "75654         Light Industrial             NaN             NaN   \n",
       "75655             Light Timber    Tile Profile           Brick   \n",
       "\n",
       "             GNS_Roof_Pitch  GNS_Parapet  date_count  minutes  \n",
       "0        GENTLE (10–25 deg)   No Parapet        7304     1401  \n",
       "1        GENTLE (10–25 deg)   No Parapet        7304     1340  \n",
       "2        GENTLE (10–25 deg)   No Parapet        7304     1340  \n",
       "3        GENTLE (10–25 deg)   No Parapet        7304      489  \n",
       "4      MODERATE (25–40 deg)   No Parapet        7304      177  \n",
       "...                     ...          ...         ...      ...  \n",
       "75651    GENTLE (10–25 deg)   No Parapet           0      365  \n",
       "75652                   NaN          NaN           0      316  \n",
       "75653    GENTLE (10–25 deg)   No Parapet           0      204  \n",
       "75654                   NaN          NaN           0      153  \n",
       "75655    GENTLE (10–25 deg)   No Parapet           0       25  \n",
       "\n",
       "[75656 rows x 221 columns]"
      ]
     },
     "execution_count": 191,
     "metadata": {},
     "output_type": "execute_result"
    }
   ],
   "source": [
    "df_processed_data"
   ]
  },
  {
   "cell_type": "code",
   "execution_count": 115,
   "id": "fbdb62c0-8958-4af4-9d76-879e625a7859",
   "metadata": {},
   "outputs": [
    {
     "data": {
      "text/html": [
       "<div>\n",
       "<style scoped>\n",
       "    .dataframe tbody tr th:only-of-type {\n",
       "        vertical-align: middle;\n",
       "    }\n",
       "\n",
       "    .dataframe tbody tr th {\n",
       "        vertical-align: top;\n",
       "    }\n",
       "\n",
       "    .dataframe thead th {\n",
       "        text-align: right;\n",
       "    }\n",
       "</style>\n",
       "<table border=\"1\" class=\"dataframe\">\n",
       "  <thead>\n",
       "    <tr style=\"text-align: right;\">\n",
       "      <th></th>\n",
       "      <th>sa1</th>\n",
       "      <th>X3</th>\n",
       "      <th>X17</th>\n",
       "      <th>X18</th>\n",
       "      <th>X19</th>\n",
       "      <th>X79</th>\n",
       "      <th>X90</th>\n",
       "      <th>X91</th>\n",
       "      <th>X92</th>\n",
       "      <th>X93</th>\n",
       "      <th>...</th>\n",
       "      <th>ethnicGroup.NZ</th>\n",
       "      <th>language.english</th>\n",
       "      <th>language.maori</th>\n",
       "      <th>language.samoan</th>\n",
       "      <th>language.NZsign</th>\n",
       "      <th>language.other</th>\n",
       "      <th>language.tooYoung</th>\n",
       "      <th>descent.Maori</th>\n",
       "      <th>descent.NoMaori</th>\n",
       "      <th>descent.dontKnow</th>\n",
       "    </tr>\n",
       "  </thead>\n",
       "  <tbody>\n",
       "    <tr>\n",
       "      <th>0</th>\n",
       "      <td>7000000.0</td>\n",
       "      <td>141.0</td>\n",
       "      <td>75.0</td>\n",
       "      <td>66.0</td>\n",
       "      <td>141.0</td>\n",
       "      <td>48.1</td>\n",
       "      <td>24.0</td>\n",
       "      <td>30.0</td>\n",
       "      <td>69.0</td>\n",
       "      <td>21.0</td>\n",
       "      <td>...</td>\n",
       "      <td>0.0</td>\n",
       "      <td>100.0</td>\n",
       "      <td>31.0</td>\n",
       "      <td>0.0</td>\n",
       "      <td>0.0</td>\n",
       "      <td>0.0</td>\n",
       "      <td>0.0</td>\n",
       "      <td>95.0</td>\n",
       "      <td>4.0</td>\n",
       "      <td>2.0</td>\n",
       "    </tr>\n",
       "    <tr>\n",
       "      <th>1</th>\n",
       "      <td>7000001.0</td>\n",
       "      <td>114.0</td>\n",
       "      <td>60.0</td>\n",
       "      <td>54.0</td>\n",
       "      <td>114.0</td>\n",
       "      <td>36.5</td>\n",
       "      <td>30.0</td>\n",
       "      <td>21.0</td>\n",
       "      <td>48.0</td>\n",
       "      <td>18.0</td>\n",
       "      <td>...</td>\n",
       "      <td>0.0</td>\n",
       "      <td>100.0</td>\n",
       "      <td>28.0</td>\n",
       "      <td>2.0</td>\n",
       "      <td>0.0</td>\n",
       "      <td>2.0</td>\n",
       "      <td>2.0</td>\n",
       "      <td>84.0</td>\n",
       "      <td>15.0</td>\n",
       "      <td>0.0</td>\n",
       "    </tr>\n",
       "    <tr>\n",
       "      <th>2</th>\n",
       "      <td>7000002.0</td>\n",
       "      <td>0.0</td>\n",
       "      <td>NaN</td>\n",
       "      <td>NaN</td>\n",
       "      <td>0.0</td>\n",
       "      <td>NaN</td>\n",
       "      <td>NaN</td>\n",
       "      <td>NaN</td>\n",
       "      <td>NaN</td>\n",
       "      <td>NaN</td>\n",
       "      <td>...</td>\n",
       "      <td>NaN</td>\n",
       "      <td>NaN</td>\n",
       "      <td>NaN</td>\n",
       "      <td>NaN</td>\n",
       "      <td>NaN</td>\n",
       "      <td>NaN</td>\n",
       "      <td>NaN</td>\n",
       "      <td>NaN</td>\n",
       "      <td>NaN</td>\n",
       "      <td>NaN</td>\n",
       "    </tr>\n",
       "    <tr>\n",
       "      <th>3</th>\n",
       "      <td>7000003.0</td>\n",
       "      <td>225.0</td>\n",
       "      <td>120.0</td>\n",
       "      <td>105.0</td>\n",
       "      <td>225.0</td>\n",
       "      <td>30.5</td>\n",
       "      <td>57.0</td>\n",
       "      <td>54.0</td>\n",
       "      <td>75.0</td>\n",
       "      <td>36.0</td>\n",
       "      <td>...</td>\n",
       "      <td>0.0</td>\n",
       "      <td>96.0</td>\n",
       "      <td>44.0</td>\n",
       "      <td>1.0</td>\n",
       "      <td>0.0</td>\n",
       "      <td>2.0</td>\n",
       "      <td>2.0</td>\n",
       "      <td>93.0</td>\n",
       "      <td>6.0</td>\n",
       "      <td>0.0</td>\n",
       "    </tr>\n",
       "    <tr>\n",
       "      <th>4</th>\n",
       "      <td>7000004.0</td>\n",
       "      <td>138.0</td>\n",
       "      <td>69.0</td>\n",
       "      <td>66.0</td>\n",
       "      <td>138.0</td>\n",
       "      <td>52.2</td>\n",
       "      <td>24.0</td>\n",
       "      <td>15.0</td>\n",
       "      <td>69.0</td>\n",
       "      <td>30.0</td>\n",
       "      <td>...</td>\n",
       "      <td>0.0</td>\n",
       "      <td>97.0</td>\n",
       "      <td>26.0</td>\n",
       "      <td>0.0</td>\n",
       "      <td>0.0</td>\n",
       "      <td>2.0</td>\n",
       "      <td>0.0</td>\n",
       "      <td>73.0</td>\n",
       "      <td>21.0</td>\n",
       "      <td>2.0</td>\n",
       "    </tr>\n",
       "    <tr>\n",
       "      <th>...</th>\n",
       "      <td>...</td>\n",
       "      <td>...</td>\n",
       "      <td>...</td>\n",
       "      <td>...</td>\n",
       "      <td>...</td>\n",
       "      <td>...</td>\n",
       "      <td>...</td>\n",
       "      <td>...</td>\n",
       "      <td>...</td>\n",
       "      <td>...</td>\n",
       "      <td>...</td>\n",
       "      <td>...</td>\n",
       "      <td>...</td>\n",
       "      <td>...</td>\n",
       "      <td>...</td>\n",
       "      <td>...</td>\n",
       "      <td>...</td>\n",
       "      <td>...</td>\n",
       "      <td>...</td>\n",
       "      <td>...</td>\n",
       "      <td>...</td>\n",
       "    </tr>\n",
       "    <tr>\n",
       "      <th>29886</th>\n",
       "      <td>7999914.0</td>\n",
       "      <td>0.0</td>\n",
       "      <td>NaN</td>\n",
       "      <td>NaN</td>\n",
       "      <td>0.0</td>\n",
       "      <td>NaN</td>\n",
       "      <td>NaN</td>\n",
       "      <td>NaN</td>\n",
       "      <td>NaN</td>\n",
       "      <td>NaN</td>\n",
       "      <td>...</td>\n",
       "      <td>NaN</td>\n",
       "      <td>NaN</td>\n",
       "      <td>NaN</td>\n",
       "      <td>NaN</td>\n",
       "      <td>NaN</td>\n",
       "      <td>NaN</td>\n",
       "      <td>NaN</td>\n",
       "      <td>NaN</td>\n",
       "      <td>NaN</td>\n",
       "      <td>NaN</td>\n",
       "    </tr>\n",
       "    <tr>\n",
       "      <th>29887</th>\n",
       "      <td>7999915.0</td>\n",
       "      <td>0.0</td>\n",
       "      <td>NaN</td>\n",
       "      <td>NaN</td>\n",
       "      <td>0.0</td>\n",
       "      <td>NaN</td>\n",
       "      <td>NaN</td>\n",
       "      <td>NaN</td>\n",
       "      <td>NaN</td>\n",
       "      <td>NaN</td>\n",
       "      <td>...</td>\n",
       "      <td>NaN</td>\n",
       "      <td>NaN</td>\n",
       "      <td>NaN</td>\n",
       "      <td>NaN</td>\n",
       "      <td>NaN</td>\n",
       "      <td>NaN</td>\n",
       "      <td>NaN</td>\n",
       "      <td>NaN</td>\n",
       "      <td>NaN</td>\n",
       "      <td>NaN</td>\n",
       "    </tr>\n",
       "    <tr>\n",
       "      <th>29888</th>\n",
       "      <td>7999916.0</td>\n",
       "      <td>0.0</td>\n",
       "      <td>NaN</td>\n",
       "      <td>NaN</td>\n",
       "      <td>0.0</td>\n",
       "      <td>NaN</td>\n",
       "      <td>NaN</td>\n",
       "      <td>NaN</td>\n",
       "      <td>NaN</td>\n",
       "      <td>NaN</td>\n",
       "      <td>...</td>\n",
       "      <td>NaN</td>\n",
       "      <td>NaN</td>\n",
       "      <td>NaN</td>\n",
       "      <td>NaN</td>\n",
       "      <td>NaN</td>\n",
       "      <td>NaN</td>\n",
       "      <td>NaN</td>\n",
       "      <td>NaN</td>\n",
       "      <td>NaN</td>\n",
       "      <td>NaN</td>\n",
       "    </tr>\n",
       "    <tr>\n",
       "      <th>29889</th>\n",
       "      <td>NaN</td>\n",
       "      <td>NaN</td>\n",
       "      <td>NaN</td>\n",
       "      <td>NaN</td>\n",
       "      <td>NaN</td>\n",
       "      <td>NaN</td>\n",
       "      <td>NaN</td>\n",
       "      <td>NaN</td>\n",
       "      <td>NaN</td>\n",
       "      <td>NaN</td>\n",
       "      <td>...</td>\n",
       "      <td>NaN</td>\n",
       "      <td>NaN</td>\n",
       "      <td>NaN</td>\n",
       "      <td>NaN</td>\n",
       "      <td>NaN</td>\n",
       "      <td>NaN</td>\n",
       "      <td>NaN</td>\n",
       "      <td>NaN</td>\n",
       "      <td>NaN</td>\n",
       "      <td>NaN</td>\n",
       "    </tr>\n",
       "    <tr>\n",
       "      <th>29890</th>\n",
       "      <td>NaN</td>\n",
       "      <td>NaN</td>\n",
       "      <td>NaN</td>\n",
       "      <td>NaN</td>\n",
       "      <td>NaN</td>\n",
       "      <td>NaN</td>\n",
       "      <td>NaN</td>\n",
       "      <td>NaN</td>\n",
       "      <td>NaN</td>\n",
       "      <td>NaN</td>\n",
       "      <td>...</td>\n",
       "      <td>NaN</td>\n",
       "      <td>NaN</td>\n",
       "      <td>NaN</td>\n",
       "      <td>NaN</td>\n",
       "      <td>NaN</td>\n",
       "      <td>NaN</td>\n",
       "      <td>NaN</td>\n",
       "      <td>NaN</td>\n",
       "      <td>NaN</td>\n",
       "      <td>NaN</td>\n",
       "    </tr>\n",
       "  </tbody>\n",
       "</table>\n",
       "<p>29891 rows × 97 columns</p>\n",
       "</div>"
      ],
      "text/plain": [
       "             sa1     X3    X17    X18    X19   X79   X90   X91   X92   X93  \\\n",
       "0      7000000.0  141.0   75.0   66.0  141.0  48.1  24.0  30.0  69.0  21.0   \n",
       "1      7000001.0  114.0   60.0   54.0  114.0  36.5  30.0  21.0  48.0  18.0   \n",
       "2      7000002.0    0.0    NaN    NaN    0.0   NaN   NaN   NaN   NaN   NaN   \n",
       "3      7000003.0  225.0  120.0  105.0  225.0  30.5  57.0  54.0  75.0  36.0   \n",
       "4      7000004.0  138.0   69.0   66.0  138.0  52.2  24.0  15.0  69.0  30.0   \n",
       "...          ...    ...    ...    ...    ...   ...   ...   ...   ...   ...   \n",
       "29886  7999914.0    0.0    NaN    NaN    0.0   NaN   NaN   NaN   NaN   NaN   \n",
       "29887  7999915.0    0.0    NaN    NaN    0.0   NaN   NaN   NaN   NaN   NaN   \n",
       "29888  7999916.0    0.0    NaN    NaN    0.0   NaN   NaN   NaN   NaN   NaN   \n",
       "29889        NaN    NaN    NaN    NaN    NaN   NaN   NaN   NaN   NaN   NaN   \n",
       "29890        NaN    NaN    NaN    NaN    NaN   NaN   NaN   NaN   NaN   NaN   \n",
       "\n",
       "       ...  ethnicGroup.NZ  language.english  language.maori  language.samoan  \\\n",
       "0      ...             0.0             100.0            31.0              0.0   \n",
       "1      ...             0.0             100.0            28.0              2.0   \n",
       "2      ...             NaN               NaN             NaN              NaN   \n",
       "3      ...             0.0              96.0            44.0              1.0   \n",
       "4      ...             0.0              97.0            26.0              0.0   \n",
       "...    ...             ...               ...             ...              ...   \n",
       "29886  ...             NaN               NaN             NaN              NaN   \n",
       "29887  ...             NaN               NaN             NaN              NaN   \n",
       "29888  ...             NaN               NaN             NaN              NaN   \n",
       "29889  ...             NaN               NaN             NaN              NaN   \n",
       "29890  ...             NaN               NaN             NaN              NaN   \n",
       "\n",
       "       language.NZsign  language.other  language.tooYoung  descent.Maori  \\\n",
       "0                  0.0             0.0                0.0           95.0   \n",
       "1                  0.0             2.0                2.0           84.0   \n",
       "2                  NaN             NaN                NaN            NaN   \n",
       "3                  0.0             2.0                2.0           93.0   \n",
       "4                  0.0             2.0                0.0           73.0   \n",
       "...                ...             ...                ...            ...   \n",
       "29886              NaN             NaN                NaN            NaN   \n",
       "29887              NaN             NaN                NaN            NaN   \n",
       "29888              NaN             NaN                NaN            NaN   \n",
       "29889              NaN             NaN                NaN            NaN   \n",
       "29890              NaN             NaN                NaN            NaN   \n",
       "\n",
       "       descent.NoMaori  descent.dontKnow  \n",
       "0                  4.0               2.0  \n",
       "1                 15.0               0.0  \n",
       "2                  NaN               NaN  \n",
       "3                  6.0               0.0  \n",
       "4                 21.0               2.0  \n",
       "...                ...               ...  \n",
       "29886              NaN               NaN  \n",
       "29887              NaN               NaN  \n",
       "29888              NaN               NaN  \n",
       "29889              NaN               NaN  \n",
       "29890              NaN               NaN  \n",
       "\n",
       "[29891 rows x 97 columns]"
      ]
     },
     "execution_count": 115,
     "metadata": {},
     "output_type": "execute_result"
    }
   ],
   "source": [
    "df_individual"
   ]
  },
  {
   "cell_type": "code",
   "execution_count": null,
   "id": "9f371291-ad57-4ca6-a405-4003824a6cf9",
   "metadata": {},
   "outputs": [],
   "source": []
  }
 ],
 "metadata": {
  "kernelspec": {
   "display_name": "Python 3 (ipykernel)",
   "language": "python",
   "name": "python3"
  },
  "language_info": {
   "codemirror_mode": {
    "name": "ipython",
    "version": 3
   },
   "file_extension": ".py",
   "mimetype": "text/x-python",
   "name": "python",
   "nbconvert_exporter": "python",
   "pygments_lexer": "ipython3",
   "version": "3.7.16"
  }
 },
 "nbformat": 4,
 "nbformat_minor": 5
}
