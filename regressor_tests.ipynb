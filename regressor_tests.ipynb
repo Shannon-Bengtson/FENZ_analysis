{
 "cells": [
  {
   "cell_type": "markdown",
   "id": "c2e6d906-68de-469e-9a8c-542e48a4e497",
   "metadata": {},
   "source": [
    "# File Setup"
   ]
  },
  {
   "cell_type": "code",
   "execution_count": 2,
   "id": "2a8b6f19-cbc1-42c5-8c8c-cde3d0ed59a4",
   "metadata": {},
   "outputs": [],
   "source": [
    "import pandas as pd\n",
    "import numpy as np\n",
    "import matplotlib.pyplot as plt\n",
    "import scipy as sp\n",
    "from sklearn.ensemble import GradientBoostingRegressor,GradientBoostingClassifier,RandomForestRegressor,RandomForestClassifier,VotingRegressor"
   ]
  },
  {
   "cell_type": "markdown",
   "id": "fe60df35-f6f4-4547-80f9-4cffde2ad479",
   "metadata": {},
   "source": [
    "# Load data"
   ]
  },
  {
   "cell_type": "code",
   "execution_count": 3,
   "id": "168f5031-7d8b-4f05-93be-160faa0b30ba",
   "metadata": {},
   "outputs": [],
   "source": [
    "df_processed_data = pd.read_csv('shannon_data_residential.csv')"
   ]
  },
  {
   "cell_type": "markdown",
   "id": "2fae2c05-2ea2-4247-b0e2-36d92369a16b",
   "metadata": {},
   "source": [
    "# Additional Preprocessing"
   ]
  },
  {
   "cell_type": "code",
   "execution_count": 4,
   "id": "c643b162-2120-48d9-bde5-d09df0e53a63",
   "metadata": {},
   "outputs": [],
   "source": [
    "# Split categorical and numeric variables\n",
    "numeric_vars = [x for x in list(df_processed_data) if type(df_processed_data.loc[0,x])!=type('str')]\n",
    "categorical_vars = [x for x in list(df_processed_data) if type(df_processed_data.loc[0,x])==type('str')]\n",
    "\n",
    "# convert categorical variables to one-hot-encoded variables (binary)\n",
    "df_one_hot_encoded = pd.get_dummies(df_processed_data[categorical_vars])\n",
    "\n",
    "# get just numeric variables\n",
    "df_numeric = df_processed_data[numeric_vars]\n",
    "df_numeric = df_numeric.astype(float)\n",
    "\n",
    "# Add back the one-hot-encoded categorical variables\n",
    "df_numeric = df_numeric.join(df_one_hot_encoded)\n",
    "\n",
    "# First, remove columns which have a significant portion of NAs (we're saying more than 1000\n",
    "na_count = df_numeric.isna().sum().sort_values(ascending=True)\n",
    "df_numeric = df_numeric[[x for x in list(df_numeric) if x not in list(na_count[na_count>1000].index)]]\n",
    "# Now for all the remaining nans, remove the rows\n",
    "df_numeric = df_numeric.dropna()"
   ]
  },
  {
   "cell_type": "markdown",
   "id": "53427325-b76b-4d4a-9479-e372ec83e4c8",
   "metadata": {},
   "source": [
    "**Now drop the variables which you won't have in a predictive model** \n",
    "\n",
    "This makes a massive difference. If you just put in all the variables, you will get a really good model for casualties.\n",
    "But the problem is that fatality and injury count are after the fact. I gather we want a predictive model.. or includes levers like arrival time "
   ]
  },
  {
   "cell_type": "code",
   "execution_count": 5,
   "id": "d9e4bb9d-2c81-4cf2-b1f1-dc1877a9a872",
   "metadata": {},
   "outputs": [],
   "source": [
    "df_numeric = df_numeric[[x for x in list(df_numeric) if x not in ['Injury_Count.x','Fatality_Count.x']]]"
   ]
  },
  {
   "cell_type": "code",
   "execution_count": 6,
   "id": "3654a27f-32a9-4a60-a709-de59231ed6da",
   "metadata": {},
   "outputs": [],
   "source": [
    "# also need to drop variables which are always zero\n",
    "df_numeric = df_numeric[[x for x in list(df_numeric) if x not in ['GNS_Use_Category_Appurtenant','GNS_Use_Category_Forestry, Mining','GNS_Roof_Const_Roughcast,etc']]]"
   ]
  },
  {
   "cell_type": "code",
   "execution_count": 7,
   "id": "8489f83a-47cd-44e7-88ed-225f0f008be3",
   "metadata": {},
   "outputs": [
    {
     "name": "stderr",
     "output_type": "stream",
     "text": [
      "C:\\Users\\shannonb\\AppData\\Local\\miniconda3\\envs\\p37\\lib\\site-packages\\pandas\\core\\indexing.py:1884: SettingWithCopyWarning: \n",
      "A value is trying to be set on a copy of a slice from a DataFrame.\n",
      "Try using .loc[row_indexer,col_indexer] = value instead\n",
      "\n",
      "See the caveats in the documentation: https://pandas.pydata.org/pandas-docs/stable/user_guide/indexing.html#returning-a-view-versus-a-copy\n",
      "  self._setitem_single_column(loc, val, pi)\n"
     ]
    }
   ],
   "source": [
    "target_variable = 'Casualty_Count.x'\n",
    "independent_variables = [x for x in list(df_numeric) if x!=target_variable]\n",
    "\n",
    "# split into testing and training\n",
    "df_training = df_numeric.sample(int(len(df_numeric)*0.8))\n",
    "df_testing = df_numeric[~df_numeric.index.isin(df_training.index)]\n",
    "\n",
    "# Normalise the data\n",
    "training_mins = np.min(df_training[independent_variables])\n",
    "training_maxes = np.max(df_training[independent_variables])\n",
    "\n",
    "df_training.loc[:,independent_variables] = (df_training[independent_variables]-training_mins)/(training_maxes-training_mins)\n",
    "df_testing.loc[:,independent_variables] = (df_testing[independent_variables]-training_mins)/(training_maxes-training_mins)\n",
    "\n",
    "# Adding extra rows which have casualties so that the dataset is approximately equal\n",
    "df_training_0 = df_training[df_training[target_variable]==0]\n",
    "df_training_gt0 = df_training[df_training[target_variable]>0]\n",
    "df_training = df_training_0.append(pd.concat([df_training_gt0]*int(1+len(df_training_0)/len(df_training_gt0))))\n"
   ]
  },
  {
   "cell_type": "code",
   "execution_count": 8,
   "id": "1daf6bd6-be62-4195-ac24-1606976bd114",
   "metadata": {},
   "outputs": [],
   "source": [
    "# Just to make it faster\n",
    "df_training = df_training.sample(50000)"
   ]
  },
  {
   "cell_type": "markdown",
   "id": "214fcb0f-346d-45f3-a9fc-ae10fdf4ea6d",
   "metadata": {},
   "source": [
    "# Model Training and predictions"
   ]
  },
  {
   "cell_type": "code",
   "execution_count": 9,
   "id": "073990cf-4088-41c3-8d7c-6288e909cf6a",
   "metadata": {},
   "outputs": [
    {
     "data": {
      "text/plain": [
       "RandomForestRegressor()"
      ]
     },
     "execution_count": 9,
     "metadata": {},
     "output_type": "execute_result"
    }
   ],
   "source": [
    "# Train the model\n",
    "rf = RandomForestRegressor()\n",
    "rf.fit(df_training[independent_variables],df_training[target_variable])"
   ]
  },
  {
   "cell_type": "code",
   "execution_count": 10,
   "id": "d70fa3e6-4071-4807-91b0-35f4bd403604",
   "metadata": {},
   "outputs": [],
   "source": [
    "predictions = rf.predict(df_testing[independent_variables])"
   ]
  },
  {
   "cell_type": "code",
   "execution_count": 11,
   "id": "bf311cc6-0efc-42ec-a27b-d825a58ee0d9",
   "metadata": {},
   "outputs": [
    {
     "name": "stderr",
     "output_type": "stream",
     "text": [
      "C:\\Users\\shannonb\\AppData\\Local\\miniconda3\\envs\\p37\\lib\\site-packages\\pandas\\core\\indexing.py:1667: SettingWithCopyWarning: \n",
      "A value is trying to be set on a copy of a slice from a DataFrame.\n",
      "Try using .loc[row_indexer,col_indexer] = value instead\n",
      "\n",
      "See the caveats in the documentation: https://pandas.pydata.org/pandas-docs/stable/user_guide/indexing.html#returning-a-view-versus-a-copy\n",
      "  self.obj[key] = value\n"
     ]
    }
   ],
   "source": [
    "df_testing.loc[:,'Casualty_Count.x_predicted'] = predictions\n",
    "df_testing.loc[:,'error'] = df_testing['Casualty_Count.x']-df_testing['Casualty_Count.x_predicted']"
   ]
  },
  {
   "cell_type": "markdown",
   "id": "1ada3542-f4cf-497c-a750-631bccb44fd8",
   "metadata": {},
   "source": [
    "# Results Analysis"
   ]
  },
  {
   "cell_type": "code",
   "execution_count": 12,
   "id": "2c39f7cd-ad1d-46fc-8e83-871abaaf8cb0",
   "metadata": {},
   "outputs": [
    {
     "data": {
      "text/plain": [
       "Text(0.5, 1.0, 'histogram of actual casualties (blue) and casualties predicted (orange)')"
      ]
     },
     "execution_count": 12,
     "metadata": {},
     "output_type": "execute_result"
    },
    {
     "data": {
      "image/png": "[encoded data removed]",
      "text/plain": [
       "<Figure size 640x480 with 1 Axes>"
      ]
     },
     "metadata": {},
     "output_type": "display_data"
    }
   ],
   "source": [
    "plt.hist(df_testing['Casualty_Count.x'])\n",
    "plt.hist(df_testing['Casualty_Count.x_predicted'])\n",
    "plt.title('histogram of actual casualties (blue) and casualties predicted (orange)')"
   ]
  },
  {
   "cell_type": "code",
   "execution_count": 13,
   "id": "59254223-fb59-4603-ad35-808355e60a9c",
   "metadata": {},
   "outputs": [
    {
     "data": {
      "text/plain": [
       "Text(0.5, 1.0, 'histogram of the difference between actual casualties and casualties predicted')"
      ]
     },
     "execution_count": 13,
     "metadata": {},
     "output_type": "execute_result"
    },
    {
     "data": {
      "image/png": "[encoded data removed]",
      "text/plain": [
       "<Figure size 640x480 with 1 Axes>"
      ]
     },
     "metadata": {},
     "output_type": "display_data"
    }
   ],
   "source": [
    "plt.hist(df_testing['error'])\n",
    "plt.title('histogram of the difference between actual casualties and casualties predicted')"
   ]
  },
  {
   "cell_type": "code",
   "execution_count": 14,
   "id": "4ce85832-0e95-4e6d-ba51-986f2ea1314e",
   "metadata": {},
   "outputs": [
    {
     "data": {
      "text/plain": [
       "6.42"
      ]
     },
     "execution_count": 14,
     "metadata": {},
     "output_type": "execute_result"
    }
   ],
   "source": [
    "np.max(df_testing.error)"
   ]
  },
  {
   "cell_type": "code",
   "execution_count": 15,
   "id": "a7d6a390-9402-458c-98cf-b8c2919f69e1",
   "metadata": {},
   "outputs": [
    {
     "data": {
      "text/plain": [
       "-2.86"
      ]
     },
     "execution_count": 15,
     "metadata": {},
     "output_type": "execute_result"
    }
   ],
   "source": [
    "np.min(df_testing.error)"
   ]
  },
  {
   "cell_type": "code",
   "execution_count": 16,
   "id": "0fd77ee8-9bac-49a7-8e87-feca84ea5760",
   "metadata": {},
   "outputs": [
    {
     "data": {
      "text/plain": [
       "0.12498941735233286"
      ]
     },
     "execution_count": 16,
     "metadata": {},
     "output_type": "execute_result"
    }
   ],
   "source": [
    "np.mean(df_testing.error**2)"
   ]
  },
  {
   "cell_type": "code",
   "execution_count": 17,
   "id": "d49709e3-418d-43e3-918a-22db2fa5ffcd",
   "metadata": {},
   "outputs": [
    {
     "data": {
      "text/plain": [
       "0.019600000000000003"
      ]
     },
     "execution_count": 17,
     "metadata": {},
     "output_type": "execute_result"
    }
   ],
   "source": [
    "np.median(df_testing.error**2)"
   ]
  },
  {
   "cell_type": "code",
   "execution_count": 18,
   "id": "3660bc33-d91b-4ca0-bffe-bcca0217dd47",
   "metadata": {},
   "outputs": [],
   "source": [
    "df_testing.loc[:,'Casualty_Count.x_predicted_int'] = [int(x) for x in df_testing['Casualty_Count.x_predicted']]\n",
    "df_testing.loc[:,'error_int'] = df_testing['Casualty_Count.x']-[int(x) for x in df_testing['Casualty_Count.x_predicted_int']]\n"
   ]
  },
  {
   "cell_type": "code",
   "execution_count": 19,
   "id": "52508cb7-9fe6-41f5-b315-8a5c9cb5694f",
   "metadata": {},
   "outputs": [],
   "source": [
    "actual_vs_predicted_casuality_dict = {}\n",
    "for casualty_count,group in df_testing.groupby('Casualty_Count.x'):\n",
    "    actual_vs_predicted_casuality_dict.update({\n",
    "        casualty_count:{k:len(v) for k,v in group.groupby('Casualty_Count.x_predicted_int')}\n",
    "    })\n",
    "    "
   ]
  },
  {
   "cell_type": "code",
   "execution_count": 20,
   "id": "39ec3f9e-c087-44b3-b3b6-55c50dfab9c3",
   "metadata": {},
   "outputs": [
    {
     "data": {
      "text/plain": [
       "49177    0\n",
       "Name: Casualty_Count.x_predicted_int, dtype: int64"
      ]
     },
     "execution_count": 20,
     "metadata": {},
     "output_type": "execute_result"
    }
   ],
   "source": [
    "group['Casualty_Count.x_predicted_int']"
   ]
  },
  {
   "cell_type": "code",
   "execution_count": 21,
   "id": "2964b47a-57d1-484d-96fe-d987c274da88",
   "metadata": {},
   "outputs": [
    {
     "name": "stdout",
     "output_type": "stream",
     "text": [
      "compare actual casualties vs predicted. rows are actual, columns are predicted. Numbers in table are count\n"
     ]
    },
    {
     "data": {
      "text/html": [
       "<div>\n",
       "<style scoped>\n",
       "    .dataframe tbody tr th:only-of-type {\n",
       "        vertical-align: middle;\n",
       "    }\n",
       "\n",
       "    .dataframe tbody tr th {\n",
       "        vertical-align: top;\n",
       "    }\n",
       "\n",
       "    .dataframe thead th {\n",
       "        text-align: right;\n",
       "    }\n",
       "</style>\n",
       "<table border=\"1\" class=\"dataframe\">\n",
       "  <thead>\n",
       "    <tr style=\"text-align: right;\">\n",
       "      <th></th>\n",
       "      <th>0</th>\n",
       "      <th>1</th>\n",
       "      <th>2</th>\n",
       "    </tr>\n",
       "  </thead>\n",
       "  <tbody>\n",
       "    <tr>\n",
       "      <th>0.0</th>\n",
       "      <td>14027</td>\n",
       "      <td>64.0</td>\n",
       "      <td>9.0</td>\n",
       "    </tr>\n",
       "    <tr>\n",
       "      <th>1.0</th>\n",
       "      <td>695</td>\n",
       "      <td>67.0</td>\n",
       "      <td>1.0</td>\n",
       "    </tr>\n",
       "    <tr>\n",
       "      <th>2.0</th>\n",
       "      <td>53</td>\n",
       "      <td>1.0</td>\n",
       "      <td>0.0</td>\n",
       "    </tr>\n",
       "    <tr>\n",
       "      <th>3.0</th>\n",
       "      <td>19</td>\n",
       "      <td>0.0</td>\n",
       "      <td>0.0</td>\n",
       "    </tr>\n",
       "    <tr>\n",
       "      <th>4.0</th>\n",
       "      <td>9</td>\n",
       "      <td>0.0</td>\n",
       "      <td>0.0</td>\n",
       "    </tr>\n",
       "    <tr>\n",
       "      <th>5.0</th>\n",
       "      <td>2</td>\n",
       "      <td>0.0</td>\n",
       "      <td>0.0</td>\n",
       "    </tr>\n",
       "    <tr>\n",
       "      <th>6.0</th>\n",
       "      <td>1</td>\n",
       "      <td>0.0</td>\n",
       "      <td>0.0</td>\n",
       "    </tr>\n",
       "    <tr>\n",
       "      <th>7.0</th>\n",
       "      <td>1</td>\n",
       "      <td>0.0</td>\n",
       "      <td>0.0</td>\n",
       "    </tr>\n",
       "  </tbody>\n",
       "</table>\n",
       "</div>"
      ],
      "text/plain": [
       "         0     1    2\n",
       "0.0  14027  64.0  9.0\n",
       "1.0    695  67.0  1.0\n",
       "2.0     53   1.0  0.0\n",
       "3.0     19   0.0  0.0\n",
       "4.0      9   0.0  0.0\n",
       "5.0      2   0.0  0.0\n",
       "6.0      1   0.0  0.0\n",
       "7.0      1   0.0  0.0"
      ]
     },
     "execution_count": 21,
     "metadata": {},
     "output_type": "execute_result"
    }
   ],
   "source": [
    "df_result_summary = pd.DataFrame.from_dict(actual_vs_predicted_casuality_dict,orient='index').fillna(0)\n",
    "print('compare actual casualties vs predicted. rows are actual, columns are predicted. Numbers in table are count')\n",
    "df_result_summary"
   ]
  },
  {
   "cell_type": "code",
   "execution_count": 22,
   "id": "21886475-bb19-4bb6-8a74-0f80c32c9a9c",
   "metadata": {},
   "outputs": [
    {
     "data": {
      "text/html": [
       "<div>\n",
       "<style scoped>\n",
       "    .dataframe tbody tr th:only-of-type {\n",
       "        vertical-align: middle;\n",
       "    }\n",
       "\n",
       "    .dataframe tbody tr th {\n",
       "        vertical-align: top;\n",
       "    }\n",
       "\n",
       "    .dataframe thead th {\n",
       "        text-align: right;\n",
       "    }\n",
       "</style>\n",
       "<table border=\"1\" class=\"dataframe\">\n",
       "  <thead>\n",
       "    <tr style=\"text-align: right;\">\n",
       "      <th></th>\n",
       "      <th>importance</th>\n",
       "    </tr>\n",
       "  </thead>\n",
       "  <tbody>\n",
       "    <tr>\n",
       "      <th>Second_Arrival_Mins.x</th>\n",
       "      <td>0.155749</td>\n",
       "    </tr>\n",
       "    <tr>\n",
       "      <th>Damage_m2.x</th>\n",
       "      <td>0.042080</td>\n",
       "    </tr>\n",
       "    <tr>\n",
       "      <th>Fire_Cause_Group_Name_Carelessness with Heat Source</th>\n",
       "      <td>0.025568</td>\n",
       "    </tr>\n",
       "    <tr>\n",
       "      <th>OID_</th>\n",
       "      <td>0.019551</td>\n",
       "    </tr>\n",
       "    <tr>\n",
       "      <th>GNS_Neighb_Dist.x</th>\n",
       "      <td>0.014821</td>\n",
       "    </tr>\n",
       "    <tr>\n",
       "      <th>...</th>\n",
       "      <td>...</td>\n",
       "    </tr>\n",
       "    <tr>\n",
       "      <th>GNS_Wall_Const_Glass</th>\n",
       "      <td>0.000001</td>\n",
       "    </tr>\n",
       "    <tr>\n",
       "      <th>GNS_Roof_Const_Weatherboard</th>\n",
       "      <td>0.000000</td>\n",
       "    </tr>\n",
       "    <tr>\n",
       "      <th>GNS_Roof_Const_Brick</th>\n",
       "      <td>0.000000</td>\n",
       "    </tr>\n",
       "    <tr>\n",
       "      <th>GNS_Roof_Const_Glass</th>\n",
       "      <td>0.000000</td>\n",
       "    </tr>\n",
       "    <tr>\n",
       "      <th>GNS_Use_Category_Parking</th>\n",
       "      <td>0.000000</td>\n",
       "    </tr>\n",
       "  </tbody>\n",
       "</table>\n",
       "<p>257 rows × 1 columns</p>\n",
       "</div>"
      ],
      "text/plain": [
       "                                                    importance\n",
       "Second_Arrival_Mins.x                                 0.155749\n",
       "Damage_m2.x                                           0.042080\n",
       "Fire_Cause_Group_Name_Carelessness with Heat So...    0.025568\n",
       "OID_                                                  0.019551\n",
       "GNS_Neighb_Dist.x                                     0.014821\n",
       "...                                                        ...\n",
       "GNS_Wall_Const_Glass                                  0.000001\n",
       "GNS_Roof_Const_Weatherboard                           0.000000\n",
       "GNS_Roof_Const_Brick                                  0.000000\n",
       "GNS_Roof_Const_Glass                                  0.000000\n",
       "GNS_Use_Category_Parking                              0.000000\n",
       "\n",
       "[257 rows x 1 columns]"
      ]
     },
     "execution_count": 22,
     "metadata": {},
     "output_type": "execute_result"
    }
   ],
   "source": [
    "df_feature_importance = pd.DataFrame.from_dict({x:y for x,y in zip(list(independent_variables),rf.feature_importances_)},orient='index')\n",
    "df_feature_importance.rename(columns={0:'importance'},inplace=True)\n",
    "df_feature_importance.sort_values('importance',ascending=False,inplace=True)\n",
    "df_feature_importance"
   ]
  },
  {
   "cell_type": "markdown",
   "id": "ec5d1734-c977-40cc-8f34-bc8d13cf0127",
   "metadata": {},
   "source": [
    "# Classifier"
   ]
  },
  {
   "cell_type": "code",
   "execution_count": 23,
   "id": "a5ccb1df-7a43-4fd7-8fcb-cfe0f79c89e7",
   "metadata": {},
   "outputs": [
    {
     "name": "stderr",
     "output_type": "stream",
     "text": [
      "C:\\Users\\shannonb\\AppData\\Local\\miniconda3\\envs\\p37\\lib\\site-packages\\pandas\\core\\indexing.py:1773: SettingWithCopyWarning: \n",
      "A value is trying to be set on a copy of a slice from a DataFrame.\n",
      "Try using .loc[row_indexer,col_indexer] = value instead\n",
      "\n",
      "See the caveats in the documentation: https://pandas.pydata.org/pandas-docs/stable/user_guide/indexing.html#returning-a-view-versus-a-copy\n",
      "  self._setitem_single_column(ilocs[0], value, pi)\n"
     ]
    }
   ],
   "source": [
    "df_testing.loc[:,target_variable] = [0 if x<1 else 1 for x in df_testing[target_variable]]\n",
    "df_training.loc[:,target_variable] = [0 if x<1 else 1 for x in df_training[target_variable]]"
   ]
  },
  {
   "cell_type": "code",
   "execution_count": 24,
   "id": "651fec0c-2426-4c2b-913a-7276d9c9a986",
   "metadata": {},
   "outputs": [
    {
     "data": {
      "text/plain": [
       "GradientBoostingClassifier()"
      ]
     },
     "execution_count": 24,
     "metadata": {},
     "output_type": "execute_result"
    }
   ],
   "source": [
    "# Train the model\n",
    "rf = GradientBoostingClassifier()\n",
    "rf.fit(df_training[independent_variables],df_training[target_variable])"
   ]
  },
  {
   "cell_type": "code",
   "execution_count": 25,
   "id": "5091e3f6-2ffc-481d-a6b9-d9821aa1f8a4",
   "metadata": {},
   "outputs": [],
   "source": [
    "predictions = rf.predict(df_testing[independent_variables])"
   ]
  },
  {
   "cell_type": "code",
   "execution_count": 26,
   "id": "5c9bda22-d90f-4e52-ad57-00291f7f90ef",
   "metadata": {},
   "outputs": [
    {
     "name": "stderr",
     "output_type": "stream",
     "text": [
      "C:\\Users\\shannonb\\AppData\\Local\\miniconda3\\envs\\p37\\lib\\site-packages\\pandas\\core\\indexing.py:1773: SettingWithCopyWarning: \n",
      "A value is trying to be set on a copy of a slice from a DataFrame.\n",
      "Try using .loc[row_indexer,col_indexer] = value instead\n",
      "\n",
      "See the caveats in the documentation: https://pandas.pydata.org/pandas-docs/stable/user_guide/indexing.html#returning-a-view-versus-a-copy\n",
      "  self._setitem_single_column(ilocs[0], value, pi)\n"
     ]
    }
   ],
   "source": [
    "df_testing.loc[:,'Casualty_Count.x_predicted'] = predictions\n",
    "df_testing.loc[:,'error'] = df_testing['Casualty_Count.x']-df_testing['Casualty_Count.x_predicted']"
   ]
  },
  {
   "cell_type": "code",
   "execution_count": 27,
   "id": "a49c8308-ef93-4aae-addd-b89fbb49c326",
   "metadata": {},
   "outputs": [],
   "source": [
    "df_testing.loc[:,'Casualty_Count.x_predicted_int'] = [int(x) for x in df_testing['Casualty_Count.x_predicted']]\n",
    "df_testing.loc[:,'error_int'] = df_testing['Casualty_Count.x']-[int(x) for x in df_testing['Casualty_Count.x_predicted_int']]\n"
   ]
  },
  {
   "cell_type": "code",
   "execution_count": 28,
   "id": "b460b582-59af-4e64-9fe4-64e7b87298d7",
   "metadata": {},
   "outputs": [],
   "source": [
    "actual_vs_predicted_casuality_dict = {}\n",
    "for casualty_count,group in df_testing.groupby('Casualty_Count.x'):\n",
    "    actual_vs_predicted_casuality_dict.update({\n",
    "        casualty_count:{k:len(v) for k,v in group.groupby('Casualty_Count.x_predicted_int')}\n",
    "    })\n",
    "    "
   ]
  },
  {
   "cell_type": "code",
   "execution_count": 29,
   "id": "cb85102b-bdf5-4d02-9fc3-72f4ffd79935",
   "metadata": {},
   "outputs": [
    {
     "name": "stdout",
     "output_type": "stream",
     "text": [
      "compare actual casualties vs predicted. rows are actual, columns are predicted. Numbers in table are count\n"
     ]
    },
    {
     "data": {
      "text/html": [
       "<div>\n",
       "<style scoped>\n",
       "    .dataframe tbody tr th:only-of-type {\n",
       "        vertical-align: middle;\n",
       "    }\n",
       "\n",
       "    .dataframe tbody tr th {\n",
       "        vertical-align: top;\n",
       "    }\n",
       "\n",
       "    .dataframe thead th {\n",
       "        text-align: right;\n",
       "    }\n",
       "</style>\n",
       "<table border=\"1\" class=\"dataframe\">\n",
       "  <thead>\n",
       "    <tr style=\"text-align: right;\">\n",
       "      <th></th>\n",
       "      <th>0</th>\n",
       "      <th>1</th>\n",
       "    </tr>\n",
       "  </thead>\n",
       "  <tbody>\n",
       "    <tr>\n",
       "      <th>0</th>\n",
       "      <td>9318</td>\n",
       "      <td>4782</td>\n",
       "    </tr>\n",
       "    <tr>\n",
       "      <th>1</th>\n",
       "      <td>163</td>\n",
       "      <td>686</td>\n",
       "    </tr>\n",
       "  </tbody>\n",
       "</table>\n",
       "</div>"
      ],
      "text/plain": [
       "      0     1\n",
       "0  9318  4782\n",
       "1   163   686"
      ]
     },
     "execution_count": 29,
     "metadata": {},
     "output_type": "execute_result"
    }
   ],
   "source": [
    "df_result_summary = pd.DataFrame.from_dict(actual_vs_predicted_casuality_dict,orient='index').fillna(0)\n",
    "print('compare actual casualties vs predicted. rows are actual, columns are predicted. Numbers in table are count')\n",
    "df_result_summary"
   ]
  },
  {
   "cell_type": "code",
   "execution_count": 30,
   "id": "20089575-80b3-4c39-a1d7-8e94b61cc345",
   "metadata": {},
   "outputs": [],
   "source": [
    "tp = df_result_summary.loc[1,1]\n",
    "tn = df_result_summary.loc[0,0]\n",
    "fn = df_result_summary.loc[1,0]\n",
    "fp = df_result_summary.loc[0,1]"
   ]
  },
  {
   "cell_type": "code",
   "execution_count": 31,
   "id": "a62a71ed-a996-4a1f-880e-5c251e5e50ca",
   "metadata": {},
   "outputs": [
    {
     "data": {
      "text/plain": [
       "0.21719170492322304"
      ]
     },
     "execution_count": 31,
     "metadata": {},
     "output_type": "execute_result"
    }
   ],
   "source": [
    "fscore = 2*tp/(2*tp+fp+fn)\n",
    "fscore"
   ]
  },
  {
   "cell_type": "code",
   "execution_count": null,
   "id": "07c14e87-944b-404a-9edc-4167a3c7e75d",
   "metadata": {},
   "outputs": [],
   "source": []
  }
 ],
 "metadata": {
  "kernelspec": {
   "display_name": "Python 3 (ipykernel)",
   "language": "python",
   "name": "python3"
  },
  "language_info": {
   "codemirror_mode": {
    "name": "ipython",
    "version": 3
   },
   "file_extension": ".py",
   "mimetype": "text/x-python",
   "name": "python",
   "nbconvert_exporter": "python",
   "pygments_lexer": "ipython3",
   "version": "3.7.16"
  }
 },
 "nbformat": 4,
 "nbformat_minor": 5
}
