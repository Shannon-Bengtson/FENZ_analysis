{
 "cells": [
  {
   "cell_type": "markdown",
   "id": "72a01d70-7722-44cd-b271-7e9b67871220",
   "metadata": {},
   "source": [
    "**building ID and probability to Christina**"
   ]
  },
  {
   "cell_type": "markdown",
   "id": "97c101be-5de4-4bf6-a9b0-95c9059f97c7",
   "metadata": {},
   "source": [
    "Only consider first arrival time\n",
    "\n",
    "Arrival time: calc vs actual"
   ]
  },
  {
   "cell_type": "markdown",
   "id": "c2e6d906-68de-469e-9a8c-542e48a4e497",
   "metadata": {
    "tags": []
   },
   "source": [
    "# File Setup"
   ]
  },
  {
   "cell_type": "code",
   "execution_count": 1,
   "id": "2a8b6f19-cbc1-42c5-8c8c-cde3d0ed59a4",
   "metadata": {},
   "outputs": [],
   "source": [
    "import pandas as pd\n",
    "import numpy as np\n",
    "import matplotlib.pyplot as plt\n",
    "from sklearn.ensemble import GradientBoostingClassifier\n",
    "from sklearn.ensemble import AdaBoostClassifier\n",
    "pd.options.mode.chained_assignment = None\n",
    "import datetime\n",
    "from matplotlib.lines import Line2D\n",
    "from IPython import embed\n",
    "import folium\n",
    "from shapely.geometry import Point\n",
    "import geopandas as gpd\n",
    "from folium.plugins import MarkerCluster\n",
    "import pickle"
   ]
  },
  {
   "cell_type": "markdown",
   "id": "fe60df35-f6f4-4547-80f9-4cffde2ad479",
   "metadata": {
    "tags": []
   },
   "source": [
    "# Load data"
   ]
  },
  {
   "cell_type": "code",
   "execution_count": 2,
   "id": "168f5031-7d8b-4f05-93be-160faa0b30ba",
   "metadata": {},
   "outputs": [
    {
     "name": "stderr",
     "output_type": "stream",
     "text": [
      "C:\\Users\\shannonb\\AppData\\Local\\miniconda3\\envs\\p37\\lib\\site-packages\\IPython\\core\\interactiveshell.py:3457: DtypeWarning: Columns (1) have mixed types.Specify dtype option on import or set low_memory=False.\n",
      "  exec(code_obj, self.user_global_ns, self.user_ns)\n"
     ]
    }
   ],
   "source": [
    "# Load data already merged with fenz data\n",
    "df_merge_with_fenz = pd.read_csv('shannon_data_residential 2.csv')\n",
    "df_merge_with_fenz.columns = [x.strip('.x') for x in list(df_merge_with_fenz)]\n",
    "# only consider callouts which happen on about the same timeframe as is given in the all nz building callout time calculation\n",
    "df_merge_with_fenz = df_merge_with_fenz[df_merge_with_fenz['First_Arrival_Mins']<30]\n",
    "\n",
    "# load all of nz building data with sa1 codes already attached\n",
    "df_new_zealand = pd.read_csv('buildings_complete_dataset.csv') # Buildings_AllNZ_AllColumns_SA1\n",
    "\n",
    "# Correct added column names to match the merge with fenz data\n",
    "df_new_zealand = df_new_zealand.rename(columns={'NEAR_DIST':'GNS_Neighb_Dist','travel_time_secs':'First_Arrival_Mins'})\n",
    "df_new_zealand.drop('OBJECTID',axis=1,inplace=True)\n",
    "df_new_zealand['First_Arrival_Mins'] = df_new_zealand['First_Arrival_Mins']/60\n",
    "df_oid = df_new_zealand[['Outline_id','x_coord','y_coord']].set_index(['Outline_id'])\n",
    "\n",
    "# load census data\n",
    "df_dwelling1 = pd.read_csv('Census/census_dwelling1.csv')\n",
    "df_dwelling2 = pd.read_csv('Census/census_dwelling2.csv')\n",
    "df_dwelling1.rename(columns={'SA1':'sa1'},inplace=True)\n",
    "df_dwelling2.rename(columns={'SA1':'sa1'},inplace=True)\n",
    "\n",
    "df_household = pd.read_csv('Census/census_household.csv')\n",
    "df_individual1 = pd.read_csv('Census/census_individual_1.csv')\n",
    "df_individual2a = pd.read_csv('Census/census_individual_2a.csv')\n",
    "df_individual2b = pd.read_csv('Census/census_individual_2b.csv')\n",
    "df_individual2c = pd.read_csv('Census/census_individual_2c.csv')\n",
    "df_individual3a = pd.read_csv('Census/census_individual_3a.csv')\n",
    "df_individual3b = pd.read_csv('Census/census_individual_3b.csv')\n",
    "\n",
    "df_list = [df_dwelling1, df_dwelling2, df_household, df_individual1, df_individual2a,\n",
    "           df_individual2b, df_individual2c, df_individual3a, df_individual3b]\n",
    "\n",
    "del df_dwelling1\n",
    "del df_dwelling2\n",
    "del df_household\n",
    "del df_individual1\n",
    "del df_individual2a\n",
    "del df_individual2b\n",
    "del df_individual2c\n",
    "del df_individual3a\n",
    "del df_individual3b"
   ]
  },
  {
   "cell_type": "markdown",
   "id": "f916e6ad-d229-4d1b-a922-a7e18209ac98",
   "metadata": {},
   "source": [
    "# Preproessing of census and all NZ building data "
   ]
  },
  {
   "cell_type": "markdown",
   "id": "5a802b39-daf7-4fc3-a274-728a0c416359",
   "metadata": {},
   "source": [
    "Data needs to be in the same form as the data already joined to FENZ data for the model pipeline"
   ]
  },
  {
   "cell_type": "code",
   "execution_count": 3,
   "id": "a988a870-68cf-4031-b22d-50c1e74b8b71",
   "metadata": {},
   "outputs": [],
   "source": [
    "def merge_dataframes_on_index(list_of_census_dfs):\n",
    "    \"\"\"\n",
    "    Merge a list of pandas DataFrames by joining on their index.\n",
    "    \n",
    "    Parameters:\n",
    "    df_list (list of pandas DataFrames): List of pandas DataFrames to be merged.\n",
    "    \n",
    "    Returns:\n",
    "    merged_df (pandas DataFrame): Merged DataFrame.\n",
    "    \"\"\"\n",
    "    list_of_census_dfs = [x[~x.sa1.isna()] for x in list_of_census_dfs]\n",
    "    list_of_census_dfs = [x.set_index('sa1') for x in list_of_census_dfs]\n",
    "    \n",
    "    if not list_of_census_dfs:\n",
    "        return None\n",
    "    \n",
    "    # Check if all DataFrames have unique indices\n",
    "    indices = [df.index.is_unique for df in list_of_census_dfs]\n",
    "    if not all(indices):\n",
    "        raise ValueError(\"All DataFrames must have unique indices.\")\n",
    "    \n",
    "    # Merge DataFrames\n",
    "    merged_df = pd.concat(list_of_census_dfs, axis=1)\n",
    "    \n",
    "    return(merged_df)"
   ]
  },
  {
   "cell_type": "code",
   "execution_count": 4,
   "id": "7cd4a5aa-3bf9-4116-8250-e4e958f8289d",
   "metadata": {},
   "outputs": [],
   "source": [
    "def merging_and_cleaning_datasets(list_of_census_dfs,df_gns):\n",
    "    df_gns_cp = df_gns.copy()\n",
    "    \n",
    "    df_census_data = merge_dataframes_on_index(list_of_census_dfs)\n",
    "    \n",
    "    df_census_data.index.names = ['SA12018_V1']\n",
    "    df_gns_cp.set_index('sa1Codes',inplace=True)\n",
    "    df_gns_cp.index.names = ['SA12018_V1']\n",
    "    \n",
    "    df_gns_cp.rename(columns={\n",
    "        'Outline_id':'OID_',\n",
    "        \"Use_Category\":\"GNS_Use_Category\",\n",
    "        \"Construction_Type\":\"GNS_Construction_Type_1\",\n",
    "        \"Age\":\"GNS_Age\",\n",
    "        \"Storeys\":\"GNS_Storeys\",\n",
    "        \"Floor_Area\":\"GNS_Floor_Area\",\n",
    "        \"Site_Cover\":\"GNS_Site_Cover\",\n",
    "        \"Roof_Const\":\"GNS_Roof_Const\",\n",
    "        \"Wall_Const\":\"GNS_Wall_Const\",\n",
    "        \"Floor_Height\":\"GNS_Floor_Hgt\",\n",
    "        \"Roof_Pitch\":\"GNS_Roof_Pitch\",\n",
    "        \"Parapet\":\"GNS_Parapet\",\n",
    "        \"Rep_Cost\":\"GNS_Rep_Cost\",\n",
    "        \"Rep_Cost_multi\":\"GNS_Rep_Cost_multi\",\n",
    "        \"Units\":\"GNS_Num_Units\",\n",
    "        \"Res_Units\":\"GNS_Res_Units\",\n",
    "        \"NonRes_Units\":\"GNS_NonRes_Units\",\n",
    "        \"Assign_type\":\"GNS_Assign_type\",\n",
    "        \"Building_dist\":\"GNS_Building_dist\",\n",
    "        \"Neighbour_dist\":\"GNS_Neighb_Dist\"\n",
    "    },inplace=True)\n",
    "    df_gns_cp = df_gns_cp.drop(['Point_id','Point_id','x_coord','y_coord','UseCat_code','ConType_code','Roof_code','Wall_code','RoofPitch_code','Parapet_code','Assign_code'],axis=1)\n",
    "    df_joined = df_gns_cp.join(df_census_data)\n",
    "    \n",
    "    df_joined = df_joined.reset_index()\n",
    "    \n",
    "    return(df_joined)\n"
   ]
  },
  {
   "cell_type": "code",
   "execution_count": 5,
   "id": "209e46e3-3205-47dd-b232-3b186b363b4f",
   "metadata": {},
   "outputs": [],
   "source": [
    "df_joined = merging_and_cleaning_datasets(df_list,df_new_zealand)\n",
    "\n",
    "# remove all columns which are not in the combined fenz data (there are some gns variables which get dropped here?)\n",
    "df_joined = df_joined[[x for x in list(df_joined) if x in list(df_merge_with_fenz)]]\n",
    "del df_new_zealand\n",
    "del df_list"
   ]
  },
  {
   "cell_type": "code",
   "execution_count": 6,
   "id": "1f5ed2d3-5628-4c58-97fc-99d42c936a75",
   "metadata": {},
   "outputs": [
    {
     "data": {
      "text/plain": [
       "7.705382222578257"
      ]
     },
     "execution_count": 6,
     "metadata": {},
     "output_type": "execute_result"
    }
   ],
   "source": [
    "np.mean(df_merge_with_fenz['First_Arrival_Mins'])"
   ]
  },
  {
   "cell_type": "code",
   "execution_count": 7,
   "id": "4e367698-bafa-47e8-9eaf-8b25b4a6fbcb",
   "metadata": {},
   "outputs": [
    {
     "data": {
      "text/plain": [
       "5.37"
      ]
     },
     "execution_count": 7,
     "metadata": {},
     "output_type": "execute_result"
    }
   ],
   "source": [
    "(df_merge_with_fenz['First_Arrival_Mins']).quantile(0.25)"
   ]
  },
  {
   "cell_type": "code",
   "execution_count": 8,
   "id": "dcc92493-869f-4915-828f-e1b53220d3de",
   "metadata": {},
   "outputs": [
    {
     "data": {
      "text/plain": [
       "8.78"
      ]
     },
     "execution_count": 8,
     "metadata": {},
     "output_type": "execute_result"
    }
   ],
   "source": [
    "(df_merge_with_fenz['First_Arrival_Mins']).quantile(0.75)"
   ]
  },
  {
   "cell_type": "code",
   "execution_count": 9,
   "id": "26c77c94-9da1-4459-abbc-d18b3c0b3ff0",
   "metadata": {},
   "outputs": [
    {
     "data": {
      "text/plain": [
       "29.88"
      ]
     },
     "execution_count": 9,
     "metadata": {},
     "output_type": "execute_result"
    }
   ],
   "source": [
    "(df_merge_with_fenz['First_Arrival_Mins']).quantile(0.9999)"
   ]
  },
  {
   "cell_type": "code",
   "execution_count": 10,
   "id": "b75bb218-5621-4d3d-bf92-0ed528be4920",
   "metadata": {},
   "outputs": [
    {
     "data": {
      "text/plain": [
       "0.07452266206062506"
      ]
     },
     "execution_count": 10,
     "metadata": {},
     "output_type": "execute_result"
    }
   ],
   "source": [
    "np.mean(df_joined['First_Arrival_Mins'])/60"
   ]
  },
  {
   "cell_type": "code",
   "execution_count": 11,
   "id": "28acccf8-d8b0-4916-94a9-e9839161353c",
   "metadata": {},
   "outputs": [
    {
     "data": {
      "text/plain": [
       "2.446958817358365"
      ]
     },
     "execution_count": 11,
     "metadata": {},
     "output_type": "execute_result"
    }
   ],
   "source": [
    "(df_joined['First_Arrival_Mins']).quantile(0.25)"
   ]
  },
  {
   "cell_type": "code",
   "execution_count": 12,
   "id": "cf60ae19-52f4-466e-b975-0b97aa1b89f2",
   "metadata": {},
   "outputs": [
    {
     "data": {
      "text/plain": [
       "30.0"
      ]
     },
     "execution_count": 12,
     "metadata": {},
     "output_type": "execute_result"
    }
   ],
   "source": [
    "(df_joined['First_Arrival_Mins']).quantile(0.9999)"
   ]
  },
  {
   "cell_type": "code",
   "execution_count": 13,
   "id": "ee25c32d-d6ba-40e6-bd66-3954470c976e",
   "metadata": {},
   "outputs": [
    {
     "data": {
      "text/plain": [
       "29.254817602681037"
      ]
     },
     "execution_count": 13,
     "metadata": {},
     "output_type": "execute_result"
    }
   ],
   "source": [
    "(df_joined['First_Arrival_Mins']).quantile(0.999)"
   ]
  },
  {
   "cell_type": "code",
   "execution_count": 14,
   "id": "b4482383-4779-4b49-a660-23917443bf1a",
   "metadata": {},
   "outputs": [
    {
     "data": {
      "text/plain": [
       "(array([43653., 17990.,  2350.,   576.,   198.,   122.,    50.,     0.,\n",
       "            0.,     0.,     0.,     0.,     0.,     0.,     0.,     0.,\n",
       "            0.,     0.,     0.]),\n",
       " array([ 0,  5, 10, 15, 20, 25, 30, 35, 40, 45, 50, 55, 60, 65, 70, 75, 80,\n",
       "        85, 90, 95]),\n",
       " <BarContainer object of 19 artists>)"
      ]
     },
     "execution_count": 14,
     "metadata": {},
     "output_type": "execute_result"
    },
    {
     "data": {
      "image/png": "[encoded data removed]",
      "text/plain": [
       "<Figure size 640x480 with 1 Axes>"
      ]
     },
     "metadata": {},
     "output_type": "display_data"
    }
   ],
   "source": [
    "plt.hist(df_merge_with_fenz['First_Arrival_Mins'],bins=np.arange(0,100,5))\n",
    "\n",
    "plt.hist((df_joined['First_Arrival_Mins']).sample(len(df_merge_with_fenz)),bins=np.arange(0,100,5))"
   ]
  },
  {
   "cell_type": "markdown",
   "id": "bdd9e530-fd25-4fff-8757-3f868ca6eee8",
   "metadata": {},
   "source": [
    "# Setup Model Pipeline"
   ]
  },
  {
   "cell_type": "code",
   "execution_count": 15,
   "id": "a5b0e903-9c9d-4d2e-a424-b98034794a05",
   "metadata": {},
   "outputs": [],
   "source": [
    "def combine_cols(df,label):\n",
    "    cols = [x for x in df if label in x]\n",
    "    most_likely = df[cols].idxmax(axis=1)\n",
    "    most_likely = [x.strip(label) for x in most_likely]\n",
    "    most_likely = [x.replace('P','') for x in most_likely]\n",
    "    most_likely = [x.replace('plus','') for x in most_likely]\n",
    "    most_likely = [float(x) for x in most_likely]\n",
    "    df[f'most_likely_{label}'] = most_likely\n",
    "    df.drop(cols,axis=1,inplace=True)\n",
    "    return(df)"
   ]
  },
  {
   "cell_type": "code",
   "execution_count": 16,
   "id": "0cab8a9f-35f9-4ddd-953b-1710c204b52a",
   "metadata": {},
   "outputs": [],
   "source": [
    "def processing_data(df_processed_data):\n",
    "    \n",
    "    # removing minutes for now because no way to use in risk rating\n",
    "    if 'Date_Time' in list(df_processed_data):\n",
    "        df_processed_data['date'] = [x.split(' ')[0] for x in df_processed_data['Date_Time']]\n",
    "        df_processed_data['date_count'] = [(datetime.datetime(int(x.split('/')[2]),int(x.split('/')[1]),int(x.split('/')[0]))-datetime.datetime(2003,1,1)).days for x in df_processed_data.date]\n",
    "        # df_processed_data['minutes'] = [int(x.split(':')[0])*60+int(x.split(':')[1]) for x in df_processed_data['time']]\n",
    "        # df_processed_data['time'] = [x.split(' ')[1] for x in df_processed_data['Date_Time']]\n",
    "        df_processed_data.drop(['Date_Time','date'],axis=1,inplace=True)\n",
    "    else: # this is the all of nz data case, where there is no date from fenz\n",
    "        df_processed_data['date_count'] = (datetime.datetime.today()-datetime.datetime(2003,1,1)).days\n",
    "    \n",
    "    \n",
    "    # Split categorical and numeric variables\n",
    "    numeric_vars = [x for x in list(df_processed_data) if type(df_processed_data.loc[0,x])!=type('str')]\n",
    "    categorical_vars = [x for x in list(df_processed_data) if (type(df_processed_data.loc[0,x])==type('str'))&('Date_Time' not in x)]\n",
    "    \n",
    "    # convert categorical variables to one-hot-encoded variables (binary)\n",
    "    df_one_hot_encoded = pd.get_dummies(df_processed_data[categorical_vars])\n",
    "\n",
    "    # get just numeric variables\n",
    "    df_numeric = df_processed_data[numeric_vars]\n",
    "    df_numeric = df_numeric.astype(float)\n",
    "\n",
    "    # Add back the one-hot-encoded categorical variables\n",
    "    df_numeric = df_numeric.join(df_one_hot_encoded)\n",
    "\n",
    "    # First, remove columns which have a significant portion of NAs (we're saying more than 1000\n",
    "    na_count = df_numeric.isna().sum().sort_values(ascending=True)\n",
    "    \n",
    "    # we're going to filter out nans for the analysis. OID and arrival has lots of nans. Will exclude OID from independent variables list, but want to keep it in the data frame so that we have a way of matching the coordiantes back in. We want arrival time because of it's predictive capability\n",
    "    arrival = df_numeric['First_Arrival_Mins']\n",
    "    OID = df_numeric['OID_']\n",
    "    df_numeric = df_numeric[[x for x in list(df_numeric) if (x not in list(na_count[na_count>11000].index))&((x!='OID_')|(x!='First_Arrival_mins'))]]\n",
    "    df_numeric['OID_'] = OID # put oid back\n",
    "    if 'First_Arrival_Mins' not in list(df_numeric):\n",
    "        df_numeric['First_Arrival_Mins'] = arrival # put arrival back\n",
    "    \n",
    "    # Now for all the remaining nans, remove the rows\n",
    "    df_numeric = df_numeric.dropna()\n",
    "\n",
    "    # combine some variabels to reduce the number of features\n",
    "    df_numeric = combine_cols(df_numeric,'Rooms.')\n",
    "    df_numeric = combine_cols(df_numeric,'Beds.')    \n",
    "    # df_numeric = combine_cols(df_numeric,'noVehc.') # too many nans\n",
    "    df_numeric = combine_cols(df_numeric,'children.')\n",
    "\n",
    "    label = 'yrs_at_res.'\n",
    "    df_numeric.rename(columns={'yrs_at_res.30more':'yrs_at_res.30'},inplace=True) \n",
    "    cols = [x for x in df_numeric if label in x]\n",
    "    most_likely = df_numeric[cols].idxmax(axis=1)\n",
    "    most_likely = [x.strip(label) for x in most_likely]\n",
    "    most_likely = [np.mean([float(y) for y in x.split('_')]) for x in most_likely]\n",
    "    df_numeric[f'most_likely_{label}'] = most_likely\n",
    "    df_numeric.drop(cols,axis=1,inplace=True)\n",
    "\n",
    "    label = 'income.'\n",
    "    df_numeric.rename(columns={'income.less5K':'income.5K',},inplace=True) \n",
    "    cols = [x for x in df_numeric if (label in x)&('K' in x)]\n",
    "    most_likely = df_numeric[cols].idxmax(axis=1)\n",
    "    most_likely = [x.strip(label) for x in most_likely]\n",
    "    most_likely = [x.replace('K','').replace('P','') for x in most_likely]\n",
    "    most_likely = [np.mean([float(y) for y in x.split('_')]) for x in most_likely]\n",
    "    df_numeric[f'most_likely_{label}'] = most_likely\n",
    "    df_numeric.drop(cols,axis=1,inplace=True)\n",
    "\n",
    "    label = 'hrsEmploy.'\n",
    "    df_numeric.rename(columns={'hrsEmploy.60more':'hrsEmploy.60'},inplace=True) \n",
    "    cols = [x for x in df_numeric if (label in x)]\n",
    "    most_likely = df_numeric[cols].idxmax(axis=1)\n",
    "    most_likely = [x.strip(label) for x in most_likely]\n",
    "    most_likely = [np.mean([float(y) for y in x.split('_')]) for x in most_likely]\n",
    "    df_numeric[f'most_likely_{label}'] = most_likely\n",
    "    df_numeric.drop(cols,axis=1,inplace=True)\n",
    "\n",
    "    df_numeric['earning_not_from_work'] = df_numeric['income.ACC']+df_numeric['income.supported']+df_numeric['income.jobSeeker']+df_numeric['income.soleParent']+df_numeric['income.otherBen']\n",
    "    df_numeric['combined_not_working'] = df_numeric['employed.notInLF']+df_numeric['employed.Unemployed']\n",
    "    df_numeric['earning_from_work'] = df_numeric['income.salary']+df_numeric['income.selfEmp']\n",
    "    df_numeric['studying'] = df_numeric['study.fullTime']+df_numeric['study.partTime']\n",
    "    df_numeric['diffCom.atleastSome'] = df_numeric['diffCom.some']+df_numeric['diffCom.aLot']+df_numeric['diffCom.cannot']\n",
    "    df_numeric['diffWalk.atleastSome'] = df_numeric['diffWalk.some']+df_numeric['diffWalk.aLot']+df_numeric['diffWalk.cannot']\n",
    "    df_numeric['homeOwn.OwnOrTrust'] = df_numeric['homeOwn.trust']+df_numeric['homeOwn.own']\n",
    "\n",
    "    cols = [x for x in list(df_numeric) if 'damp' in x]\n",
    "    numeric_damp = []\n",
    "    for row in df_numeric[cols].idxmax(axis=1):\n",
    "        if row=='damp.no':\n",
    "            numeric_damp.append(0)\n",
    "        elif row=='damp.sometimes':\n",
    "            numeric_damp.append(1)\n",
    "        elif row=='damp.always':\n",
    "            numeric_damp.append(2)\n",
    "        else:\n",
    "            asdf\n",
    "    df_numeric['dampness'] = numeric_damp\n",
    "\n",
    "    # removing columns we don't want to model as per discussion with Christina\n",
    "    heat_source_cols = [x for x in df_numeric if \"Heat_Source\" in x]\n",
    "    fire_source_cols = [x for x in df_numeric if \"Fire_Cause\" in x]\n",
    "    mould_cols = [x for x in df_numeric if 'mould' in x]\n",
    "    fuel_cols = [x for x in df_numeric if 'fuel' in x]\n",
    "    smoking_cols = [x for x in df_numeric if ('smoking' in x)&('regular' not in x)]\n",
    "    dwelling_cols = [x for x in df_numeric if 'dwelling' in x]\n",
    "    prev_residence_cols = [x for x in list(df_numeric) if ('res_5yrs_prev' in x)&('same' not in x)]\n",
    "    employed_cols = [x for x in list(df_numeric) if ('employed' in x)]\n",
    "    income_cols =  ['income.ACC','income.supported','income.jobSeeker','income.soleParent','income.otherBen','income.salary','income.selfEmp']\n",
    "    damp_cols =  ['damp.no','damp.sometimes','damp.always']\n",
    "    gns_use = [x for x in list(df_numeric) if 'GNS_Use_Category' in x]\n",
    "    temp_remove = ['Percent_Not_Saved','Damage_m2']\n",
    "    comp_of_casualties = ['Injury_Count','Fatality_Count']\n",
    "    always_zero_variables = ['GNS_Use_Category_Appurtenant','GNS_Use_Category_Forestry, Mining','GNS_Roof_Const_Roughcast,etc']\n",
    "    others_to_remove = ['MB2020_V2_','SA12018_V1','occupied','ResAway','nonPartnered','born.overseas','study.fullTime','study.partTime',\n",
    "                         'HSCert','HSDip','homeOwn.trust','homeOwn.own','diffCom.some','diffCom.aLot','diffCom.cannot','diffWalk.some','diffWalk.aLot','diffWalk.cannot',\n",
    "                        'age.30_64','age.15_29'] # removed OID_ from here\n",
    "\n",
    "    removal_list = heat_source_cols+fire_source_cols+mould_cols+fuel_cols+smoking_cols+dwelling_cols+prev_residence_cols+employed_cols+income_cols+others_to_remove+damp_cols+gns_use+temp_remove+comp_of_casualties+always_zero_variables\n",
    "\n",
    "    df_numeric = df_numeric[[x for x in list(df_numeric) if x not in removal_list]]\n",
    "    \n",
    "    ###################\n",
    "    # ADDITIONAL DELETES \n",
    "    ###################\n",
    "    too_many_nan_delete = [x for x in df_numeric if 'noVehc.' in x]\n",
    "    df_numeric.drop(too_many_nan_delete,axis=1,inplace=True)\n",
    "    df_numeric = df_numeric[[x for x in list(df_numeric) if x not in ['Second_Arrival_Mins']]] #'GNS_Neighb_Dist','First_Arrival_Mins', \n",
    "    add_delete = ['NZDep2018', 'yearsInNZ.20years', 'occupation.manager', 'occupation.profess', 'occupation.trade', 'occupation.community', 'occupation.clerical', 'occupation.sales', 'occupation.machinery', 'occupation.labourer', 'landlord.private', 'rent.median', 'tele.no', 'tele.land']\n",
    "    df_numeric = df_numeric[[x for x in list(df_numeric) if x not in add_delete]]\n",
    "    \n",
    "    return(df_numeric)\n",
    "    \n"
   ]
  },
  {
   "cell_type": "code",
   "execution_count": 17,
   "id": "8489f83a-47cd-44e7-88ed-225f0f008be3",
   "metadata": {},
   "outputs": [],
   "source": [
    "def test_train_split(df_unsplit,target_variable):\n",
    "    # binarise the target variable for classification algo\n",
    "    df_unsplit.loc[:,target_variable] = [0 if x<1 else 1 for x in df_unsplit[target_variable]]\n",
    "    \n",
    "    independent_variables = [x for x in list(df_unsplit) if x!=target_variable]\n",
    "    independent_variables.remove('OID_')\n",
    "\n",
    "    # split into testing and training\n",
    "    df_training = df_unsplit.sample(int(len(df_unsplit)*0.8))\n",
    "    df_testing = df_unsplit[~df_unsplit.index.isin(df_training.index)]\n",
    "\n",
    "    # Normalise the data\n",
    "    training_mins = np.min(df_training[independent_variables])\n",
    "    training_maxes = np.max(df_training[independent_variables])\n",
    "\n",
    "    df_training.loc[:,independent_variables] = (df_training[independent_variables]-training_mins)/(training_maxes-training_mins)\n",
    "    df_testing.loc[:,independent_variables] = (df_testing[independent_variables]-training_mins)/(training_maxes-training_mins)\n",
    "\n",
    "    # Adding extra rows which have casualties so that the dataset is approximately equal\n",
    "    df_training_0 = df_training[df_training[target_variable]==0]\n",
    "    df_training_gt0 = df_training[df_training[target_variable]>0]\n",
    "    df_training = df_training_0.append(pd.concat([df_training_gt0]*int(1+len(df_training_0)/len(df_training_gt0))))\n",
    "\n",
    "    return(df_training,df_testing,independent_variables)"
   ]
  },
  {
   "cell_type": "code",
   "execution_count": 18,
   "id": "0d73dc9d-6301-4590-89b8-5e7273a45450",
   "metadata": {},
   "outputs": [],
   "source": [
    "# Train the model\n",
    "def model_test(mod,df_training,df_testing,independent_variables,target_variable,modname):\n",
    "    not_for_prediction_list = ['First_Arrival_Mins','Second_Arrival_Mins','date_count','minutes']\n",
    "    prediction_list = [x for x in independent_variables if x not in not_for_prediction_list]\n",
    "    \n",
    "    mod.fit(df_training[independent_variables],df_training[target_variable])\n",
    "    \n",
    "    pickle.dump(mod, open(modname, 'wb'))\n",
    "\n",
    "    predictions = mod.predict(df_testing[independent_variables])\n",
    "    predictions_proba = mod.predict_proba(df_testing[independent_variables])\n",
    "    \n",
    "    df_testing.loc[:,f'{target_variable}_predicted'] = predictions\n",
    "    df_testing.loc[:,'error'] = df_testing[target_variable]-df_testing[f'{target_variable}_predicted']\n",
    "\n",
    "    df_testing.loc[:,f'{target_variable}_Probability'] = predictions_proba[:,1] \n",
    "    \n",
    "    actual_vs_predicted_casuality_dict = {}\n",
    "    for casualty_count,group in df_testing.groupby(target_variable):\n",
    "        actual_vs_predicted_casuality_dict.update({\n",
    "            casualty_count:{k:len(v) for k,v in group.groupby(f'{target_variable}_predicted')}\n",
    "        })\n",
    "\n",
    "    df_result_summary = pd.DataFrame.from_dict(actual_vs_predicted_casuality_dict,orient='index').fillna(0)\n",
    "    \n",
    "    tp = df_result_summary.loc[1,1]\n",
    "    tn = df_result_summary.loc[0,0]\n",
    "    fn = df_result_summary.loc[1,0]\n",
    "    fp = df_result_summary.loc[0,1]\n",
    "\n",
    "    fscore = 2*tp/(2*tp+fp+fn)\n",
    "\n",
    "    print('F-score',fscore)\n",
    "    print('')\n",
    "    \n",
    "    print('compare actual casualties vs predicted. rows are actual, columns are predicted. Numbers in table are count')\n",
    "    return(df_result_summary,mod)"
   ]
  },
  {
   "cell_type": "markdown",
   "id": "59115a30-6389-441d-8f22-19249d5f6809",
   "metadata": {},
   "source": [
    "# Run Model Pipeline on FENZ data"
   ]
  },
  {
   "cell_type": "code",
   "execution_count": 19,
   "id": "1e43e17f-5941-48a9-aa55-4a9a4e8bed27",
   "metadata": {},
   "outputs": [
    {
     "name": "stdout",
     "output_type": "stream",
     "text": [
      "F-score 0.1373145002681924\n",
      "\n",
      "compare actual casualties vs predicted. rows are actual, columns are predicted. Numbers in table are count\n"
     ]
    },
    {
     "data": {
      "text/html": [
       "<div>\n",
       "<style scoped>\n",
       "    .dataframe tbody tr th:only-of-type {\n",
       "        vertical-align: middle;\n",
       "    }\n",
       "\n",
       "    .dataframe tbody tr th {\n",
       "        vertical-align: top;\n",
       "    }\n",
       "\n",
       "    .dataframe thead th {\n",
       "        text-align: right;\n",
       "    }\n",
       "</style>\n",
       "<table border=\"1\" class=\"dataframe\">\n",
       "  <thead>\n",
       "    <tr style=\"text-align: right;\">\n",
       "      <th></th>\n",
       "      <th>0</th>\n",
       "      <th>1</th>\n",
       "    </tr>\n",
       "  </thead>\n",
       "  <tbody>\n",
       "    <tr>\n",
       "      <th>0</th>\n",
       "      <td>5472</td>\n",
       "      <td>4550</td>\n",
       "    </tr>\n",
       "    <tr>\n",
       "      <th>1</th>\n",
       "      <td>275</td>\n",
       "      <td>384</td>\n",
       "    </tr>\n",
       "  </tbody>\n",
       "</table>\n",
       "</div>"
      ],
      "text/plain": [
       "      0     1\n",
       "0  5472  4550\n",
       "1   275   384"
      ]
     },
     "execution_count": 19,
     "metadata": {},
     "output_type": "execute_result"
    }
   ],
   "source": [
    "target_variable = 'Casualty_Count'\n",
    "\n",
    "df_numeric = processing_data(df_merge_with_fenz)\n",
    "# del df_merge_with_fenz\n",
    "df_training,df_testing,independent_variables = test_train_split(df_numeric,target_variable)\n",
    "del df_numeric\n",
    "df_result_summary,mod = model_test(GradientBoostingClassifier(),df_training,df_testing,independent_variables,target_variable,'casualty_mod.sav')\n",
    "df_result_summary"
   ]
  },
  {
   "cell_type": "markdown",
   "id": "ccb425fd-c13d-438d-86e5-985703cb1c78",
   "metadata": {},
   "source": [
    "# Analyse Results"
   ]
  },
  {
   "cell_type": "code",
   "execution_count": 20,
   "id": "3f19497e-e621-4ee0-b570-535f6db374d2",
   "metadata": {},
   "outputs": [
    {
     "data": {
      "image/png": "[encoded data removed]",
      "text/plain": [
       "<Figure size 640x480 with 1 Axes>"
      ]
     },
     "metadata": {},
     "output_type": "display_data"
    }
   ],
   "source": [
    "%matplotlib inline\n",
    "fig,ax = plt.subplots()\n",
    "\n",
    "ax.hist(df_testing[target_variable+\"_Probability\"])\n",
    "ax.set_ylabel('Count')\n",
    "ax.set_xlabel('Probability')\n",
    "ax.set_title('Histogram of predicted probability of at least one casualty - testing dataset (FENZ)')\n",
    "\n",
    "plt.show()"
   ]
  },
  {
   "cell_type": "code",
   "execution_count": 21,
   "id": "e6c0ce99-ae61-455e-b428-89843dec1130",
   "metadata": {},
   "outputs": [],
   "source": [
    "# Split risk categories equally\n",
    "qb12 = df_testing[target_variable+'_Probability'].quantile(0.3333)\n",
    "qb23 = df_testing[target_variable+'_Probability'].quantile(0.6667)"
   ]
  },
  {
   "cell_type": "code",
   "execution_count": 22,
   "id": "cab6c0d0-4f6b-4536-8f24-4639589f89ff",
   "metadata": {},
   "outputs": [
    {
     "data": {
      "image/png": "[encoded data removed]",
      "text/plain": [
       "<Figure size 500x500 with 1 Axes>"
      ]
     },
     "metadata": {},
     "output_type": "display_data"
    }
   ],
   "source": [
    "fig = plt.figure(figsize=(5,5))\n",
    "ax1 = plt.subplot2grid((1,1),(0,0))\n",
    "\n",
    "for q,qlb,qub in zip(np.arange(1,4,1),[0,qb12,qb23],[qb12,qb23,1]):\n",
    "    ax1.bar(q,len(df_testing[(df_testing['Casualty_Count']==0)&(df_testing[target_variable+'_Probability']>qlb)&(df_testing[target_variable+'_Probability']<qub)]),color='k')\n",
    "    ax1.bar(q,len(df_testing[(df_testing['Casualty_Count']==1)&(df_testing[target_variable+'_Probability']>qlb)&(df_testing[target_variable+'_Probability']<qub)]),color='r',\n",
    "            bottom=len(df_testing[(df_testing['Casualty_Count']==0)&(df_testing[target_variable+'_Probability']>qlb)&(df_testing[target_variable+'_Probability']<qub)]))\n",
    "    \n",
    "ax1.set_ylabel('Number of Callouts')\n",
    "ax1.set_xlabel('Predicted Risk Category (quintiles)')\n",
    "# ax1.set_ylim([0,2250])\n",
    "\n",
    "casualties = Line2D([],[],c='r')\n",
    "no_casualties = Line2D([],[],c='k')\n",
    "\n",
    "legend = plt.legend([casualties,no_casualties],['Callouts with Casualties','Callouts without Casualties'],loc='lower right')\n",
    "legend.get_frame().set_alpha(None)"
   ]
  },
  {
   "cell_type": "code",
   "execution_count": 23,
   "id": "4114ffa8-8495-4951-99bb-301d284d22e7",
   "metadata": {},
   "outputs": [],
   "source": [
    "df_testing['risk_categories'] = pd.cut(df_testing[f'{target_variable}_Probability'],[0,qb12,qb23,1],labels=np.arange(1,4,1))"
   ]
  },
  {
   "cell_type": "code",
   "execution_count": 24,
   "id": "3da9c07c-687a-49fb-8d55-01de3015d75e",
   "metadata": {},
   "outputs": [
    {
     "data": {
      "text/html": [
       "<div>\n",
       "<style scoped>\n",
       "    .dataframe tbody tr th:only-of-type {\n",
       "        vertical-align: middle;\n",
       "    }\n",
       "\n",
       "    .dataframe tbody tr th {\n",
       "        vertical-align: top;\n",
       "    }\n",
       "\n",
       "    .dataframe thead th {\n",
       "        text-align: right;\n",
       "    }\n",
       "</style>\n",
       "<table border=\"1\" class=\"dataframe\">\n",
       "  <thead>\n",
       "    <tr style=\"text-align: right;\">\n",
       "      <th></th>\n",
       "      <th>Casualty_Count</th>\n",
       "      <th>Casualty_Count_Probability</th>\n",
       "      <th>risk_categories</th>\n",
       "    </tr>\n",
       "  </thead>\n",
       "  <tbody>\n",
       "    <tr>\n",
       "      <th>18</th>\n",
       "      <td>0</td>\n",
       "      <td>0.516275</td>\n",
       "      <td>2</td>\n",
       "    </tr>\n",
       "    <tr>\n",
       "      <th>22</th>\n",
       "      <td>0</td>\n",
       "      <td>0.306531</td>\n",
       "      <td>1</td>\n",
       "    </tr>\n",
       "    <tr>\n",
       "      <th>25</th>\n",
       "      <td>0</td>\n",
       "      <td>0.545948</td>\n",
       "      <td>3</td>\n",
       "    </tr>\n",
       "    <tr>\n",
       "      <th>31</th>\n",
       "      <td>0</td>\n",
       "      <td>0.493166</td>\n",
       "      <td>2</td>\n",
       "    </tr>\n",
       "    <tr>\n",
       "      <th>40</th>\n",
       "      <td>0</td>\n",
       "      <td>0.337312</td>\n",
       "      <td>1</td>\n",
       "    </tr>\n",
       "    <tr>\n",
       "      <th>...</th>\n",
       "      <td>...</td>\n",
       "      <td>...</td>\n",
       "      <td>...</td>\n",
       "    </tr>\n",
       "    <tr>\n",
       "      <th>75635</th>\n",
       "      <td>0</td>\n",
       "      <td>0.509263</td>\n",
       "      <td>2</td>\n",
       "    </tr>\n",
       "    <tr>\n",
       "      <th>75638</th>\n",
       "      <td>0</td>\n",
       "      <td>0.488692</td>\n",
       "      <td>2</td>\n",
       "    </tr>\n",
       "    <tr>\n",
       "      <th>75641</th>\n",
       "      <td>0</td>\n",
       "      <td>0.556485</td>\n",
       "      <td>3</td>\n",
       "    </tr>\n",
       "    <tr>\n",
       "      <th>75648</th>\n",
       "      <td>0</td>\n",
       "      <td>0.547595</td>\n",
       "      <td>3</td>\n",
       "    </tr>\n",
       "    <tr>\n",
       "      <th>75650</th>\n",
       "      <td>0</td>\n",
       "      <td>0.598894</td>\n",
       "      <td>3</td>\n",
       "    </tr>\n",
       "  </tbody>\n",
       "</table>\n",
       "<p>10681 rows × 3 columns</p>\n",
       "</div>"
      ],
      "text/plain": [
       "       Casualty_Count  Casualty_Count_Probability risk_categories\n",
       "18                  0                    0.516275               2\n",
       "22                  0                    0.306531               1\n",
       "25                  0                    0.545948               3\n",
       "31                  0                    0.493166               2\n",
       "40                  0                    0.337312               1\n",
       "...               ...                         ...             ...\n",
       "75635               0                    0.509263               2\n",
       "75638               0                    0.488692               2\n",
       "75641               0                    0.556485               3\n",
       "75648               0                    0.547595               3\n",
       "75650               0                    0.598894               3\n",
       "\n",
       "[10681 rows x 3 columns]"
      ]
     },
     "execution_count": 24,
     "metadata": {},
     "output_type": "execute_result"
    }
   ],
   "source": [
    "df_testing[['Casualty_Count','Casualty_Count_Probability','risk_categories']]"
   ]
  },
  {
   "cell_type": "markdown",
   "id": "b4f745a5-c57d-491b-bef7-6e31100d3cb3",
   "metadata": {},
   "source": [
    "# Run Model Pipeline on all Data"
   ]
  },
  {
   "cell_type": "code",
   "execution_count": 25,
   "id": "de567a08-4c78-4ddd-ac6c-37912f7b2711",
   "metadata": {},
   "outputs": [],
   "source": [
    "df_numeric_2 = processing_data(df_joined)"
   ]
  },
  {
   "cell_type": "code",
   "execution_count": 26,
   "id": "23f77eb8-347e-42fd-b0e1-a752593fe51a",
   "metadata": {},
   "outputs": [],
   "source": [
    "predictions_proba = mod.predict_proba(df_numeric_2[independent_variables])"
   ]
  },
  {
   "cell_type": "code",
   "execution_count": 27,
   "id": "9fd9e047-9484-41d7-a4b1-262e9f7d0027",
   "metadata": {},
   "outputs": [],
   "source": [
    "df_numeric_2[f'{target_variable}_Probability'] = predictions_proba[:,1]"
   ]
  },
  {
   "cell_type": "code",
   "execution_count": 28,
   "id": "c104fe69-53dd-4d6e-825d-2d273e93290d",
   "metadata": {},
   "outputs": [
    {
     "data": {
      "image/png": "[encoded data removed]",
      "text/plain": [
       "<Figure size 640x480 with 1 Axes>"
      ]
     },
     "metadata": {},
     "output_type": "display_data"
    }
   ],
   "source": [
    "%matplotlib inline\n",
    "fig,ax = plt.subplots()\n",
    "\n",
    "ax.hist(df_numeric_2[f'{target_variable}_Probability'])\n",
    "ax.set_ylabel('Count')\n",
    "ax.set_xlabel('Probability')\n",
    "ax.set_title('Histogram of predicted probability of at least one casualty - all data')\n",
    "\n",
    "plt.show()"
   ]
  },
  {
   "cell_type": "code",
   "execution_count": 29,
   "id": "30a4de56-56a8-490e-9b93-dea3022d6afc",
   "metadata": {},
   "outputs": [
    {
     "data": {
      "text/plain": [
       "0.12755527147818813"
      ]
     },
     "execution_count": 29,
     "metadata": {},
     "output_type": "execute_result"
    }
   ],
   "source": [
    "np.max(df_numeric_2[f'{target_variable}_Probability'])"
   ]
  },
  {
   "cell_type": "code",
   "execution_count": 30,
   "id": "2a3e3042-2313-4cac-aaf4-d0e80fe584ac",
   "metadata": {},
   "outputs": [],
   "source": [
    "df_numeric_2 = df_numeric_2.set_index('OID_')"
   ]
  },
  {
   "cell_type": "code",
   "execution_count": 31,
   "id": "0baa1a50-f20f-4ad5-b547-83d4b3ffd155",
   "metadata": {},
   "outputs": [],
   "source": [
    "df_numeric_2 = df_numeric_2.join(df_oid)"
   ]
  },
  {
   "cell_type": "code",
   "execution_count": 32,
   "id": "7bdaa197-4154-4908-99db-80154df59c04",
   "metadata": {},
   "outputs": [],
   "source": [
    "df_numeric_2.to_csv('buildings_with_casualty_prob.csv')"
   ]
  },
  {
   "cell_type": "markdown",
   "id": "5ada34b2-451d-4bfe-b2f9-8235f5cd69a2",
   "metadata": {},
   "source": [
    "# Plot spatially"
   ]
  },
  {
   "cell_type": "code",
   "execution_count": 33,
   "id": "e4cfb860-659b-496d-801e-20cd0c1f04ac",
   "metadata": {},
   "outputs": [],
   "source": [
    "# Split risk categories equally\n",
    "qb12 = df_numeric_2[f'{target_variable}_Probability'].quantile(0.3333)#np.max(df_numeric_2['Casualty_Probability'])/3\n",
    "qb23 = 0.05#np.max(df_numeric_2['Casualty_Probability'])*2/3\n",
    "\n",
    "df_numeric_2['risk_categories'] = pd.cut(df_numeric_2[f'{target_variable}_Probability'],[0,qb12,qb23,1],labels=np.arange(1,4,1))"
   ]
  },
  {
   "cell_type": "code",
   "execution_count": 34,
   "id": "0b37afcd-687d-4d23-bd1d-1432a27126bf",
   "metadata": {},
   "outputs": [
    {
     "data": {
      "text/plain": [
       "<matplotlib.collections.PathCollection at 0x2542752dcc8>"
      ]
     },
     "execution_count": 34,
     "metadata": {},
     "output_type": "execute_result"
    },
    {
     "data": {
      "image/png": "[encoded data removed]",
      "text/plain": [
       "<Figure size 640x480 with 1 Axes>"
      ]
     },
     "metadata": {},
     "output_type": "display_data"
    }
   ],
   "source": [
    "plt.scatter(df_numeric_2.x_coord,df_numeric_2.y_coord,c=df_numeric_2.risk_categories)"
   ]
  },
  {
   "cell_type": "code",
   "execution_count": 35,
   "id": "f6707217-c2ab-46e7-8eff-54cdc9afff88",
   "metadata": {},
   "outputs": [
    {
     "data": {
      "text/html": [
       "<div>\n",
       "<style scoped>\n",
       "    .dataframe tbody tr th:only-of-type {\n",
       "        vertical-align: middle;\n",
       "    }\n",
       "\n",
       "    .dataframe tbody tr th {\n",
       "        vertical-align: top;\n",
       "    }\n",
       "\n",
       "    .dataframe thead th {\n",
       "        text-align: right;\n",
       "    }\n",
       "</style>\n",
       "<table border=\"1\" class=\"dataframe\">\n",
       "  <thead>\n",
       "    <tr style=\"text-align: right;\">\n",
       "      <th></th>\n",
       "      <th>x_coord</th>\n",
       "      <th>y_coord</th>\n",
       "    </tr>\n",
       "  </thead>\n",
       "  <tbody>\n",
       "    <tr>\n",
       "      <th>1000000.0</th>\n",
       "      <td>1.804359e+06</td>\n",
       "      <td>5.814070e+06</td>\n",
       "    </tr>\n",
       "    <tr>\n",
       "      <th>1000001.0</th>\n",
       "      <td>1.804351e+06</td>\n",
       "      <td>5.814088e+06</td>\n",
       "    </tr>\n",
       "    <tr>\n",
       "      <th>1000004.0</th>\n",
       "      <td>1.804347e+06</td>\n",
       "      <td>5.814106e+06</td>\n",
       "    </tr>\n",
       "    <tr>\n",
       "      <th>1000005.0</th>\n",
       "      <td>1.804278e+06</td>\n",
       "      <td>5.814064e+06</td>\n",
       "    </tr>\n",
       "    <tr>\n",
       "      <th>1000007.0</th>\n",
       "      <td>1.804260e+06</td>\n",
       "      <td>5.814072e+06</td>\n",
       "    </tr>\n",
       "    <tr>\n",
       "      <th>1000008.0</th>\n",
       "      <td>1.804248e+06</td>\n",
       "      <td>5.814079e+06</td>\n",
       "    </tr>\n",
       "    <tr>\n",
       "      <th>1000010.0</th>\n",
       "      <td>1.804215e+06</td>\n",
       "      <td>5.814100e+06</td>\n",
       "    </tr>\n",
       "    <tr>\n",
       "      <th>1000011.0</th>\n",
       "      <td>1.804226e+06</td>\n",
       "      <td>5.814100e+06</td>\n",
       "    </tr>\n",
       "    <tr>\n",
       "      <th>1000014.0</th>\n",
       "      <td>1.804161e+06</td>\n",
       "      <td>5.814079e+06</td>\n",
       "    </tr>\n",
       "    <tr>\n",
       "      <th>1000015.0</th>\n",
       "      <td>1.804158e+06</td>\n",
       "      <td>5.814139e+06</td>\n",
       "    </tr>\n",
       "  </tbody>\n",
       "</table>\n",
       "</div>"
      ],
      "text/plain": [
       "                x_coord       y_coord\n",
       "1000000.0  1.804359e+06  5.814070e+06\n",
       "1000001.0  1.804351e+06  5.814088e+06\n",
       "1000004.0  1.804347e+06  5.814106e+06\n",
       "1000005.0  1.804278e+06  5.814064e+06\n",
       "1000007.0  1.804260e+06  5.814072e+06\n",
       "1000008.0  1.804248e+06  5.814079e+06\n",
       "1000010.0  1.804215e+06  5.814100e+06\n",
       "1000011.0  1.804226e+06  5.814100e+06\n",
       "1000014.0  1.804161e+06  5.814079e+06\n",
       "1000015.0  1.804158e+06  5.814139e+06"
      ]
     },
     "execution_count": 35,
     "metadata": {},
     "output_type": "execute_result"
    }
   ],
   "source": [
    "df_numeric_2[['x_coord','y_coord']].head(10)"
   ]
  },
  {
   "cell_type": "code",
   "execution_count": 36,
   "id": "f7c60936-ebd0-419c-b84f-4a2120931613",
   "metadata": {},
   "outputs": [
    {
     "name": "stderr",
     "output_type": "stream",
     "text": [
      "C:\\Users\\shannonb\\AppData\\Local\\miniconda3\\envs\\p37\\lib\\site-packages\\geopandas\\array.py:275: ShapelyDeprecationWarning: The array interface is deprecated and will no longer work in Shapely 2.0. Convert the '.coords' to a numpy array instead.\n",
      "  return GeometryArray(vectorized.points_from_xy(x, y, z), crs=crs)\n"
     ]
    },
    {
     "data": {
      "text/html": [
       "<div>\n",
       "<style scoped>\n",
       "    .dataframe tbody tr th:only-of-type {\n",
       "        vertical-align: middle;\n",
       "    }\n",
       "\n",
       "    .dataframe tbody tr th {\n",
       "        vertical-align: top;\n",
       "    }\n",
       "\n",
       "    .dataframe thead th {\n",
       "        text-align: right;\n",
       "    }\n",
       "</style>\n",
       "<table border=\"1\" class=\"dataframe\">\n",
       "  <thead>\n",
       "    <tr style=\"text-align: right;\">\n",
       "      <th></th>\n",
       "      <th>x_coord</th>\n",
       "      <th>y_coord</th>\n",
       "      <th>geometry</th>\n",
       "    </tr>\n",
       "  </thead>\n",
       "  <tbody>\n",
       "    <tr>\n",
       "      <th>0</th>\n",
       "      <td>174.7633</td>\n",
       "      <td>-36.8485</td>\n",
       "      <td>POINT (174.76330 -36.84850)</td>\n",
       "    </tr>\n",
       "    <tr>\n",
       "      <th>1</th>\n",
       "      <td>175.2810</td>\n",
       "      <td>-37.7870</td>\n",
       "      <td>POINT (175.28100 -37.78700)</td>\n",
       "    </tr>\n",
       "    <tr>\n",
       "      <th>2</th>\n",
       "      <td>175.0112</td>\n",
       "      <td>-37.8056</td>\n",
       "      <td>POINT (175.01120 -37.80560)</td>\n",
       "    </tr>\n",
       "  </tbody>\n",
       "</table>\n",
       "</div>"
      ],
      "text/plain": [
       "    x_coord  y_coord                     geometry\n",
       "0  174.7633 -36.8485  POINT (174.76330 -36.84850)\n",
       "1  175.2810 -37.7870  POINT (175.28100 -37.78700)\n",
       "2  175.0112 -37.8056  POINT (175.01120 -37.80560)"
      ]
     },
     "execution_count": 36,
     "metadata": {},
     "output_type": "execute_result"
    }
   ],
   "source": [
    "data = {'x_coord': [174.7633, 175.2810, 175.0112],\n",
    "        'y_coord': [-36.8485, -37.7870, -37.8056]}\n",
    "gdf = gpd.GeoDataFrame(data, geometry=gpd.points_from_xy(data['x_coord'], data['y_coord']))\n",
    "gdf"
   ]
  },
  {
   "cell_type": "code",
   "execution_count": 37,
   "id": "cb2083f1-fb12-4e0c-9e18-64988415cccb",
   "metadata": {},
   "outputs": [],
   "source": [
    "df_numeric_2_colored = df_numeric_2.copy()\n",
    "df_numeric_2_colored['risk_categories'] = pd.cut(df_numeric_2_colored[f'{target_variable}_Probability'],[0,qb12,qb23,1],labels=['blue','black','red'])\n",
    "\n",
    "df_numeric_2_sample = df_numeric_2_colored.sample(10000)\n",
    "geometry = [Point(xy) for xy in zip(df_numeric_2_sample.x_coord, df_numeric_2_sample.y_coord)]\n",
    "df = df_numeric_2_sample[['risk_categories']].rename(columns={'risk_categories':'color'})\n",
    "gdf = gpd.GeoDataFrame(df, crs=\"EPSG:2193\", geometry=geometry).to_crs('EPSG:4326')"
   ]
  },
  {
   "cell_type": "code",
   "execution_count": 38,
   "id": "181073b4-7ebb-49e5-92c9-1bd15c1a0a66",
   "metadata": {},
   "outputs": [
    {
     "data": {
      "image/png": "[encoded data removed]",
      "text/plain": [
       "<Figure size 640x480 with 1 Axes>"
      ]
     },
     "metadata": {},
     "output_type": "display_data"
    }
   ],
   "source": [
    "c1 = plt.scatter([],[],c='b')\n",
    "c2 = plt.scatter([],[],c='k')\n",
    "c3 = plt.scatter([],[],c='r')\n",
    "\n",
    "\n",
    "leg = plt.legend([c1,c2,c3],['Low','Medium','High'],facecolor ='0.9')\n",
    "plt.axis('off')\n",
    "\n",
    "fig = leg.figure\n",
    "fig.canvas.draw()\n",
    "\n",
    "bbox = leg.get_window_extent().transformed(fig.dpi_scale_trans.inverted())\n",
    "\n",
    "plt.savefig('legend.png',bbox_inches=bbox)"
   ]
  },
  {
   "cell_type": "code",
   "execution_count": 39,
   "id": "22392c2e-24c1-45af-a1f2-a960e8334f6c",
   "metadata": {},
   "outputs": [],
   "source": [
    "# Assuming gdf is your GeoDataFrame with 'color' column and 'geometry' column containing Point geometries\n",
    "\n",
    "nz_map = folium.Map(location=[-40.9006, 174.8860], zoom_start=5)\n",
    "\n",
    "# Create a MarkerCluster layer\n",
    "marker_cluster = MarkerCluster(disable_clustering_at_zoom=10).add_to(nz_map)\n",
    "\n",
    "# Add circle markers to the map for each point\n",
    "for _, row in gdf.iterrows():\n",
    "    folium.CircleMarker(\n",
    "        location=[row['geometry'].y, row['geometry'].x],  # Reversed order for Folium\n",
    "        radius=5,  # Adjust marker radius for better visibility\n",
    "        color=row['color'],  # Set marker border color\n",
    "        fill=True,\n",
    "        fill_color=row['color'],  # Set marker fill color\n",
    "        fill_opacity=0.6,  # Adjust opacity for better visibility\n",
    "    ).add_to(marker_cluster)\n",
    "    \n",
    "    \n",
    "# Legend \n",
    "legend_html = \"\"\"\n",
    "<div style=\"position: fixed; bottom: 15px; right: 1400px; z-index: 1000;width: 100px; height: 66px; background-color: white; border: 1px solid black; text-align: center;\">\n",
    "    <img src=\"{}\" alt=\"Custom Image Overlay\" style=\"max-width: 100%; max-height: 100%;\">\n",
    "</div>\n",
    "\"\"\".format(\"legend.png\")\n",
    "\n",
    "nz_map.get_root().html.add_child(folium.Element(legend_html))\n",
    "\n",
    "# Save the map to an HTML file\n",
    "nz_map.save('nz_map.html')\n",
    "\n",
    "# # Display the map\n",
    "# nz_map\n"
   ]
  },
  {
   "cell_type": "markdown",
   "id": "3f3d6b93-ba4a-473e-aff9-a2f547a04579",
   "metadata": {},
   "source": [
    "# Feature importance"
   ]
  },
  {
   "cell_type": "code",
   "execution_count": 40,
   "id": "3b29299e-9d3a-41d2-978a-faf7b152f0bd",
   "metadata": {},
   "outputs": [
    {
     "name": "stdout",
     "output_type": "stream",
     "text": [
      "Top 20 feature importance - all add up to 1.00\n"
     ]
    },
    {
     "data": {
      "text/html": [
       "<div>\n",
       "<style scoped>\n",
       "    .dataframe tbody tr th:only-of-type {\n",
       "        vertical-align: middle;\n",
       "    }\n",
       "\n",
       "    .dataframe tbody tr th {\n",
       "        vertical-align: top;\n",
       "    }\n",
       "\n",
       "    .dataframe thead th {\n",
       "        text-align: right;\n",
       "    }\n",
       "</style>\n",
       "<table border=\"1\" class=\"dataframe\">\n",
       "  <thead>\n",
       "    <tr style=\"text-align: right;\">\n",
       "      <th></th>\n",
       "      <th>0</th>\n",
       "    </tr>\n",
       "  </thead>\n",
       "  <tbody>\n",
       "    <tr>\n",
       "      <th>woodBurner</th>\n",
       "      <td>0.094354</td>\n",
       "    </tr>\n",
       "    <tr>\n",
       "      <th>First_Arrival_Mins</th>\n",
       "      <td>0.063352</td>\n",
       "    </tr>\n",
       "    <tr>\n",
       "      <th>date_count</th>\n",
       "      <td>0.047890</td>\n",
       "    </tr>\n",
       "    <tr>\n",
       "      <th>GNS_Rep_Cost</th>\n",
       "      <td>0.040120</td>\n",
       "    </tr>\n",
       "    <tr>\n",
       "      <th>ethnicGroup.pacific</th>\n",
       "      <td>0.034655</td>\n",
       "    </tr>\n",
       "    <tr>\n",
       "      <th>income.interest</th>\n",
       "      <td>0.031105</td>\n",
       "    </tr>\n",
       "    <tr>\n",
       "      <th>GNS_Age</th>\n",
       "      <td>0.029755</td>\n",
       "    </tr>\n",
       "    <tr>\n",
       "      <th>GNS_Floor_Area</th>\n",
       "      <td>0.027044</td>\n",
       "    </tr>\n",
       "    <tr>\n",
       "      <th>GNS_Neighb_Dist</th>\n",
       "      <td>0.023407</td>\n",
       "    </tr>\n",
       "    <tr>\n",
       "      <th>portableGasHeater</th>\n",
       "      <td>0.021287</td>\n",
       "    </tr>\n",
       "    <tr>\n",
       "      <th>GNS_Site_Cover</th>\n",
       "      <td>0.020291</td>\n",
       "    </tr>\n",
       "    <tr>\n",
       "      <th>smoking.regular</th>\n",
       "      <td>0.020227</td>\n",
       "    </tr>\n",
       "    <tr>\n",
       "      <th>households</th>\n",
       "      <td>0.018560</td>\n",
       "    </tr>\n",
       "    <tr>\n",
       "      <th>studying</th>\n",
       "      <td>0.018139</td>\n",
       "    </tr>\n",
       "    <tr>\n",
       "      <th>earning_not_from_work</th>\n",
       "      <td>0.018077</td>\n",
       "    </tr>\n",
       "    <tr>\n",
       "      <th>homeOwn.OwnOrTrust</th>\n",
       "      <td>0.017970</td>\n",
       "    </tr>\n",
       "    <tr>\n",
       "      <th>res_5yrs_prev.same</th>\n",
       "      <td>0.017666</td>\n",
       "    </tr>\n",
       "    <tr>\n",
       "      <th>unpaid.voluntary</th>\n",
       "      <td>0.017037</td>\n",
       "    </tr>\n",
       "    <tr>\n",
       "      <th>language.maori</th>\n",
       "      <td>0.016073</td>\n",
       "    </tr>\n",
       "    <tr>\n",
       "      <th>age.under15</th>\n",
       "      <td>0.015922</td>\n",
       "    </tr>\n",
       "    <tr>\n",
       "      <th>Empty</th>\n",
       "      <td>0.014126</td>\n",
       "    </tr>\n",
       "    <tr>\n",
       "      <th>earning_from_work</th>\n",
       "      <td>0.013880</td>\n",
       "    </tr>\n",
       "    <tr>\n",
       "      <th>language.NZsign</th>\n",
       "      <td>0.013018</td>\n",
       "    </tr>\n",
       "    <tr>\n",
       "      <th>diffWalk.no</th>\n",
       "      <td>0.012828</td>\n",
       "    </tr>\n",
       "    <tr>\n",
       "      <th>tele.internet</th>\n",
       "      <td>0.012764</td>\n",
       "    </tr>\n",
       "    <tr>\n",
       "      <th>descent.Maori</th>\n",
       "      <td>0.012724</td>\n",
       "    </tr>\n",
       "    <tr>\n",
       "      <th>unpaid.household</th>\n",
       "      <td>0.012685</td>\n",
       "    </tr>\n",
       "    <tr>\n",
       "      <th>descent.NoMaori</th>\n",
       "      <td>0.012556</td>\n",
       "    </tr>\n",
       "    <tr>\n",
       "      <th>GNS_Num_Units</th>\n",
       "      <td>0.012293</td>\n",
       "    </tr>\n",
       "    <tr>\n",
       "      <th>partnered</th>\n",
       "      <td>0.012129</td>\n",
       "    </tr>\n",
       "    <tr>\n",
       "      <th>coalBurner</th>\n",
       "      <td>0.011916</td>\n",
       "    </tr>\n",
       "    <tr>\n",
       "      <th>homeOwn.no</th>\n",
       "      <td>0.011117</td>\n",
       "    </tr>\n",
       "    <tr>\n",
       "      <th>combined_not_working</th>\n",
       "      <td>0.010864</td>\n",
       "    </tr>\n",
       "    <tr>\n",
       "      <th>separateHouse</th>\n",
       "      <td>0.009686</td>\n",
       "    </tr>\n",
       "    <tr>\n",
       "      <th>income.studentAll</th>\n",
       "      <td>0.009674</td>\n",
       "    </tr>\n",
       "    <tr>\n",
       "      <th>otherHeat</th>\n",
       "      <td>0.009492</td>\n",
       "    </tr>\n",
       "    <tr>\n",
       "      <th>GNS_Storeys</th>\n",
       "      <td>0.008640</td>\n",
       "    </tr>\n",
       "    <tr>\n",
       "      <th>electricHeater</th>\n",
       "      <td>0.008278</td>\n",
       "    </tr>\n",
       "    <tr>\n",
       "      <th>tele.mobile</th>\n",
       "      <td>0.008197</td>\n",
       "    </tr>\n",
       "    <tr>\n",
       "      <th>ethnicGroup.asian</th>\n",
       "      <td>0.008154</td>\n",
       "    </tr>\n",
       "    <tr>\n",
       "      <th>income.super</th>\n",
       "      <td>0.008044</td>\n",
       "    </tr>\n",
       "    <tr>\n",
       "      <th>unpaid.childNH</th>\n",
       "      <td>0.007958</td>\n",
       "    </tr>\n",
       "    <tr>\n",
       "      <th>postGrad</th>\n",
       "      <td>0.007844</td>\n",
       "    </tr>\n",
       "    <tr>\n",
       "      <th>language.english</th>\n",
       "      <td>0.007685</td>\n",
       "    </tr>\n",
       "    <tr>\n",
       "      <th>diffCom.atleastSome</th>\n",
       "      <td>0.007388</td>\n",
       "    </tr>\n",
       "    <tr>\n",
       "      <th>diffCom.no</th>\n",
       "      <td>0.007270</td>\n",
       "    </tr>\n",
       "    <tr>\n",
       "      <th>unpaid.childHH</th>\n",
       "      <td>0.006418</td>\n",
       "    </tr>\n",
       "    <tr>\n",
       "      <th>ethnicGroup.NZ</th>\n",
       "      <td>0.006397</td>\n",
       "    </tr>\n",
       "    <tr>\n",
       "      <th>unpaid.illHH</th>\n",
       "      <td>0.006323</td>\n",
       "    </tr>\n",
       "    <tr>\n",
       "      <th>unpaid.illNH</th>\n",
       "      <td>0.005944</td>\n",
       "    </tr>\n",
       "  </tbody>\n",
       "</table>\n",
       "</div>"
      ],
      "text/plain": [
       "                              0\n",
       "woodBurner             0.094354\n",
       "First_Arrival_Mins     0.063352\n",
       "date_count             0.047890\n",
       "GNS_Rep_Cost           0.040120\n",
       "ethnicGroup.pacific    0.034655\n",
       "income.interest        0.031105\n",
       "GNS_Age                0.029755\n",
       "GNS_Floor_Area         0.027044\n",
       "GNS_Neighb_Dist        0.023407\n",
       "portableGasHeater      0.021287\n",
       "GNS_Site_Cover         0.020291\n",
       "smoking.regular        0.020227\n",
       "households             0.018560\n",
       "studying               0.018139\n",
       "earning_not_from_work  0.018077\n",
       "homeOwn.OwnOrTrust     0.017970\n",
       "res_5yrs_prev.same     0.017666\n",
       "unpaid.voluntary       0.017037\n",
       "language.maori         0.016073\n",
       "age.under15            0.015922\n",
       "Empty                  0.014126\n",
       "earning_from_work      0.013880\n",
       "language.NZsign        0.013018\n",
       "diffWalk.no            0.012828\n",
       "tele.internet          0.012764\n",
       "descent.Maori          0.012724\n",
       "unpaid.household       0.012685\n",
       "descent.NoMaori        0.012556\n",
       "GNS_Num_Units          0.012293\n",
       "partnered              0.012129\n",
       "coalBurner             0.011916\n",
       "homeOwn.no             0.011117\n",
       "combined_not_working   0.010864\n",
       "separateHouse          0.009686\n",
       "income.studentAll      0.009674\n",
       "otherHeat              0.009492\n",
       "GNS_Storeys            0.008640\n",
       "electricHeater         0.008278\n",
       "tele.mobile            0.008197\n",
       "ethnicGroup.asian      0.008154\n",
       "income.super           0.008044\n",
       "unpaid.childNH         0.007958\n",
       "postGrad               0.007844\n",
       "language.english       0.007685\n",
       "diffCom.atleastSome    0.007388\n",
       "diffCom.no             0.007270\n",
       "unpaid.childHH         0.006418\n",
       "ethnicGroup.NZ         0.006397\n",
       "unpaid.illHH           0.006323\n",
       "unpaid.illNH           0.005944"
      ]
     },
     "execution_count": 40,
     "metadata": {},
     "output_type": "execute_result"
    }
   ],
   "source": [
    "df_feature_importance = pd.DataFrame.from_dict({x:y for x,y in zip(list(independent_variables),mod.feature_importances_)},orient='index').sort_values(0,ascending=False)\n",
    "print('Top 20 feature importance - all add up to 1.00')\n",
    "df_feature_importance.head(50)"
   ]
  },
  {
   "cell_type": "code",
   "execution_count": 41,
   "id": "a0e2599b-57fd-4282-9402-b4171bf3107a",
   "metadata": {},
   "outputs": [
    {
     "data": {
      "text/html": [
       "<div>\n",
       "<style scoped>\n",
       "    .dataframe tbody tr th:only-of-type {\n",
       "        vertical-align: middle;\n",
       "    }\n",
       "\n",
       "    .dataframe tbody tr th {\n",
       "        vertical-align: top;\n",
       "    }\n",
       "\n",
       "    .dataframe thead th {\n",
       "        text-align: right;\n",
       "    }\n",
       "</style>\n",
       "<table border=\"1\" class=\"dataframe\">\n",
       "  <thead>\n",
       "    <tr style=\"text-align: right;\">\n",
       "      <th></th>\n",
       "      <th>0</th>\n",
       "    </tr>\n",
       "  </thead>\n",
       "  <tbody>\n",
       "    <tr>\n",
       "      <th>GNS_Roof_Pitch_MODERATE (25–40 deg)</th>\n",
       "      <td>0.002132</td>\n",
       "    </tr>\n",
       "    <tr>\n",
       "      <th>noHeating</th>\n",
       "      <td>0.001910</td>\n",
       "    </tr>\n",
       "    <tr>\n",
       "      <th>language.tooYoung</th>\n",
       "      <td>0.001646</td>\n",
       "    </tr>\n",
       "    <tr>\n",
       "      <th>born.NZ</th>\n",
       "      <td>0.001512</td>\n",
       "    </tr>\n",
       "    <tr>\n",
       "      <th>GNS_Floor_Hgt</th>\n",
       "      <td>0.001379</td>\n",
       "    </tr>\n",
       "    <tr>\n",
       "      <th>GNS_Parapet_No Parapet</th>\n",
       "      <td>0.001279</td>\n",
       "    </tr>\n",
       "    <tr>\n",
       "      <th>GNS_Wall_Const_Plastic</th>\n",
       "      <td>0.001214</td>\n",
       "    </tr>\n",
       "    <tr>\n",
       "      <th>GNS_Construction_Type_1_Brick Masonry</th>\n",
       "      <td>0.001020</td>\n",
       "    </tr>\n",
       "    <tr>\n",
       "      <th>language.samoan</th>\n",
       "      <td>0.000968</td>\n",
       "    </tr>\n",
       "    <tr>\n",
       "      <th>GNS_Wall_Const_Weatherboard</th>\n",
       "      <td>0.000595</td>\n",
       "    </tr>\n",
       "    <tr>\n",
       "      <th>most_likely_yrs_at_res.</th>\n",
       "      <td>0.000162</td>\n",
       "    </tr>\n",
       "    <tr>\n",
       "      <th>income.no</th>\n",
       "      <td>0.000010</td>\n",
       "    </tr>\n",
       "    <tr>\n",
       "      <th>most_likely_income.</th>\n",
       "      <td>0.000008</td>\n",
       "    </tr>\n",
       "    <tr>\n",
       "      <th>GNS_Roof_Pitch_NEAR FLAT (&lt; 10 deg)</th>\n",
       "      <td>0.000003</td>\n",
       "    </tr>\n",
       "    <tr>\n",
       "      <th>most_likely_Beds.</th>\n",
       "      <td>0.000000</td>\n",
       "    </tr>\n",
       "    <tr>\n",
       "      <th>most_likely_Rooms.</th>\n",
       "      <td>0.000000</td>\n",
       "    </tr>\n",
       "    <tr>\n",
       "      <th>GNS_Parapet_Has Parapet</th>\n",
       "      <td>0.000000</td>\n",
       "    </tr>\n",
       "    <tr>\n",
       "      <th>GNS_Roof_Pitch_STEEP (&gt; 45 deg)</th>\n",
       "      <td>0.000000</td>\n",
       "    </tr>\n",
       "    <tr>\n",
       "      <th>most_likely_hrsEmploy.</th>\n",
       "      <td>0.000000</td>\n",
       "    </tr>\n",
       "    <tr>\n",
       "      <th>GNS_Roof_Pitch_GENTLE (10–25 deg)</th>\n",
       "      <td>0.000000</td>\n",
       "    </tr>\n",
       "    <tr>\n",
       "      <th>GNS_Wall_Const_Tile Profile</th>\n",
       "      <td>0.000000</td>\n",
       "    </tr>\n",
       "    <tr>\n",
       "      <th>GNS_Wall_Const_Steel/G-Iron</th>\n",
       "      <td>0.000000</td>\n",
       "    </tr>\n",
       "    <tr>\n",
       "      <th>GNS_Wall_Const_Mix.Material</th>\n",
       "      <td>0.000000</td>\n",
       "    </tr>\n",
       "    <tr>\n",
       "      <th>GNS_Roof_Const_Mix.Material</th>\n",
       "      <td>0.000000</td>\n",
       "    </tr>\n",
       "    <tr>\n",
       "      <th>GNS_Wall_Const_Malthoid/Fab</th>\n",
       "      <td>0.000000</td>\n",
       "    </tr>\n",
       "    <tr>\n",
       "      <th>GNS_Wall_Const_Glass</th>\n",
       "      <td>0.000000</td>\n",
       "    </tr>\n",
       "    <tr>\n",
       "      <th>income.other</th>\n",
       "      <td>0.000000</td>\n",
       "    </tr>\n",
       "    <tr>\n",
       "      <th>GNS_Construction_Type_1_Concrete Masonry</th>\n",
       "      <td>0.000000</td>\n",
       "    </tr>\n",
       "    <tr>\n",
       "      <th>GNS_Construction_Type_1_Light Industrial</th>\n",
       "      <td>0.000000</td>\n",
       "    </tr>\n",
       "    <tr>\n",
       "      <th>GNS_Construction_Type_1_Light Timber</th>\n",
       "      <td>0.000000</td>\n",
       "    </tr>\n",
       "    <tr>\n",
       "      <th>GNS_Construction_Type_1_Reinforced Concrete Moment Resisting Frame</th>\n",
       "      <td>0.000000</td>\n",
       "    </tr>\n",
       "    <tr>\n",
       "      <th>GNS_Construction_Type_1_Reinforced Concrete Shear Wall</th>\n",
       "      <td>0.000000</td>\n",
       "    </tr>\n",
       "    <tr>\n",
       "      <th>GNS_Construction_Type_1_Steel Braced Frame</th>\n",
       "      <td>0.000000</td>\n",
       "    </tr>\n",
       "    <tr>\n",
       "      <th>GNS_Construction_Type_1_Steel Moment Resisting Frame</th>\n",
       "      <td>0.000000</td>\n",
       "    </tr>\n",
       "    <tr>\n",
       "      <th>GNS_Construction_Type_1_Tilt Up Panel</th>\n",
       "      <td>0.000000</td>\n",
       "    </tr>\n",
       "    <tr>\n",
       "      <th>GNS_Roof_Const_Aluminium</th>\n",
       "      <td>0.000000</td>\n",
       "    </tr>\n",
       "    <tr>\n",
       "      <th>GNS_Roof_Const_Brick</th>\n",
       "      <td>0.000000</td>\n",
       "    </tr>\n",
       "    <tr>\n",
       "      <th>GNS_Roof_Const_Fibre Cement</th>\n",
       "      <td>0.000000</td>\n",
       "    </tr>\n",
       "    <tr>\n",
       "      <th>GNS_Roof_Const_Glass</th>\n",
       "      <td>0.000000</td>\n",
       "    </tr>\n",
       "    <tr>\n",
       "      <th>ethnicGroup.other</th>\n",
       "      <td>0.000000</td>\n",
       "    </tr>\n",
       "    <tr>\n",
       "      <th>GNS_Roof_Const_Plastic</th>\n",
       "      <td>0.000000</td>\n",
       "    </tr>\n",
       "    <tr>\n",
       "      <th>GNS_Roof_Const_Steel/G-Iron</th>\n",
       "      <td>0.000000</td>\n",
       "    </tr>\n",
       "    <tr>\n",
       "      <th>GNS_Roof_Const_Stone</th>\n",
       "      <td>0.000000</td>\n",
       "    </tr>\n",
       "    <tr>\n",
       "      <th>GNS_Roof_Const_Tile Profile</th>\n",
       "      <td>0.000000</td>\n",
       "    </tr>\n",
       "    <tr>\n",
       "      <th>GNS_Roof_Const_Weatherboard</th>\n",
       "      <td>0.000000</td>\n",
       "    </tr>\n",
       "    <tr>\n",
       "      <th>GNS_Wall_Const_Aluminium</th>\n",
       "      <td>0.000000</td>\n",
       "    </tr>\n",
       "    <tr>\n",
       "      <th>GNS_Wall_Const_Brick</th>\n",
       "      <td>0.000000</td>\n",
       "    </tr>\n",
       "    <tr>\n",
       "      <th>GNS_Wall_Const_Concrete</th>\n",
       "      <td>0.000000</td>\n",
       "    </tr>\n",
       "    <tr>\n",
       "      <th>GNS_Wall_Const_Fibre Cement</th>\n",
       "      <td>0.000000</td>\n",
       "    </tr>\n",
       "    <tr>\n",
       "      <th>dampness</th>\n",
       "      <td>0.000000</td>\n",
       "    </tr>\n",
       "  </tbody>\n",
       "</table>\n",
       "</div>"
      ],
      "text/plain": [
       "                                                           0\n",
       "GNS_Roof_Pitch_MODERATE (25–40 deg)                 0.002132\n",
       "noHeating                                           0.001910\n",
       "language.tooYoung                                   0.001646\n",
       "born.NZ                                             0.001512\n",
       "GNS_Floor_Hgt                                       0.001379\n",
       "GNS_Parapet_No Parapet                              0.001279\n",
       "GNS_Wall_Const_Plastic                              0.001214\n",
       "GNS_Construction_Type_1_Brick Masonry               0.001020\n",
       "language.samoan                                     0.000968\n",
       "GNS_Wall_Const_Weatherboard                         0.000595\n",
       "most_likely_yrs_at_res.                             0.000162\n",
       "income.no                                           0.000010\n",
       "most_likely_income.                                 0.000008\n",
       "GNS_Roof_Pitch_NEAR FLAT (< 10 deg)                 0.000003\n",
       "most_likely_Beds.                                   0.000000\n",
       "most_likely_Rooms.                                  0.000000\n",
       "GNS_Parapet_Has Parapet                             0.000000\n",
       "GNS_Roof_Pitch_STEEP (> 45 deg)                     0.000000\n",
       "most_likely_hrsEmploy.                              0.000000\n",
       "GNS_Roof_Pitch_GENTLE (10–25 deg)                   0.000000\n",
       "GNS_Wall_Const_Tile Profile                         0.000000\n",
       "GNS_Wall_Const_Steel/G-Iron                         0.000000\n",
       "GNS_Wall_Const_Mix.Material                         0.000000\n",
       "GNS_Roof_Const_Mix.Material                         0.000000\n",
       "GNS_Wall_Const_Malthoid/Fab                         0.000000\n",
       "GNS_Wall_Const_Glass                                0.000000\n",
       "income.other                                        0.000000\n",
       "GNS_Construction_Type_1_Concrete Masonry            0.000000\n",
       "GNS_Construction_Type_1_Light Industrial            0.000000\n",
       "GNS_Construction_Type_1_Light Timber                0.000000\n",
       "GNS_Construction_Type_1_Reinforced Concrete Mom...  0.000000\n",
       "GNS_Construction_Type_1_Reinforced Concrete She...  0.000000\n",
       "GNS_Construction_Type_1_Steel Braced Frame          0.000000\n",
       "GNS_Construction_Type_1_Steel Moment Resisting ...  0.000000\n",
       "GNS_Construction_Type_1_Tilt Up Panel               0.000000\n",
       "GNS_Roof_Const_Aluminium                            0.000000\n",
       "GNS_Roof_Const_Brick                                0.000000\n",
       "GNS_Roof_Const_Fibre Cement                         0.000000\n",
       "GNS_Roof_Const_Glass                                0.000000\n",
       "ethnicGroup.other                                   0.000000\n",
       "GNS_Roof_Const_Plastic                              0.000000\n",
       "GNS_Roof_Const_Steel/G-Iron                         0.000000\n",
       "GNS_Roof_Const_Stone                                0.000000\n",
       "GNS_Roof_Const_Tile Profile                         0.000000\n",
       "GNS_Roof_Const_Weatherboard                         0.000000\n",
       "GNS_Wall_Const_Aluminium                            0.000000\n",
       "GNS_Wall_Const_Brick                                0.000000\n",
       "GNS_Wall_Const_Concrete                             0.000000\n",
       "GNS_Wall_Const_Fibre Cement                         0.000000\n",
       "dampness                                            0.000000"
      ]
     },
     "execution_count": 41,
     "metadata": {},
     "output_type": "execute_result"
    }
   ],
   "source": [
    "df_feature_importance.tail(50)"
   ]
  },
  {
   "cell_type": "markdown",
   "id": "50eced99-1991-441c-a143-5a261582bced",
   "metadata": {},
   "source": [
    "# Model for Building Fire"
   ]
  },
  {
   "cell_type": "code",
   "execution_count": 42,
   "id": "741942b9-e5cf-46f5-a14e-cede49cc34d0",
   "metadata": {},
   "outputs": [],
   "source": [
    "# travel time should be removed"
   ]
  },
  {
   "cell_type": "code",
   "execution_count": 43,
   "id": "a9442033-3d79-41d3-9ba9-25a1495962d6",
   "metadata": {},
   "outputs": [],
   "source": [
    "df_was_fire = processing_data(df_merge_with_fenz)\n",
    "df_was_fire.drop(['Casualty_Count'],axis=1,inplace=True)\n",
    "df_all_buildings = processing_data(df_joined)\n",
    "\n",
    "# This may not be the best thing to do, but drop duplicated buildings (maybe there are some with identical characteristics?)\n",
    "df_all_buildings = df_all_buildings.drop_duplicates()\n",
    "df_was_fire = df_was_fire.drop_duplicates()"
   ]
  },
  {
   "cell_type": "code",
   "execution_count": 44,
   "id": "cd9706fe-a240-4383-865e-855dd307d0ff",
   "metadata": {},
   "outputs": [],
   "source": [
    "df_was_fire['was_fire'] = 1\n",
    "df_all_buildings['was_fire'] = 0"
   ]
  },
  {
   "cell_type": "code",
   "execution_count": 45,
   "id": "f6bedc11-8cbf-4ccd-8ac2-367b9ce25a77",
   "metadata": {},
   "outputs": [],
   "source": [
    "df_with_and_without_fire = pd.concat([df_all_buildings]+[df_was_fire]*int(1+len(df_all_buildings)/len(df_was_fire)))\n",
    "df_with_and_without_fire = df_with_and_without_fire.drop(['date_count'],axis=1)\n",
    "# Not sure why there weren't any duplicates (other than my artificial ones) to drop?"
   ]
  },
  {
   "cell_type": "code",
   "execution_count": 46,
   "id": "03a79f4a-bcb7-4991-9676-ea48b4971326",
   "metadata": {},
   "outputs": [],
   "source": [
    "target_variable = 'was_fire'\n",
    "df_training_was_fire,df_testing_was_fire,independent_variables_was_fire = test_train_split(df_with_and_without_fire,target_variable)"
   ]
  },
  {
   "cell_type": "code",
   "execution_count": 47,
   "id": "c25b7b1e-e3c9-4e4b-b62a-0b51887fc571",
   "metadata": {},
   "outputs": [],
   "source": [
    "mylist = list(df_training_was_fire.T.dropna().T)"
   ]
  },
  {
   "cell_type": "code",
   "execution_count": 48,
   "id": "ad6c54aa-b958-403e-8d78-27552f0e004f",
   "metadata": {},
   "outputs": [
    {
     "data": {
      "text/plain": [
       "[]"
      ]
     },
     "execution_count": 48,
     "metadata": {},
     "output_type": "execute_result"
    }
   ],
   "source": [
    "[x for x in list(df_training_was_fire) if x not in mylist]"
   ]
  },
  {
   "cell_type": "code",
   "execution_count": 49,
   "id": "6b06b44e-c978-4fae-aba8-94857b2d7de9",
   "metadata": {},
   "outputs": [
    {
     "name": "stdout",
     "output_type": "stream",
     "text": [
      "F-score 0.6583999211645754\n",
      "\n",
      "compare actual casualties vs predicted. rows are actual, columns are predicted. Numbers in table are count\n"
     ]
    },
    {
     "data": {
      "text/html": [
       "<div>\n",
       "<style scoped>\n",
       "    .dataframe tbody tr th:only-of-type {\n",
       "        vertical-align: middle;\n",
       "    }\n",
       "\n",
       "    .dataframe tbody tr th {\n",
       "        vertical-align: top;\n",
       "    }\n",
       "\n",
       "    .dataframe thead th {\n",
       "        text-align: right;\n",
       "    }\n",
       "</style>\n",
       "<table border=\"1\" class=\"dataframe\">\n",
       "  <thead>\n",
       "    <tr style=\"text-align: right;\">\n",
       "      <th></th>\n",
       "      <th>0</th>\n",
       "      <th>1</th>\n",
       "    </tr>\n",
       "  </thead>\n",
       "  <tbody>\n",
       "    <tr>\n",
       "      <th>0</th>\n",
       "      <td>69542</td>\n",
       "      <td>1466797</td>\n",
       "    </tr>\n",
       "    <tr>\n",
       "      <th>1</th>\n",
       "      <td>68846</td>\n",
       "      <td>1479899</td>\n",
       "    </tr>\n",
       "  </tbody>\n",
       "</table>\n",
       "</div>"
      ],
      "text/plain": [
       "       0        1\n",
       "0  69542  1466797\n",
       "1  68846  1479899"
      ]
     },
     "execution_count": 49,
     "metadata": {},
     "output_type": "execute_result"
    }
   ],
   "source": [
    "\n",
    "df_result_summary_was_fire,mod_was_fire = model_test(GradientBoostingClassifier(),df_training_was_fire,df_with_and_without_fire,independent_variables_was_fire,target_variable,'was_fire.sav')\n",
    "df_result_summary_was_fire"
   ]
  },
  {
   "cell_type": "markdown",
   "id": "e0886633-209b-4a27-b5d3-f972edff5643",
   "metadata": {},
   "source": [
    "# Analyse If building fire occurs Results"
   ]
  },
  {
   "cell_type": "code",
   "execution_count": 50,
   "id": "63be7d9f-7bfd-4754-bba5-7901691a12ce",
   "metadata": {},
   "outputs": [
    {
     "ename": "KeyError",
     "evalue": "'was_fire_Probability'",
     "output_type": "error",
     "traceback": [
      "\u001b[1;31m---------------------------------------------------------------------------\u001b[0m",
      "\u001b[1;31mKeyError\u001b[0m                                  Traceback (most recent call last)",
      "\u001b[1;32m~\\AppData\\Local\\miniconda3\\envs\\p37\\lib\\site-packages\\pandas\\core\\indexes\\base.py\u001b[0m in \u001b[0;36mget_loc\u001b[1;34m(self, key, method, tolerance)\u001b[0m\n\u001b[0;32m   3360\u001b[0m             \u001b[1;32mtry\u001b[0m\u001b[1;33m:\u001b[0m\u001b[1;33m\u001b[0m\u001b[1;33m\u001b[0m\u001b[0m\n\u001b[1;32m-> 3361\u001b[1;33m                 \u001b[1;32mreturn\u001b[0m \u001b[0mself\u001b[0m\u001b[1;33m.\u001b[0m\u001b[0m_engine\u001b[0m\u001b[1;33m.\u001b[0m\u001b[0mget_loc\u001b[0m\u001b[1;33m(\u001b[0m\u001b[0mcasted_key\u001b[0m\u001b[1;33m)\u001b[0m\u001b[1;33m\u001b[0m\u001b[1;33m\u001b[0m\u001b[0m\n\u001b[0m\u001b[0;32m   3362\u001b[0m             \u001b[1;32mexcept\u001b[0m \u001b[0mKeyError\u001b[0m \u001b[1;32mas\u001b[0m \u001b[0merr\u001b[0m\u001b[1;33m:\u001b[0m\u001b[1;33m\u001b[0m\u001b[1;33m\u001b[0m\u001b[0m\n",
      "\u001b[1;32m~\\AppData\\Local\\miniconda3\\envs\\p37\\lib\\site-packages\\pandas\\_libs\\index.pyx\u001b[0m in \u001b[0;36mpandas._libs.index.IndexEngine.get_loc\u001b[1;34m()\u001b[0m\n",
      "\u001b[1;32m~\\AppData\\Local\\miniconda3\\envs\\p37\\lib\\site-packages\\pandas\\_libs\\index.pyx\u001b[0m in \u001b[0;36mpandas._libs.index.IndexEngine.get_loc\u001b[1;34m()\u001b[0m\n",
      "\u001b[1;32mpandas\\_libs\\hashtable_class_helper.pxi\u001b[0m in \u001b[0;36mpandas._libs.hashtable.PyObjectHashTable.get_item\u001b[1;34m()\u001b[0m\n",
      "\u001b[1;32mpandas\\_libs\\hashtable_class_helper.pxi\u001b[0m in \u001b[0;36mpandas._libs.hashtable.PyObjectHashTable.get_item\u001b[1;34m()\u001b[0m\n",
      "\u001b[1;31mKeyError\u001b[0m: 'was_fire_Probability'",
      "\nThe above exception was the direct cause of the following exception:\n",
      "\u001b[1;31mKeyError\u001b[0m                                  Traceback (most recent call last)",
      "\u001b[1;32m~\\AppData\\Local\\Temp\\ipykernel_12604\\1810612307.py\u001b[0m in \u001b[0;36m<module>\u001b[1;34m\u001b[0m\n\u001b[0;32m      2\u001b[0m \u001b[0mfig\u001b[0m\u001b[1;33m,\u001b[0m\u001b[0max\u001b[0m \u001b[1;33m=\u001b[0m \u001b[0mplt\u001b[0m\u001b[1;33m.\u001b[0m\u001b[0msubplots\u001b[0m\u001b[1;33m(\u001b[0m\u001b[1;33m)\u001b[0m\u001b[1;33m\u001b[0m\u001b[1;33m\u001b[0m\u001b[0m\n\u001b[0;32m      3\u001b[0m \u001b[1;33m\u001b[0m\u001b[0m\n\u001b[1;32m----> 4\u001b[1;33m \u001b[0max\u001b[0m\u001b[1;33m.\u001b[0m\u001b[0mhist\u001b[0m\u001b[1;33m(\u001b[0m\u001b[0mdf_testing_was_fire\u001b[0m\u001b[1;33m[\u001b[0m\u001b[1;34m'was_fire_Probability'\u001b[0m\u001b[1;33m]\u001b[0m\u001b[1;33m)\u001b[0m\u001b[1;33m\u001b[0m\u001b[1;33m\u001b[0m\u001b[0m\n\u001b[0m\u001b[0;32m      5\u001b[0m \u001b[0max\u001b[0m\u001b[1;33m.\u001b[0m\u001b[0mset_ylabel\u001b[0m\u001b[1;33m(\u001b[0m\u001b[1;34m'Count'\u001b[0m\u001b[1;33m)\u001b[0m\u001b[1;33m\u001b[0m\u001b[1;33m\u001b[0m\u001b[0m\n\u001b[0;32m      6\u001b[0m \u001b[0max\u001b[0m\u001b[1;33m.\u001b[0m\u001b[0mset_xlabel\u001b[0m\u001b[1;33m(\u001b[0m\u001b[1;34m'Probability'\u001b[0m\u001b[1;33m)\u001b[0m\u001b[1;33m\u001b[0m\u001b[1;33m\u001b[0m\u001b[0m\n",
      "\u001b[1;32m~\\AppData\\Local\\miniconda3\\envs\\p37\\lib\\site-packages\\pandas\\core\\frame.py\u001b[0m in \u001b[0;36m__getitem__\u001b[1;34m(self, key)\u001b[0m\n\u001b[0;32m   3456\u001b[0m             \u001b[1;32mif\u001b[0m \u001b[0mself\u001b[0m\u001b[1;33m.\u001b[0m\u001b[0mcolumns\u001b[0m\u001b[1;33m.\u001b[0m\u001b[0mnlevels\u001b[0m \u001b[1;33m>\u001b[0m \u001b[1;36m1\u001b[0m\u001b[1;33m:\u001b[0m\u001b[1;33m\u001b[0m\u001b[1;33m\u001b[0m\u001b[0m\n\u001b[0;32m   3457\u001b[0m                 \u001b[1;32mreturn\u001b[0m \u001b[0mself\u001b[0m\u001b[1;33m.\u001b[0m\u001b[0m_getitem_multilevel\u001b[0m\u001b[1;33m(\u001b[0m\u001b[0mkey\u001b[0m\u001b[1;33m)\u001b[0m\u001b[1;33m\u001b[0m\u001b[1;33m\u001b[0m\u001b[0m\n\u001b[1;32m-> 3458\u001b[1;33m             \u001b[0mindexer\u001b[0m \u001b[1;33m=\u001b[0m \u001b[0mself\u001b[0m\u001b[1;33m.\u001b[0m\u001b[0mcolumns\u001b[0m\u001b[1;33m.\u001b[0m\u001b[0mget_loc\u001b[0m\u001b[1;33m(\u001b[0m\u001b[0mkey\u001b[0m\u001b[1;33m)\u001b[0m\u001b[1;33m\u001b[0m\u001b[1;33m\u001b[0m\u001b[0m\n\u001b[0m\u001b[0;32m   3459\u001b[0m             \u001b[1;32mif\u001b[0m \u001b[0mis_integer\u001b[0m\u001b[1;33m(\u001b[0m\u001b[0mindexer\u001b[0m\u001b[1;33m)\u001b[0m\u001b[1;33m:\u001b[0m\u001b[1;33m\u001b[0m\u001b[1;33m\u001b[0m\u001b[0m\n\u001b[0;32m   3460\u001b[0m                 \u001b[0mindexer\u001b[0m \u001b[1;33m=\u001b[0m \u001b[1;33m[\u001b[0m\u001b[0mindexer\u001b[0m\u001b[1;33m]\u001b[0m\u001b[1;33m\u001b[0m\u001b[1;33m\u001b[0m\u001b[0m\n",
      "\u001b[1;32m~\\AppData\\Local\\miniconda3\\envs\\p37\\lib\\site-packages\\pandas\\core\\indexes\\base.py\u001b[0m in \u001b[0;36mget_loc\u001b[1;34m(self, key, method, tolerance)\u001b[0m\n\u001b[0;32m   3361\u001b[0m                 \u001b[1;32mreturn\u001b[0m \u001b[0mself\u001b[0m\u001b[1;33m.\u001b[0m\u001b[0m_engine\u001b[0m\u001b[1;33m.\u001b[0m\u001b[0mget_loc\u001b[0m\u001b[1;33m(\u001b[0m\u001b[0mcasted_key\u001b[0m\u001b[1;33m)\u001b[0m\u001b[1;33m\u001b[0m\u001b[1;33m\u001b[0m\u001b[0m\n\u001b[0;32m   3362\u001b[0m             \u001b[1;32mexcept\u001b[0m \u001b[0mKeyError\u001b[0m \u001b[1;32mas\u001b[0m \u001b[0merr\u001b[0m\u001b[1;33m:\u001b[0m\u001b[1;33m\u001b[0m\u001b[1;33m\u001b[0m\u001b[0m\n\u001b[1;32m-> 3363\u001b[1;33m                 \u001b[1;32mraise\u001b[0m \u001b[0mKeyError\u001b[0m\u001b[1;33m(\u001b[0m\u001b[0mkey\u001b[0m\u001b[1;33m)\u001b[0m \u001b[1;32mfrom\u001b[0m \u001b[0merr\u001b[0m\u001b[1;33m\u001b[0m\u001b[1;33m\u001b[0m\u001b[0m\n\u001b[0m\u001b[0;32m   3364\u001b[0m \u001b[1;33m\u001b[0m\u001b[0m\n\u001b[0;32m   3365\u001b[0m         \u001b[1;32mif\u001b[0m \u001b[0mis_scalar\u001b[0m\u001b[1;33m(\u001b[0m\u001b[0mkey\u001b[0m\u001b[1;33m)\u001b[0m \u001b[1;32mand\u001b[0m \u001b[0misna\u001b[0m\u001b[1;33m(\u001b[0m\u001b[0mkey\u001b[0m\u001b[1;33m)\u001b[0m \u001b[1;32mand\u001b[0m \u001b[1;32mnot\u001b[0m \u001b[0mself\u001b[0m\u001b[1;33m.\u001b[0m\u001b[0mhasnans\u001b[0m\u001b[1;33m:\u001b[0m\u001b[1;33m\u001b[0m\u001b[1;33m\u001b[0m\u001b[0m\n",
      "\u001b[1;31mKeyError\u001b[0m: 'was_fire_Probability'"
     ]
    },
    {
     "data": {
      "image/png": "[encoded data removed]",
      "text/plain": [
       "<Figure size 640x480 with 1 Axes>"
      ]
     },
     "metadata": {},
     "output_type": "display_data"
    }
   ],
   "source": [
    "%matplotlib inline\n",
    "fig,ax = plt.subplots()\n",
    "\n",
    "ax.hist(df_testing_was_fire['was_fire_Probability'])\n",
    "ax.set_ylabel('Count')\n",
    "ax.set_xlabel('Probability')\n",
    "ax.set_title('Histogram of predicted probability of at least one casualty - testing dataset (FENZ)')\n",
    "\n",
    "plt.show()"
   ]
  }
 ],
 "metadata": {
  "kernelspec": {
   "display_name": "Python 3 (ipykernel)",
   "language": "python",
   "name": "python3"
  },
  "language_info": {
   "codemirror_mode": {
    "name": "ipython",
    "version": 3
   },
   "file_extension": ".py",
   "mimetype": "text/x-python",
   "name": "python",
   "nbconvert_exporter": "python",
   "pygments_lexer": "ipython3",
   "version": "3.7.16"
  }
 },
 "nbformat": 4,
 "nbformat_minor": 5
}
